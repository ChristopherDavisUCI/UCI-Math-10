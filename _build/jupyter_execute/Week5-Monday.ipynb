{
 "cells": [
  {
   "cell_type": "markdown",
   "id": "9f9c5eee",
   "metadata": {},
   "source": [
    "# Sample code from *Hands-On Machine Learning*\n",
    "One of the best ways to learn to code is to read and understand code written by experienced programmers.  \n",
    "\n",
    "This code comes from the book *Hands-On Machine Learning with Scikit-Learn, Keras, and TensorFlow, 2nd Edition* by Aurélien Géron.  From the UC Irvine campus (or using VPN), the book can be accessed through [O'Reilly textbooks](https://www.oreilly.com/library/view/temporary-access/).  The code was copied from the corresponding [GitHub page](https://github.com/ageron/handson-ml2).  Some small modifications have been made to incorporate additional Math 10 material.  (Here is the [License](https://github.com/ageron/handson-ml2/blob/master/LICENSE).)"
   ]
  },
  {
   "cell_type": "markdown",
   "id": "c4deb40e",
   "metadata": {},
   "source": [
    "## Worksheet assignment\n",
    "You can download this notebook by clicking the link at the top right of the page, and then right-clicking on the `.ipynb` option.  You need to download this notebook so you can evaluate this code yourself.\n",
    "\n",
    "Take notes on one of the notecards distributed in class.  The notes can be anything you think is useful from this code.  The notes could be things like: what are the different modules used for?  What is the syntax for plotting in Seaborn vs Matplotlib?\n",
    "\n",
    "The notes should include a description of how to perform linear regression using scikit-learn.\n",
    "\n",
    "Write the **names** of everyone in your group at the top of the notecard.\n",
    "\n",
    "Upload a picture of the notecard to Canvas.  (If you don't receive a notecard, you can take notes on an ordinary sheet of paper.)\n",
    "\n",
    "**Remark**: You are allowed to use a (different) notecard with notes during the midterm.  So while you are taking notes, be thinking about what sort of material would be useful for the midterm."
   ]
  },
  {
   "cell_type": "markdown",
   "id": "bced95c9",
   "metadata": {},
   "source": [
    "## Advice\n",
    "\n",
    "Don't be intimidated if some of this material looks very unfamiliar.  Almost all code looks unfamiliar the first time you see it.  Even if you return to some of your earlier Math 10 assignments, the code *you* wrote might also look confusing."
   ]
  },
  {
   "cell_type": "markdown",
   "id": "585adde0",
   "metadata": {},
   "source": [
    "## Preparing the data"
   ]
  },
  {
   "cell_type": "code",
   "execution_count": null,
   "id": "81ebb36d",
   "metadata": {},
   "outputs": [],
   "source": [
    "import os\n",
    "import urllib.request\n",
    "\n",
    "import numpy as np\n",
    "import pandas as pd\n",
    "\n",
    "import matplotlib.pyplot as plt\n",
    "import seaborn as sns\n",
    "import altair as alt\n",
    "\n",
    "import sklearn\n",
    "import sklearn.linear_model"
   ]
  },
  {
   "cell_type": "code",
   "execution_count": null,
   "id": "b23c943e",
   "metadata": {},
   "outputs": [],
   "source": [
    "assert sklearn.__version__ >= \"0.20\""
   ]
  },
  {
   "cell_type": "code",
   "execution_count": null,
   "id": "6a7ee4d4",
   "metadata": {},
   "outputs": [],
   "source": [
    "os.getcwd()"
   ]
  },
  {
   "cell_type": "code",
   "execution_count": null,
   "id": "b3668deb",
   "metadata": {},
   "outputs": [],
   "source": [
    "datapath = os.path.join(\"datasets\", \"lifesat\", \"\")"
   ]
  },
  {
   "cell_type": "code",
   "execution_count": null,
   "id": "7af29440",
   "metadata": {},
   "outputs": [],
   "source": [
    "DOWNLOAD_ROOT = \"https://raw.githubusercontent.com/ageron/handson-ml2/master/\"\n",
    "os.makedirs(datapath, exist_ok=True)\n",
    "for filename in (\"oecd_bli_2015.csv\", \"gdp_per_capita.csv\"):\n",
    "    print(f\"Downloading {filename}\")\n",
    "    url = DOWNLOAD_ROOT + \"datasets/lifesat/\" + filename\n",
    "    urllib.request.urlretrieve(url, datapath + filename)"
   ]
  },
  {
   "cell_type": "code",
   "execution_count": null,
   "id": "657e30c1",
   "metadata": {},
   "outputs": [],
   "source": [
    "os.listdir(datapath)"
   ]
  },
  {
   "cell_type": "code",
   "execution_count": null,
   "id": "e3735ca6",
   "metadata": {},
   "outputs": [],
   "source": [
    "oecd_bli = pd.read_csv(datapath + \"oecd_bli_2015.csv\", thousands=',')\n",
    "gdp_per_capita = pd.read_csv(datapath + \"gdp_per_capita.csv\",thousands=',',delimiter='\\t',\n",
    "                             encoding='latin1', na_values=\"n/a\")"
   ]
  },
  {
   "cell_type": "markdown",
   "id": "9c167a44",
   "metadata": {},
   "source": [
    "The next function `prepare_country_stats` is a little more complicated than the rest of the code, so focus on the rest of the code before returning to this function."
   ]
  },
  {
   "cell_type": "code",
   "execution_count": null,
   "id": "95977b89",
   "metadata": {},
   "outputs": [],
   "source": [
    "def prepare_country_stats(oecd_bli, gdp_per_capita):\n",
    "    oecd_bli = oecd_bli[oecd_bli[\"INEQUALITY\"]==\"TOT\"]\n",
    "    oecd_bli = oecd_bli.pivot(index=\"Country\", columns=\"Indicator\", values=\"Value\")\n",
    "    gdp_per_capita.rename(columns={\"2015\": \"GDP per capita\"}, inplace=True)\n",
    "    try:\n",
    "        gdp_per_capita.set_index(\"Country\", inplace=True)\n",
    "    except KeyError:\n",
    "        pass\n",
    "    full_country_stats = pd.merge(left=oecd_bli, right=gdp_per_capita,\n",
    "                                  left_index=True, right_index=True)\n",
    "    full_country_stats.sort_values(by=\"GDP per capita\", inplace=True)\n",
    "    remove_indices = [0, 1, 6, 8, 33, 34, 35]\n",
    "    keep_indices = list(set(range(36)) - set(remove_indices))\n",
    "    return full_country_stats[[\"GDP per capita\", 'Life satisfaction']].iloc[keep_indices]"
   ]
  },
  {
   "cell_type": "code",
   "execution_count": null,
   "id": "5cd5cf58",
   "metadata": {},
   "outputs": [],
   "source": [
    "country_stats = prepare_country_stats(oecd_bli, gdp_per_capita)"
   ]
  },
  {
   "cell_type": "markdown",
   "id": "de908c77",
   "metadata": {},
   "source": [
    "Getting data for the *predictor* (input) variable $X$ and the *target* (output) variable $y$."
   ]
  },
  {
   "cell_type": "code",
   "execution_count": null,
   "id": "e7eedbf6",
   "metadata": {},
   "outputs": [],
   "source": [
    "X = np.c_[country_stats[\"GDP per capita\"]]\n",
    "y = np.c_[country_stats[\"Life satisfaction\"]]"
   ]
  },
  {
   "cell_type": "markdown",
   "id": "2705409c",
   "metadata": {},
   "source": [
    "## Linear regression with scikit-learn"
   ]
  },
  {
   "cell_type": "code",
   "execution_count": null,
   "id": "768ff2fa",
   "metadata": {},
   "outputs": [],
   "source": [
    "# Select a linear model\n",
    "model = sklearn.linear_model.LinearRegression()\n",
    "\n",
    "# Train the model\n",
    "model.fit(X, y)\n",
    "\n",
    "# Make a prediction for Cyprus\n",
    "X_new = [[22587]]  # Cyprus' GDP per capita\n",
    "print(model.predict(X_new)) # outputs [[ 5.96242338]]"
   ]
  },
  {
   "cell_type": "markdown",
   "id": "6fb12d4a",
   "metadata": {},
   "source": [
    "## Four examples of plotting the data"
   ]
  },
  {
   "cell_type": "code",
   "execution_count": null,
   "id": "a14cec4a",
   "metadata": {},
   "outputs": [],
   "source": [
    "# Altair\n",
    "alt.Chart(country_stats).mark_circle().encode(\n",
    "    x = \"GDP per capita\",\n",
    "    y = \"Life satisfaction\"\n",
    ")"
   ]
  },
  {
   "cell_type": "code",
   "execution_count": null,
   "id": "5543ca8e",
   "metadata": {},
   "outputs": [],
   "source": [
    "# Matplotlib\n",
    "fig, ax = plt.subplots()\n",
    "ax.scatter(X,y)"
   ]
  },
  {
   "cell_type": "code",
   "execution_count": null,
   "id": "d2ae5d92",
   "metadata": {},
   "outputs": [],
   "source": [
    "# Seaborn\n",
    "sns.scatterplot(data=country_stats, x=\"GDP per capita\", y = \"Life satisfaction\")"
   ]
  },
  {
   "cell_type": "code",
   "execution_count": null,
   "id": "d066df2a",
   "metadata": {},
   "outputs": [],
   "source": [
    "# pandas\n",
    "country_stats.plot(kind='scatter', x=\"GDP per capita\", y='Life satisfaction')"
   ]
  }
 ],
 "metadata": {
  "kernelspec": {
   "display_name": "Python 3 (ipykernel)",
   "language": "python",
   "name": "python3"
  },
  "language_info": {
   "codemirror_mode": {
    "name": "ipython",
    "version": 3
   },
   "file_extension": ".py",
   "mimetype": "text/x-python",
   "name": "python",
   "nbconvert_exporter": "python",
   "pygments_lexer": "ipython3",
   "version": "3.8.12"
  }
 },
 "nbformat": 4,
 "nbformat_minor": 5
}