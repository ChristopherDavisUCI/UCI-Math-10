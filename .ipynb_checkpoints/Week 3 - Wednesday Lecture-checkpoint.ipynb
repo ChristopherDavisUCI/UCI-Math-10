{
 "cells": [
  {
   "cell_type": "markdown",
   "id": "ef25aabf",
   "metadata": {},
   "source": [
    "<p style=\"color:red\">Remember to start recording</p>"
   ]
  },
  {
   "cell_type": "markdown",
   "id": "bf75516f",
   "metadata": {},
   "source": [
    "# Week 3 - Wednesday Lecture"
   ]
  },
  {
   "cell_type": "code",
   "execution_count": 14,
   "id": "0f31e6d6",
   "metadata": {},
   "outputs": [],
   "source": [
    "import pandas as pd\n",
    "import numpy as np\n",
    "import altair as alt\n",
    "rng = np.random.default_rng()"
   ]
  },
  {
   "cell_type": "code",
   "execution_count": 15,
   "id": "9559ff99",
   "metadata": {},
   "outputs": [],
   "source": [
    "# Change the path if necessary\n",
    "# Doing some small \"data cleaning\": converting some columns from strings to numbers.\n",
    "df = pd.read_csv(\"data/spotify_dataset.csv\")\n",
    "df = df.replace(\" \",np.nan)\n",
    "df[\"Streams\"] = df[\"Streams\"].str.replace(\",\",\"\")\n",
    "df.iloc[:,[5,7]] = df.iloc[:,[5,7]].apply(pd.to_numeric,axis=0).copy()\n",
    "df.iloc[:,12:22] = df.iloc[:,12:22].apply(pd.to_numeric,axis=0).copy()"
   ]
  },
  {
   "cell_type": "code",
   "execution_count": 8,
   "id": "23a4164c",
   "metadata": {},
   "outputs": [
    {
     "data": {
      "text/plain": [
       "array([93, 90, 91, 37, 21, 74, 69, 43,  6, 99, 30, 13,  5, 56, 49, 33, 14,\n",
       "       84, 18, 77, 57,  5, 51, 19, 18, 70, 97, 79,  5, 41, 40,  9, 51, 97,\n",
       "       67, 27, 69, 56, 74, 45, 34, 22, 71, 73, 87, 52, 31, 67, 70, 74])"
      ]
     },
     "execution_count": 8,
     "metadata": {},
     "output_type": "execute_result"
    }
   ],
   "source": [
    "A = rng.integers(0,100,size=50)\n",
    "A"
   ]
  },
  {
   "cell_type": "markdown",
   "id": "b456b2e2",
   "metadata": {},
   "source": [
    "## not and or\n",
    "In standard Python, these are spelled out:\n",
    "* `not True`\n",
    "* `True and False`\n",
    "* `True or True`\n",
    "\n",
    "In NumPy and pandas, they are abbreviated:\n",
    "* `~A`\n",
    "* `A & B`\n",
    "* `A | B`"
   ]
  },
  {
   "cell_type": "code",
   "execution_count": 16,
   "id": "b145b078",
   "metadata": {},
   "outputs": [
    {
     "data": {
      "text/plain": [
       "False"
      ]
     },
     "execution_count": 16,
     "metadata": {},
     "output_type": "execute_result"
    }
   ],
   "source": [
    "not True"
   ]
  },
  {
   "cell_type": "code",
   "execution_count": 17,
   "id": "2bfd299d",
   "metadata": {},
   "outputs": [
    {
     "data": {
      "text/plain": [
       "True"
      ]
     },
     "execution_count": 17,
     "metadata": {},
     "output_type": "execute_result"
    }
   ],
   "source": [
    "3 != 5"
   ]
  },
  {
   "cell_type": "code",
   "execution_count": 18,
   "id": "38618006",
   "metadata": {},
   "outputs": [
    {
     "data": {
      "text/plain": [
       "False"
      ]
     },
     "execution_count": 18,
     "metadata": {},
     "output_type": "execute_result"
    }
   ],
   "source": [
    "not (3 == 3)"
   ]
  },
  {
   "cell_type": "code",
   "execution_count": 3,
   "id": "0648da0c",
   "metadata": {},
   "outputs": [
    {
     "name": "stdout",
     "output_type": "stream",
     "text": [
      "True and True is True\n",
      "True and False is False\n",
      "False and True is False\n",
      "False and False is False\n"
     ]
    }
   ],
   "source": [
    "for a in [True, False]:\n",
    "    for b in [True, False]:\n",
    "        print(f\"{a} and {b} is {a and b}\")"
   ]
  },
  {
   "cell_type": "code",
   "execution_count": 11,
   "id": "6db51119",
   "metadata": {},
   "outputs": [
    {
     "name": "stdout",
     "output_type": "stream",
     "text": [
      "True or True is True\n",
      "True or False is True\n",
      "False or True is True\n",
      "False or False is False\n"
     ]
    }
   ],
   "source": [
    "for a in [True, False]:\n",
    "    for b in [True, False]:\n",
    "        print(f\"{a} or {b} is {a or b}\")"
   ]
  },
  {
   "cell_type": "markdown",
   "id": "959b55ee",
   "metadata": {},
   "source": [
    "* Make a list consisting of integers from A between 25 and 50, using list comprehension.\n",
    "* Make an array consisting of integers from A between 25 and 50 using NumPy comparisons.\n",
    "* Get the sub-dataframe of df consisting of songs with popularity > 60 and danceability < 0.4.  Call the result `sub_df`.  (Check: its shape should be 46 by 23.)\n",
    "* Make a new column in `sub_df` with the name \"temp\" and filled with all 4s.\n",
    "* Among those 46 songs, what are the three loudest?  Can you get those three into a list using Python?"
   ]
  },
  {
   "cell_type": "code",
   "execution_count": 9,
   "id": "00cda546",
   "metadata": {},
   "outputs": [
    {
     "data": {
      "text/plain": [
       "[37, 43, 30, 49, 33, 41, 40, 27, 45, 34, 31]"
      ]
     },
     "execution_count": 9,
     "metadata": {},
     "output_type": "execute_result"
    }
   ],
   "source": [
    "[x for x in A if x > 25 and x < 50]"
   ]
  },
  {
   "cell_type": "code",
   "execution_count": 10,
   "id": "a4b27723",
   "metadata": {},
   "outputs": [
    {
     "data": {
      "text/plain": [
       "array([37, 43, 30, 49, 33, 41, 40, 27, 45, 34, 31])"
      ]
     },
     "execution_count": 10,
     "metadata": {},
     "output_type": "execute_result"
    }
   ],
   "source": [
    "A[(A > 25) & (A < 50)]"
   ]
  },
  {
   "cell_type": "code",
   "execution_count": 52,
   "id": "58bf9e85",
   "metadata": {},
   "outputs": [],
   "source": [
    "df_sub = df.loc[(df[\"Popularity\"] > 60) & (df[\"Danceability\"] < 0.4)]"
   ]
  },
  {
   "cell_type": "code",
   "execution_count": 53,
   "id": "7e461292",
   "metadata": {},
   "outputs": [
    {
     "data": {
      "text/plain": [
       "(46, 23)"
      ]
     },
     "execution_count": 53,
     "metadata": {},
     "output_type": "execute_result"
    }
   ],
   "source": [
    "df_sub.shape"
   ]
  },
  {
   "cell_type": "code",
   "execution_count": 54,
   "id": "45d48ed5",
   "metadata": {},
   "outputs": [
    {
     "name": "stderr",
     "output_type": "stream",
     "text": [
      "/var/folders/8j/gshrlmtn7dg4qtztj4d4t_w40000gn/T/ipykernel_78055/2685596263.py:2: SettingWithCopyWarning: \n",
      "A value is trying to be set on a copy of a slice from a DataFrame.\n",
      "Try using .loc[row_indexer,col_indexer] = value instead\n",
      "\n",
      "See the caveats in the documentation: https://pandas.pydata.org/pandas-docs/stable/user_guide/indexing.html#returning-a-view-versus-a-copy\n",
      "  df_sub[\"temp\"] = 4\n"
     ]
    }
   ],
   "source": [
    "# Notice how you probably get a warning!  Could fix it using .copy()\n",
    "df_sub[\"temp\"] = 4"
   ]
  },
  {
   "cell_type": "code",
   "execution_count": 41,
   "id": "ed585061",
   "metadata": {},
   "outputs": [],
   "source": [
    "top3 = df_sub.sort_values(\"Loudness\",ascending=False).iloc[:3]"
   ]
  },
  {
   "cell_type": "code",
   "execution_count": 42,
   "id": "75ea05bd",
   "metadata": {},
   "outputs": [
    {
     "data": {
      "text/plain": [
       "['Bring Me The Horizon', 'The Killers', 'Oasis']"
      ]
     },
     "execution_count": 42,
     "metadata": {},
     "output_type": "execute_result"
    }
   ],
   "source": [
    "list(top3[\"Artist\"])"
   ]
  },
  {
   "cell_type": "markdown",
   "id": "ac1bd867",
   "metadata": {},
   "source": [
    "## Altair"
   ]
  },
  {
   "cell_type": "markdown",
   "id": "b28a2c97",
   "metadata": {},
   "source": [
    "* Using Altair, make a scatter plot including all the songs with popularity > 0.6 and danceability < 0.4.  Use energy for the x-axis, popularity for the y-axis, and loudness for the color.  Include a tooltip for song name and artist.\n",
    "* How many points are in that scatter plot?"
   ]
  },
  {
   "cell_type": "code",
   "execution_count": 45,
   "id": "a975e7b0",
   "metadata": {},
   "outputs": [
    {
     "data": {
      "text/html": [
       "\n",
       "<div id=\"altair-viz-c6a80841fa9640ab8176e130059f1cba\"></div>\n",
       "<script type=\"text/javascript\">\n",
       "  (function(spec, embedOpt){\n",
       "    let outputDiv = document.currentScript.previousElementSibling;\n",
       "    if (outputDiv.id !== \"altair-viz-c6a80841fa9640ab8176e130059f1cba\") {\n",
       "      outputDiv = document.getElementById(\"altair-viz-c6a80841fa9640ab8176e130059f1cba\");\n",
       "    }\n",
       "    const paths = {\n",
       "      \"vega\": \"https://cdn.jsdelivr.net/npm//vega@5?noext\",\n",
       "      \"vega-lib\": \"https://cdn.jsdelivr.net/npm//vega-lib?noext\",\n",
       "      \"vega-lite\": \"https://cdn.jsdelivr.net/npm//vega-lite@4.8.1?noext\",\n",
       "      \"vega-embed\": \"https://cdn.jsdelivr.net/npm//vega-embed@6?noext\",\n",
       "    };\n",
       "\n",
       "    function loadScript(lib) {\n",
       "      return new Promise(function(resolve, reject) {\n",
       "        var s = document.createElement('script');\n",
       "        s.src = paths[lib];\n",
       "        s.async = true;\n",
       "        s.onload = () => resolve(paths[lib]);\n",
       "        s.onerror = () => reject(`Error loading script: ${paths[lib]}`);\n",
       "        document.getElementsByTagName(\"head\")[0].appendChild(s);\n",
       "      });\n",
       "    }\n",
       "\n",
       "    function showError(err) {\n",
       "      outputDiv.innerHTML = `<div class=\"error\" style=\"color:red;\">${err}</div>`;\n",
       "      throw err;\n",
       "    }\n",
       "\n",
       "    function displayChart(vegaEmbed) {\n",
       "      vegaEmbed(outputDiv, spec, embedOpt)\n",
       "        .catch(err => showError(`Javascript Error: ${err.message}<br>This usually means there's a typo in your chart specification. See the javascript console for the full traceback.`));\n",
       "    }\n",
       "\n",
       "    if(typeof define === \"function\" && define.amd) {\n",
       "      requirejs.config({paths});\n",
       "      require([\"vega-embed\"], displayChart, err => showError(`Error loading script: ${err.message}`));\n",
       "    } else if (typeof vegaEmbed === \"function\") {\n",
       "      displayChart(vegaEmbed);\n",
       "    } else {\n",
       "      loadScript(\"vega\")\n",
       "        .then(() => loadScript(\"vega-lite\"))\n",
       "        .then(() => loadScript(\"vega-embed\"))\n",
       "        .catch(showError)\n",
       "        .then(() => displayChart(vegaEmbed));\n",
       "    }\n",
       "  })({\"config\": {\"view\": {\"continuousWidth\": 400, \"continuousHeight\": 300}}, \"data\": {\"name\": \"data-32a395d590bab7ed62bb7eb868f664b1\"}, \"mark\": \"circle\", \"encoding\": {\"color\": {\"type\": \"quantitative\", \"field\": \"Loudness\"}, \"tooltip\": [{\"type\": \"nominal\", \"field\": \"Artist\"}, {\"type\": \"nominal\", \"field\": \"Song Name\"}], \"x\": {\"type\": \"quantitative\", \"field\": \"Energy\"}, \"y\": {\"type\": \"quantitative\", \"field\": \"Popularity\", \"scale\": {\"zero\": false}}}, \"$schema\": \"https://vega.github.io/schema/vega-lite/v4.8.1.json\", \"datasets\": {\"data-32a395d590bab7ed62bb7eb868f664b1\": [{\"Index\": 16, \"Highest Charting Position\": 7, \"Number of Times Charted\": 10, \"Week of Highest Charting\": \"2021-05-21--2021-05-28\", \"Song Name\": \"traitor\", \"Streams\": 19480679, \"Artist\": \"Olivia Rodrigo\", \"Artist Followers\": 6266514.0, \"Song ID\": \"5CZ40GBx1sQ9agT82CLQCT\", \"Genre\": \"['pop']\", \"Release Date\": \"2021-05-21\", \"Weeks Charted\": \"2021-07-23--2021-07-30\\n2021-07-16--2021-07-23\\n2021-07-09--2021-07-16\\n2021-07-02--2021-07-09\\n2021-06-25--2021-07-02\\n2021-06-18--2021-06-25\\n2021-06-11--2021-06-18\\n2021-06-04--2021-06-11\\n2021-05-28--2021-06-04\\n2021-05-21--2021-05-28\", \"Popularity\": 94.0, \"Danceability\": 0.38, \"Energy\": 0.339, \"Loudness\": -7.885, \"Speechiness\": 0.0338, \"Acousticness\": 0.691, \"Liveness\": 0.12, \"Tempo\": 100.607, \"Duration (ms)\": 229227.0, \"Valence\": 0.0849, \"Chord\": \"D#/Eb\", \"a\": 3, \"temp\": 4}, {\"Index\": 26, \"Highest Charting Position\": 12, \"Number of Times Charted\": 10, \"Week of Highest Charting\": \"2021-05-21--2021-05-28\", \"Song Name\": \"happier\", \"Streams\": 14849078, \"Artist\": \"Olivia Rodrigo\", \"Artist Followers\": 6266514.0, \"Song ID\": \"2tGvwE8GcFKwNdAXMnlbfl\", \"Genre\": \"['pop']\", \"Release Date\": \"2021-05-21\", \"Weeks Charted\": \"2021-07-23--2021-07-30\\n2021-07-16--2021-07-23\\n2021-07-09--2021-07-16\\n2021-07-02--2021-07-09\\n2021-06-25--2021-07-02\\n2021-06-18--2021-06-25\\n2021-06-11--2021-06-18\\n2021-06-04--2021-06-11\\n2021-05-28--2021-06-04\\n2021-05-21--2021-05-28\", \"Popularity\": 92.0, \"Danceability\": 0.395, \"Energy\": 0.443, \"Loudness\": -9.72, \"Speechiness\": 0.133, \"Acousticness\": 0.765, \"Liveness\": 0.0839, \"Tempo\": 168.924, \"Duration (ms)\": 175933.0, \"Valence\": 0.338, \"Chord\": \"F#/Gb\", \"a\": 3, \"temp\": 4}, {\"Index\": 33, \"Highest Charting Position\": 11, \"Number of Times Charted\": 10, \"Week of Highest Charting\": \"2021-05-28--2021-06-04\", \"Song Name\": \"favorite crime\", \"Streams\": 12818935, \"Artist\": \"Olivia Rodrigo\", \"Artist Followers\": 6266514.0, \"Song ID\": \"5JCoSi02qi3jJeHdZXMmR8\", \"Genre\": \"['pop']\", \"Release Date\": \"2021-05-21\", \"Weeks Charted\": \"2021-07-23--2021-07-30\\n2021-07-16--2021-07-23\\n2021-07-09--2021-07-16\\n2021-07-02--2021-07-09\\n2021-06-25--2021-07-02\\n2021-06-18--2021-06-25\\n2021-06-11--2021-06-18\\n2021-06-04--2021-06-11\\n2021-05-28--2021-06-04\\n2021-05-21--2021-05-28\", \"Popularity\": 91.0, \"Danceability\": 0.369, \"Energy\": 0.272, \"Loudness\": -10.497, \"Speechiness\": 0.0364, \"Acousticness\": 0.866, \"Liveness\": 0.147, \"Tempo\": 172.929, \"Duration (ms)\": 152667.0, \"Valence\": 0.218, \"Chord\": \"A\", \"a\": 3, \"temp\": 4}, {\"Index\": 56, \"Highest Charting Position\": 56, \"Number of Times Charted\": 13, \"Week of Highest Charting\": \"2021-07-23--2021-07-30\", \"Song Name\": \"Freaks\", \"Streams\": 9319465, \"Artist\": \"Surf Curse\", \"Artist Followers\": 495226.0, \"Song ID\": \"7EkWXAI1wn8Ii883ecd9xr\", \"Genre\": \"['dreamo', 'indie surf', 'surf punk', 'vegas indie']\", \"Release Date\": \"2021-05-15\", \"Weeks Charted\": \"2021-07-23--2021-07-30\\n2021-07-16--2021-07-23\\n2021-07-09--2021-07-16\\n2021-07-02--2021-07-09\\n2021-06-25--2021-07-02\\n2021-06-18--2021-06-25\\n2021-06-11--2021-06-18\\n2021-06-04--2021-06-11\\n2021-05-28--2021-06-04\\n2021-05-21--2021-05-28\\n2021-05-14--2021-05-21\\n2021-05-07--2021-05-14\\n2021-04-30--2021-05-07\", \"Popularity\": 89.0, \"Danceability\": 0.345, \"Energy\": 0.941, \"Loudness\": -9.918, \"Speechiness\": 0.0466, \"Acousticness\": 3.84e-05, \"Liveness\": 0.0511, \"Tempo\": 179.626, \"Duration (ms)\": 147062.0, \"Valence\": 0.407, \"Chord\": \"A\", \"a\": 3, \"temp\": 4}, {\"Index\": 98, \"Highest Charting Position\": 60, \"Number of Times Charted\": 8, \"Week of Highest Charting\": \"2021-06-18--2021-06-25\", \"Song Name\": \"t r a n s p a r e n t s o u l feat. Travis Barker\", \"Streams\": 6853994, \"Artist\": \"WILLOW\", \"Artist Followers\": 1521837.0, \"Song ID\": \"1QL7nSDZCwZMnbisV4KOXt\", \"Genre\": \"['afrofuturism', 'dance pop', 'electropop', 'pop', 'pop rap', 'post-teen pop']\", \"Release Date\": \"2021-04-27\", \"Weeks Charted\": \"2021-07-23--2021-07-30\\n2021-07-16--2021-07-23\\n2021-07-09--2021-07-16\\n2021-07-02--2021-07-09\\n2021-06-25--2021-07-02\\n2021-06-18--2021-06-25\\n2021-06-11--2021-06-18\\n2021-06-04--2021-06-11\", \"Popularity\": 85.0, \"Danceability\": 0.39, \"Energy\": 0.83, \"Loudness\": -5.201, \"Speechiness\": 0.0563, \"Acousticness\": 0.0021, \"Liveness\": 0.156, \"Tempo\": 90.021, \"Duration (ms)\": 168030.0, \"Valence\": 0.191, \"Chord\": \"B\", \"a\": 3, \"temp\": 4}, {\"Index\": 102, \"Highest Charting Position\": 85, \"Number of Times Charted\": 5, \"Week of Highest Charting\": \"2021-07-09--2021-07-16\", \"Song Name\": \"Reckless\", \"Streams\": 6711375, \"Artist\": \"Madison Beer\", \"Artist Followers\": 3363988.0, \"Song ID\": \"5ajjAnNRh8bxFvaVHzpPjh\", \"Genre\": \"['alt z', 'dance pop', 'electropop', 'pop', 'post-teen pop']\", \"Release Date\": \"2021-06-04\", \"Weeks Charted\": \"2021-07-23--2021-07-30\\n2021-07-16--2021-07-23\\n2021-07-09--2021-07-16\\n2021-07-02--2021-07-09\\n2021-06-25--2021-07-02\", \"Popularity\": 86.0, \"Danceability\": 0.386, \"Energy\": 0.426, \"Loudness\": -6.642, \"Speechiness\": 0.0363, \"Acousticness\": 0.807, \"Liveness\": 0.14, \"Tempo\": 180.104, \"Duration (ms)\": 203385.0, \"Valence\": 0.261, \"Chord\": \"D#/Eb\", \"a\": 3, \"temp\": 4}, {\"Index\": 111, \"Highest Charting Position\": 46, \"Number of Times Charted\": 83, \"Week of Highest Charting\": \"2020-04-17--2020-04-24\", \"Song Name\": \"lovely (with Khalid)\", \"Streams\": 6569547, \"Artist\": \"Billie Eilish\", \"Artist Followers\": 47014200.0, \"Song ID\": \"0u2P5u6lvoDfwTYjAADbn4\", \"Genre\": \"['electropop', 'pop']\", \"Release Date\": \"2018-04-19\", \"Weeks Charted\": \"2021-07-23--2021-07-30\\n2021-07-16--2021-07-23\\n2021-07-09--2021-07-16\\n2021-07-02--2021-07-09\\n2021-06-25--2021-07-02\\n2021-06-18--2021-06-25\\n2021-06-11--2021-06-18\\n2021-06-04--2021-06-11\\n2021-05-28--2021-06-04\\n2021-05-21--2021-05-28\\n2021-05-14--2021-05-21\\n2021-05-07--2021-05-14\\n2021-04-30--2021-05-07\\n2021-04-23--2021-04-30\\n2021-04-16--2021-04-23\\n2021-04-09--2021-04-16\\n2021-04-02--2021-04-09\\n2021-03-26--2021-04-02\\n2021-03-19--2021-03-26\\n2021-03-12--2021-03-19\\n2021-03-05--2021-03-12\\n2021-02-26--2021-03-05\\n2021-02-19--2021-02-26\\n2021-02-12--2021-02-19\\n2021-02-05--2021-02-12\\n2021-01-29--2021-02-05\\n2021-01-22--2021-01-29\\n2021-01-15--2021-01-22\\n2021-01-08--2021-01-15\\n2021-01-01--2021-01-08\\n2020-12-25--2021-01-01\\n2020-12-18--2020-12-25\\n2020-12-11--2020-12-18\\n2020-12-04--2020-12-11\\n2020-11-27--2020-12-04\\n2020-11-20--2020-11-27\\n2020-11-13--2020-11-20\\n2020-11-06--2020-11-13\\n2020-10-30--2020-11-06\\n2020-10-23--2020-10-30\\n2020-10-16--2020-10-23\\n2020-10-09--2020-10-16\\n2020-10-02--2020-10-09\\n2020-09-25--2020-10-02\\n2020-09-18--2020-09-25\\n2020-09-11--2020-09-18\\n2020-09-04--2020-09-11\\n2020-08-28--2020-09-04\\n2020-08-21--2020-08-28\\n2020-08-14--2020-08-21\\n2020-08-07--2020-08-14\\n2020-07-31--2020-08-07\\n2020-07-24--2020-07-31\\n2020-07-17--2020-07-24\\n2020-07-10--2020-07-17\\n2020-07-03--2020-07-10\\n2020-06-26--2020-07-03\\n2020-06-19--2020-06-26\\n2020-06-12--2020-06-19\\n2020-06-05--2020-06-12\\n2020-05-29--2020-06-05\\n2020-05-22--2020-05-29\\n2020-05-15--2020-05-22\\n2020-05-08--2020-05-15\\n2020-05-01--2020-05-08\\n2020-04-24--2020-05-01\\n2020-04-17--2020-04-24\\n2020-04-10--2020-04-17\\n2020-04-03--2020-04-10\\n2020-03-27--2020-04-03\\n2020-03-20--2020-03-27\\n2020-03-13--2020-03-20\\n2020-03-06--2020-03-13\\n2020-02-28--2020-03-06\\n2020-02-21--2020-02-28\\n2020-02-14--2020-02-21\\n2020-02-07--2020-02-14\\n2020-01-31--2020-02-07\\n2020-01-24--2020-01-31\\n2020-01-17--2020-01-24\\n2020-01-10--2020-01-17\\n2020-01-03--2020-01-10\\n2019-12-27--2020-01-03\", \"Popularity\": 86.0, \"Danceability\": 0.351, \"Energy\": 0.296, \"Loudness\": -10.109, \"Speechiness\": 0.0333, \"Acousticness\": 0.934, \"Liveness\": 0.095, \"Tempo\": 115.284, \"Duration (ms)\": 200186.0, \"Valence\": 0.12, \"Chord\": \"E\", \"a\": 3, \"temp\": 4}, {\"Index\": 124, \"Highest Charting Position\": 12, \"Number of Times Charted\": 53, \"Week of Highest Charting\": \"2020-09-04--2020-09-11\", \"Song Name\": \"Heather\", \"Streams\": 6164795, \"Artist\": \"Conan Gray\", \"Artist Followers\": 3794081.0, \"Song ID\": \"4xqrdfXkTW4T0RauPLv3WA\", \"Genre\": \"['alt z', 'bedroom pop', 'electropop', 'indie pop', 'pop', 'post-teen pop']\", \"Release Date\": \"2020-03-20\", \"Weeks Charted\": \"2021-07-23--2021-07-30\\n2021-07-16--2021-07-23\\n2021-07-09--2021-07-16\\n2021-07-02--2021-07-09\\n2021-06-25--2021-07-02\\n2021-06-18--2021-06-25\\n2021-06-11--2021-06-18\\n2021-06-04--2021-06-11\\n2021-05-28--2021-06-04\\n2021-05-21--2021-05-28\\n2021-05-14--2021-05-21\\n2021-05-07--2021-05-14\\n2021-04-30--2021-05-07\\n2021-04-23--2021-04-30\\n2021-04-16--2021-04-23\\n2021-04-09--2021-04-16\\n2021-04-02--2021-04-09\\n2021-03-26--2021-04-02\\n2021-03-19--2021-03-26\\n2021-03-12--2021-03-19\\n2021-03-05--2021-03-12\\n2021-02-26--2021-03-05\\n2021-02-19--2021-02-26\\n2021-02-12--2021-02-19\\n2021-02-05--2021-02-12\\n2021-01-29--2021-02-05\\n2021-01-22--2021-01-29\\n2021-01-15--2021-01-22\\n2021-01-08--2021-01-15\\n2021-01-01--2021-01-08\\n2020-12-25--2021-01-01\\n2020-12-18--2020-12-25\\n2020-12-11--2020-12-18\\n2020-12-04--2020-12-11\\n2020-11-27--2020-12-04\\n2020-11-20--2020-11-27\\n2020-11-13--2020-11-20\\n2020-11-06--2020-11-13\\n2020-10-30--2020-11-06\\n2020-10-23--2020-10-30\\n2020-10-16--2020-10-23\\n2020-10-09--2020-10-16\\n2020-10-02--2020-10-09\\n2020-09-25--2020-10-02\\n2020-09-18--2020-09-25\\n2020-09-11--2020-09-18\\n2020-09-04--2020-09-11\\n2020-08-28--2020-09-04\\n2020-08-21--2020-08-28\\n2020-08-14--2020-08-21\\n2020-08-07--2020-08-14\\n2020-07-31--2020-08-07\\n2020-07-24--2020-07-31\", \"Popularity\": 86.0, \"Danceability\": 0.357, \"Energy\": 0.425, \"Loudness\": -7.301, \"Speechiness\": 0.0333, \"Acousticness\": 0.584, \"Liveness\": 0.322, \"Tempo\": 102.078, \"Duration (ms)\": 198040.0, \"Valence\": 0.27, \"Chord\": \"F\", \"a\": 3, \"temp\": 4}, {\"Index\": 141, \"Highest Charting Position\": 141, \"Number of Times Charted\": 1, \"Week of Highest Charting\": \"2021-07-23--2021-07-30\", \"Song Name\": \"New Normal\", \"Streams\": 5768653, \"Artist\": \"Khalid\", \"Artist Followers\": 14187747.0, \"Song ID\": \"2CIYemjFXdmCWpJnfbtrD6\", \"Genre\": \"['pop']\", \"Release Date\": \"2021-07-21\", \"Weeks Charted\": \"2021-07-23--2021-07-30\", \"Popularity\": 79.0, \"Danceability\": 0.39, \"Energy\": 0.534, \"Loudness\": -9.575, \"Speechiness\": 0.0709, \"Acousticness\": 0.0807, \"Liveness\": 0.184, \"Tempo\": 92.047, \"Duration (ms)\": 198765.0, \"Valence\": 0.244, \"Chord\": \"C\", \"a\": 3, \"temp\": 4}, {\"Index\": 142, \"Highest Charting Position\": 81, \"Number of Times Charted\": 81, \"Week of Highest Charting\": \"2019-12-27--2020-01-03\", \"Song Name\": \"Bohemian Rhapsody - Remastered 2011\", \"Streams\": 5756583, \"Artist\": \"Queen\", \"Artist Followers\": 35888760.0, \"Song ID\": \"7tFiyTwD0nx5a1eklYtX2J\", \"Genre\": \"['classic rock', 'glam rock', 'rock']\", \"Release Date\": \"1975-11-21\", \"Weeks Charted\": \"2021-07-23--2021-07-30\\n2021-07-16--2021-07-23\\n2021-07-09--2021-07-16\\n2021-07-02--2021-07-09\\n2021-06-25--2021-07-02\\n2021-06-18--2021-06-25\\n2021-06-11--2021-06-18\\n2021-06-04--2021-06-11\\n2021-05-28--2021-06-04\\n2021-05-21--2021-05-28\\n2021-05-14--2021-05-21\\n2021-05-07--2021-05-14\\n2021-04-30--2021-05-07\\n2021-04-23--2021-04-30\\n2021-04-16--2021-04-23\\n2021-04-09--2021-04-16\\n2021-04-02--2021-04-09\\n2021-03-26--2021-04-02\\n2021-03-19--2021-03-26\\n2021-03-12--2021-03-19\\n2021-03-05--2021-03-12\\n2021-02-26--2021-03-05\\n2021-02-19--2021-02-26\\n2021-02-12--2021-02-19\\n2021-02-05--2021-02-12\\n2021-01-29--2021-02-05\\n2021-01-22--2021-01-29\\n2021-01-15--2021-01-22\\n2021-01-08--2021-01-15\\n2021-01-01--2021-01-08\\n2020-12-25--2021-01-01\\n2020-12-04--2020-12-11\\n2020-11-27--2020-12-04\\n2020-11-20--2020-11-27\\n2020-11-13--2020-11-20\\n2020-11-06--2020-11-13\\n2020-10-30--2020-11-06\\n2020-10-23--2020-10-30\\n2020-10-16--2020-10-23\\n2020-10-09--2020-10-16\\n2020-10-02--2020-10-09\\n2020-09-25--2020-10-02\\n2020-09-18--2020-09-25\\n2020-09-11--2020-09-18\\n2020-09-04--2020-09-11\\n2020-08-28--2020-09-04\\n2020-08-21--2020-08-28\\n2020-08-14--2020-08-21\\n2020-08-07--2020-08-14\\n2020-07-31--2020-08-07\\n2020-07-24--2020-07-31\\n2020-07-17--2020-07-24\\n2020-07-10--2020-07-17\\n2020-07-03--2020-07-10\\n2020-06-26--2020-07-03\\n2020-06-19--2020-06-26\\n2020-06-12--2020-06-19\\n2020-06-05--2020-06-12\\n2020-05-29--2020-06-05\\n2020-05-22--2020-05-29\\n2020-05-15--2020-05-22\\n2020-05-08--2020-05-15\\n2020-05-01--2020-05-08\\n2020-04-24--2020-05-01\\n2020-04-17--2020-04-24\\n2020-04-10--2020-04-17\\n2020-04-03--2020-04-10\\n2020-03-27--2020-04-03\\n2020-03-20--2020-03-27\\n2020-03-13--2020-03-20\\n2020-03-06--2020-03-13\\n2020-02-28--2020-03-06\\n2020-02-21--2020-02-28\\n2020-02-14--2020-02-21\\n2020-02-07--2020-02-14\\n2020-01-31--2020-02-07\\n2020-01-24--2020-01-31\\n2020-01-17--2020-01-24\\n2020-01-10--2020-01-17\\n2020-01-03--2020-01-10\\n2019-12-27--2020-01-03\", \"Popularity\": 74.0, \"Danceability\": 0.392, \"Energy\": 0.402, \"Loudness\": -9.961, \"Speechiness\": 0.0536, \"Acousticness\": 0.288, \"Liveness\": 0.243, \"Tempo\": 143.883, \"Duration (ms)\": 354320.0, \"Valence\": 0.228, \"Chord\": \"C\", \"a\": 3, \"temp\": 4}, {\"Index\": 170, \"Highest Charting Position\": 155, \"Number of Times Charted\": 22, \"Week of Highest Charting\": \"2021-07-02--2021-07-09\", \"Song Name\": \"Mr. Brightside\", \"Streams\": 5382191, \"Artist\": \"The Killers\", \"Artist Followers\": 6118063.0, \"Song ID\": \"7oK9VyNzrYvRFo7nQEYkWN\", \"Genre\": \"['dance rock', 'modern rock', 'permanent wave', 'rock']\", \"Release Date\": \"2004-06-15\", \"Weeks Charted\": \"2021-07-23--2021-07-30\\n2021-07-16--2021-07-23\\n2021-07-09--2021-07-16\\n2021-07-02--2021-07-09\\n2021-06-25--2021-07-02\\n2021-06-18--2021-06-25\\n2021-06-11--2021-06-18\\n2021-06-04--2021-06-11\\n2021-05-28--2021-06-04\\n2021-05-14--2021-05-21\\n2021-05-07--2021-05-14\\n2021-04-30--2021-05-07\\n2021-04-23--2021-04-30\\n2021-04-16--2021-04-23\\n2021-04-09--2021-04-16\\n2021-04-02--2021-04-09\\n2021-03-12--2021-03-19\\n2021-02-26--2021-03-05\\n2020-07-03--2020-07-10\\n2020-06-26--2020-07-03\\n2020-06-19--2020-06-26\\n2020-06-12--2020-06-19\", \"Popularity\": 75.0, \"Danceability\": 0.356, \"Energy\": 0.924, \"Loudness\": -3.74, \"Speechiness\": 0.0808, \"Acousticness\": 0.00101, \"Liveness\": 0.0953, \"Tempo\": 148.017, \"Duration (ms)\": 222587.0, \"Valence\": 0.232, \"Chord\": \"C#/Db\", \"a\": 3, \"temp\": 4}, {\"Index\": 173, \"Highest Charting Position\": 94, \"Number of Times Charted\": 82, \"Week of Highest Charting\": \"2021-02-12--2021-02-19\", \"Song Name\": \"Say You Won't Let Go\", \"Streams\": 5375426, \"Artist\": \"James Arthur\", \"Artist Followers\": 8441598.0, \"Song ID\": \"5uCax9HTNlzGybIStD3vDh\", \"Genre\": \"['pop', 'post-teen pop', 'talent show', 'uk pop']\", \"Release Date\": \"2016-10-28\", \"Weeks Charted\": \"2021-07-23--2021-07-30\\n2021-07-16--2021-07-23\\n2021-07-09--2021-07-16\\n2021-07-02--2021-07-09\\n2021-06-25--2021-07-02\\n2021-06-18--2021-06-25\\n2021-06-11--2021-06-18\\n2021-06-04--2021-06-11\\n2021-05-28--2021-06-04\\n2021-05-21--2021-05-28\\n2021-05-14--2021-05-21\\n2021-05-07--2021-05-14\\n2021-04-30--2021-05-07\\n2021-04-23--2021-04-30\\n2021-04-16--2021-04-23\\n2021-04-09--2021-04-16\\n2021-04-02--2021-04-09\\n2021-03-26--2021-04-02\\n2021-03-19--2021-03-26\\n2021-03-12--2021-03-19\\n2021-03-05--2021-03-12\\n2021-02-26--2021-03-05\\n2021-02-19--2021-02-26\\n2021-02-12--2021-02-19\\n2021-02-05--2021-02-12\\n2021-01-29--2021-02-05\\n2021-01-22--2021-01-29\\n2021-01-15--2021-01-22\\n2021-01-08--2021-01-15\\n2021-01-01--2021-01-08\\n2020-12-25--2021-01-01\\n2020-12-11--2020-12-18\\n2020-12-04--2020-12-11\\n2020-11-27--2020-12-04\\n2020-11-20--2020-11-27\\n2020-11-13--2020-11-20\\n2020-11-06--2020-11-13\\n2020-10-30--2020-11-06\\n2020-10-23--2020-10-30\\n2020-10-16--2020-10-23\\n2020-10-09--2020-10-16\\n2020-10-02--2020-10-09\\n2020-09-25--2020-10-02\\n2020-09-18--2020-09-25\\n2020-09-11--2020-09-18\\n2020-09-04--2020-09-11\\n2020-08-28--2020-09-04\\n2020-08-21--2020-08-28\\n2020-08-14--2020-08-21\\n2020-08-07--2020-08-14\\n2020-07-31--2020-08-07\\n2020-07-24--2020-07-31\\n2020-07-17--2020-07-24\\n2020-07-10--2020-07-17\\n2020-07-03--2020-07-10\\n2020-06-26--2020-07-03\\n2020-06-19--2020-06-26\\n2020-06-12--2020-06-19\\n2020-06-05--2020-06-12\\n2020-05-29--2020-06-05\\n2020-05-22--2020-05-29\\n2020-05-15--2020-05-22\\n2020-05-08--2020-05-15\\n2020-05-01--2020-05-08\\n2020-04-24--2020-05-01\\n2020-04-17--2020-04-24\\n2020-04-10--2020-04-17\\n2020-04-03--2020-04-10\\n2020-03-27--2020-04-03\\n2020-03-20--2020-03-27\\n2020-03-13--2020-03-20\\n2020-03-06--2020-03-13\\n2020-02-28--2020-03-06\\n2020-02-21--2020-02-28\\n2020-02-14--2020-02-21\\n2020-02-07--2020-02-14\\n2020-01-31--2020-02-07\\n2020-01-24--2020-01-31\\n2020-01-17--2020-01-24\\n2020-01-10--2020-01-17\\n2020-01-03--2020-01-10\\n2019-12-27--2020-01-03\", \"Popularity\": 84.0, \"Danceability\": 0.358, \"Energy\": 0.557, \"Loudness\": -7.398, \"Speechiness\": 0.059, \"Acousticness\": 0.695, \"Liveness\": 0.0902, \"Tempo\": 85.043, \"Duration (ms)\": 211467.0, \"Valence\": 0.494, \"Chord\": \"A#/Bb\", \"a\": 3, \"temp\": 4}, {\"Index\": 206, \"Highest Charting Position\": 76, \"Number of Times Charted\": 4, \"Week of Highest Charting\": \"2021-06-18--2021-06-25\", \"Song Name\": \"Holiday\", \"Streams\": 5883145, \"Artist\": \"KSI\", \"Artist Followers\": 2008516.0, \"Song ID\": \"6nV2dFZXpv1JlqDWBeTXRl\", \"Genre\": \"['uk hip hop']\", \"Release Date\": \"2021-06-18\", \"Weeks Charted\": \"2021-07-16--2021-07-23\\n2021-07-02--2021-07-09\\n2021-06-25--2021-07-02\\n2021-06-18--2021-06-25\", \"Popularity\": 81.0, \"Danceability\": 0.356, \"Energy\": 0.684, \"Loudness\": -7.347, \"Speechiness\": 0.0878, \"Acousticness\": 0.152, \"Liveness\": 0.101, \"Tempo\": 87.188, \"Duration (ms)\": 193733.0, \"Valence\": 0.347, \"Chord\": \"G#/Ab\", \"a\": 3, \"temp\": 4}, {\"Index\": 237, \"Highest Charting Position\": 194, \"Number of Times Charted\": 4, \"Week of Highest Charting\": \"2020-10-09--2020-10-16\", \"Song Name\": \"Wonderwall - Remastered\", \"Streams\": 4938180, \"Artist\": \"Oasis\", \"Artist Followers\": 6475631.0, \"Song ID\": \"7ygpwy2qP3NbrxVkHvUhXY\", \"Genre\": \"['beatlesque', 'britpop', 'madchester', 'permanent wave', 'rock']\", \"Release Date\": \"1995\", \"Weeks Charted\": \"2021-07-09--2021-07-16\\n2021-05-28--2021-06-04\\n2020-10-16--2020-10-23\\n2020-10-09--2020-10-16\", \"Popularity\": 78.0, \"Danceability\": 0.375, \"Energy\": 0.893, \"Loudness\": -4.097, \"Speechiness\": 0.0406, \"Acousticness\": 0.000509, \"Liveness\": 0.187, \"Tempo\": 174.323, \"Duration (ms)\": 258773.0, \"Valence\": 0.434, \"Chord\": \"D\", \"a\": 3, \"temp\": 4}, {\"Index\": 242, \"Highest Charting Position\": 152, \"Number of Times Charted\": 2, \"Week of Highest Charting\": \"2021-06-25--2021-07-02\", \"Song Name\": \"All Eyes On Me\", \"Streams\": 5347263, \"Artist\": \"Bo Burnham\", \"Artist Followers\": 1042079.0, \"Song ID\": \"3rV5y8rcQrwRt9fWGLmjOQ\", \"Genre\": \"['comic']\", \"Release Date\": \"2021-06-10\", \"Weeks Charted\": \"2021-07-02--2021-07-09\\n2021-06-25--2021-07-02\", \"Popularity\": 81.0, \"Danceability\": 0.352, \"Energy\": 0.424, \"Loudness\": -10.131, \"Speechiness\": 0.0394, \"Acousticness\": 0.733, \"Liveness\": 0.0664, \"Tempo\": 127.047, \"Duration (ms)\": 302951.0, \"Valence\": 0.141, \"Chord\": \"F#/Gb\", \"a\": 3, \"temp\": 4}, {\"Index\": 256, \"Highest Charting Position\": 43, \"Number of Times Charted\": 2, \"Week of Highest Charting\": \"2021-06-25--2021-07-02\", \"Song Name\": \"LUMBERJACK\", \"Streams\": 11756283, \"Artist\": \"Tyler, The Creator\", \"Artist Followers\": 6777818.0, \"Song ID\": \"0BiK5BbYNFLb88CCOxBFJe\", \"Genre\": \"['hip hop', 'rap']\", \"Release Date\": \"2021-06-25\", \"Weeks Charted\": \"2021-06-25--2021-07-02\\n2021-06-18--2021-06-25\", \"Popularity\": 76.0, \"Danceability\": 0.386, \"Energy\": 0.762, \"Loudness\": -6.341, \"Speechiness\": 0.564, \"Acousticness\": 0.122, \"Liveness\": 0.527, \"Tempo\": 170.691, \"Duration (ms)\": 138312.0, \"Valence\": 0.433, \"Chord\": \"A\", \"a\": 3, \"temp\": 4}, {\"Index\": 258, \"Highest Charting Position\": 59, \"Number of Times Charted\": 1, \"Week of Highest Charting\": \"2021-06-25--2021-07-02\", \"Song Name\": \"HOT WIND BLOWS (feat. Lil Wayne)\", \"Streams\": 9889197, \"Artist\": \"Tyler, The Creator\", \"Artist Followers\": 6777818.0, \"Song ID\": \"3JJL91ilRV6fXhKqu0FGXs\", \"Genre\": \"['hip hop', 'rap']\", \"Release Date\": \"2021-06-25\", \"Weeks Charted\": \"2021-06-25--2021-07-02\", \"Popularity\": 77.0, \"Danceability\": 0.371, \"Energy\": 0.75, \"Loudness\": -5.382, \"Speechiness\": 0.402, \"Acousticness\": 0.601, \"Liveness\": 0.482, \"Tempo\": 173.456, \"Duration (ms)\": 155293.0, \"Valence\": 0.729, \"Chord\": \"G\", \"a\": 3, \"temp\": 4}, {\"Index\": 325, \"Highest Charting Position\": 127, \"Number of Times Charted\": 2, \"Week of Highest Charting\": \"2021-05-28--2021-06-04\", \"Song Name\": \"CORALINE\", \"Streams\": 5241813, \"Artist\": \"M\\u00e5neskin\", \"Artist Followers\": 3377762.0, \"Song ID\": \"7HMz8o0m7ASQ3ImFPfhWTY\", \"Genre\": \"['indie rock italiano', 'italian pop']\", \"Release Date\": \"2021-03-19\", \"Weeks Charted\": \"2021-06-04--2021-06-11\\n2021-05-28--2021-06-04\", \"Popularity\": 81.0, \"Danceability\": 0.363, \"Energy\": 0.678, \"Loudness\": -4.939, \"Speechiness\": 0.0995, \"Acousticness\": 0.0299, \"Liveness\": 0.324, \"Tempo\": 162.124, \"Duration (ms)\": 300413.0, \"Valence\": 0.321, \"Chord\": \"D\", \"a\": 3, \"temp\": 4}, {\"Index\": 398, \"Highest Charting Position\": 10, \"Number of Times Charted\": 8, \"Week of Highest Charting\": \"2021-03-12--2021-03-19\", \"Song Name\": \"On The Ground\", \"Streams\": 5655879, \"Artist\": \"ROS\\u00c9\", \"Artist Followers\": 1094731.0, \"Song ID\": \"2pn8dNVSpYnAtlKFC8Q0DJ\", \"Genre\": \"[]\", \"Release Date\": \"2021-03-12\", \"Weeks Charted\": \"2021-04-30--2021-05-07\\n2021-04-23--2021-04-30\\n2021-04-16--2021-04-23\\n2021-04-09--2021-04-16\\n2021-04-02--2021-04-09\\n2021-03-26--2021-04-02\\n2021-03-19--2021-03-26\\n2021-03-12--2021-03-19\", \"Popularity\": 74.0, \"Danceability\": 0.311, \"Energy\": 0.607, \"Loudness\": -6.578, \"Speechiness\": 0.11, \"Acousticness\": 0.0174, \"Liveness\": 0.131, \"Tempo\": 188.7, \"Duration (ms)\": 168086.0, \"Valence\": 0.286, \"Chord\": \"C#/Db\", \"a\": 3, \"temp\": 4}, {\"Index\": 409, \"Highest Charting Position\": 18, \"Number of Times Charted\": 33, \"Week of Highest Charting\": \"2020-10-23--2020-10-30\", \"Song Name\": \"Put Your Records On\", \"Streams\": 5181180, \"Artist\": \"Ritt Momney\", \"Artist Followers\": 100463.0, \"Song ID\": \"6AGOKlMZWLCaEJGnaROtF9\", \"Genre\": \"['bedroom pop']\", \"Release Date\": \"2020-04-24\", \"Weeks Charted\": \"2021-04-23--2021-04-30\\n2021-04-16--2021-04-23\\n2021-04-09--2021-04-16\\n2021-04-02--2021-04-09\\n2021-03-26--2021-04-02\\n2021-03-19--2021-03-26\\n2021-03-12--2021-03-19\\n2021-03-05--2021-03-12\\n2021-02-26--2021-03-05\\n2021-02-19--2021-02-26\\n2021-02-12--2021-02-19\\n2021-02-05--2021-02-12\\n2021-01-29--2021-02-05\\n2021-01-22--2021-01-29\\n2021-01-15--2021-01-22\\n2021-01-08--2021-01-15\\n2021-01-01--2021-01-08\\n2020-12-25--2021-01-01\\n2020-12-18--2020-12-25\\n2020-12-11--2020-12-18\\n2020-12-04--2020-12-11\\n2020-11-27--2020-12-04\\n2020-11-20--2020-11-27\\n2020-11-13--2020-11-20\\n2020-11-06--2020-11-13\\n2020-10-30--2020-11-06\\n2020-10-23--2020-10-30\\n2020-10-16--2020-10-23\\n2020-10-09--2020-10-16\\n2020-10-02--2020-10-09\\n2020-09-25--2020-10-02\\n2020-09-18--2020-09-25\\n2020-09-11--2020-09-18\", \"Popularity\": 81.0, \"Danceability\": 0.399, \"Energy\": 0.491, \"Loudness\": -10.778, \"Speechiness\": 0.0538, \"Acousticness\": 0.0563, \"Liveness\": 0.11, \"Tempo\": 91.066, \"Duration (ms)\": 210463.0, \"Valence\": 0.151, \"Chord\": \"F#/Gb\", \"a\": 3, \"temp\": 4}, {\"Index\": 411, \"Highest Charting Position\": 62, \"Number of Times Charted\": 28, \"Week of Highest Charting\": \"2021-01-15--2021-01-22\", \"Song Name\": \"Train Wreck\", \"Streams\": 5081800, \"Artist\": \"James Arthur\", \"Artist Followers\": 8446147.0, \"Song ID\": \"55Am8neGJkdj2ADaM3aw5H\", \"Genre\": \"['pop', 'post-teen pop', 'talent show', 'uk pop']\", \"Release Date\": \"2016-10-28\", \"Weeks Charted\": \"2021-04-23--2021-04-30\\n2021-04-16--2021-04-23\\n2021-04-09--2021-04-16\\n2021-04-02--2021-04-09\\n2021-03-26--2021-04-02\\n2021-03-19--2021-03-26\\n2021-03-12--2021-03-19\\n2021-03-05--2021-03-12\\n2021-02-26--2021-03-05\\n2021-02-19--2021-02-26\\n2021-02-12--2021-02-19\\n2021-02-05--2021-02-12\\n2021-01-29--2021-02-05\\n2021-01-22--2021-01-29\\n2021-01-15--2021-01-22\\n2021-01-08--2021-01-15\\n2021-01-01--2021-01-08\\n2020-12-25--2021-01-01\\n2020-12-18--2020-12-25\\n2020-12-11--2020-12-18\\n2020-12-04--2020-12-11\\n2020-11-27--2020-12-04\\n2020-11-20--2020-11-27\\n2020-11-13--2020-11-20\\n2020-11-06--2020-11-13\\n2020-10-30--2020-11-06\\n2020-10-23--2020-10-30\\n2020-10-16--2020-10-23\", \"Popularity\": 82.0, \"Danceability\": 0.311, \"Energy\": 0.485, \"Loudness\": -5.726, \"Speechiness\": 0.0365, \"Acousticness\": 0.701, \"Liveness\": 0.0726, \"Tempo\": 77.355, \"Duration (ms)\": 208827.0, \"Valence\": 0.225, \"Chord\": \"F#/Gb\", \"a\": 3, \"temp\": 4}, {\"Index\": 425, \"Highest Charting Position\": 3, \"Number of Times Charted\": 19, \"Week of Highest Charting\": \"2020-12-11--2020-12-18\", \"Song Name\": \"willow\", \"Streams\": 5016865, \"Artist\": \"Taylor Swift\", \"Artist Followers\": 42227614.0, \"Song ID\": \"0lx2cLdOt3piJbcaXIV74f\", \"Genre\": \"['pop', 'post-teen pop']\", \"Release Date\": \"2020-12-11\", \"Weeks Charted\": \"2021-04-16--2021-04-23\\n2021-04-09--2021-04-16\\n2021-04-02--2021-04-09\\n2021-03-26--2021-04-02\\n2021-03-19--2021-03-26\\n2021-03-12--2021-03-19\\n2021-03-05--2021-03-12\\n2021-02-26--2021-03-05\\n2021-02-19--2021-02-26\\n2021-02-12--2021-02-19\\n2021-02-05--2021-02-12\\n2021-01-29--2021-02-05\\n2021-01-22--2021-01-29\\n2021-01-15--2021-01-22\\n2021-01-08--2021-01-15\\n2021-01-01--2021-01-08\\n2020-12-25--2021-01-01\\n2020-12-18--2020-12-25\\n2020-12-11--2020-12-18\", \"Popularity\": 79.0, \"Danceability\": 0.392, \"Energy\": 0.574, \"Loudness\": -9.195, \"Speechiness\": 0.17, \"Acousticness\": 0.833, \"Liveness\": 0.145, \"Tempo\": 81.112, \"Duration (ms)\": 214707.0, \"Valence\": 0.529, \"Chord\": \"G\", \"a\": 3, \"temp\": 4}, {\"Index\": 458, \"Highest Charting Position\": 75, \"Number of Times Charted\": 5, \"Week of Highest Charting\": \"2021-03-05--2021-03-12\", \"Song Name\": \"Adem\\u00e1s de M\\u00ed - Remix\", \"Streams\": 5060336, \"Artist\": \"Rusherking, KHEA, Duki, Maria Becerra, LIT killah, Tiago PZK\", \"Artist Followers\": 301217.0, \"Song ID\": \"7I8L3vYCLThw2FDrE6LuzE\", \"Genre\": \"['trap argentino', 'trap latino', 'trap triste']\", \"Release Date\": \"2021-03-04\", \"Weeks Charted\": \"2021-04-02--2021-04-09\\n2021-03-26--2021-04-02\\n2021-03-19--2021-03-26\\n2021-03-12--2021-03-19\\n2021-03-05--2021-03-12\", \"Popularity\": 78.0, \"Danceability\": 0.397, \"Energy\": 0.613, \"Loudness\": -5.077, \"Speechiness\": 0.0549, \"Acousticness\": 0.0396, \"Liveness\": 0.192, \"Tempo\": 78.4, \"Duration (ms)\": 330040.0, \"Valence\": 0.405, \"Chord\": \"F#/Gb\", \"a\": 3, \"temp\": 4}, {\"Index\": 484, \"Highest Charting Position\": 138, \"Number of Times Charted\": 2, \"Week of Highest Charting\": \"2021-01-15--2021-01-22\", \"Song Name\": \"Chemtrails Over The Country Club\", \"Streams\": 5418816, \"Artist\": \"Lana Del Rey\", \"Artist Followers\": 13697048.0, \"Song ID\": \"7bPWdJgx8vek7S5i5yAtvG\", \"Genre\": \"['art pop', 'pop']\", \"Release Date\": \"2021-03-19\", \"Weeks Charted\": \"2021-03-19--2021-03-26\\n2021-01-15--2021-01-22\", \"Popularity\": 73.0, \"Danceability\": 0.334, \"Energy\": 0.276, \"Loudness\": -13.125, \"Speechiness\": 0.0643, \"Acousticness\": 0.877, \"Liveness\": 0.113, \"Tempo\": 201.025, \"Duration (ms)\": 271177.0, \"Valence\": 0.429, \"Chord\": \"E\", \"a\": 3, \"temp\": 4}, {\"Index\": 488, \"Highest Charting Position\": 182, \"Number of Times Charted\": 3, \"Week of Highest Charting\": \"2021-03-12--2021-03-19\", \"Song Name\": \"Devil Eyes\", \"Streams\": 5098581, \"Artist\": \"Hippie Sabotage\", \"Artist Followers\": 713486.0, \"Song ID\": \"7MiZjKawmXTsTNePyTfPyL\", \"Genre\": \"['edm', 'electronic trap']\", \"Release Date\": \"2016-02-05\", \"Weeks Charted\": \"2021-03-19--2021-03-26\\n2021-03-12--2021-03-19\\n2021-03-05--2021-03-12\", \"Popularity\": 80.0, \"Danceability\": 0.391, \"Energy\": 0.396, \"Loudness\": -8.621, \"Speechiness\": 0.189, \"Acousticness\": 0.702, \"Liveness\": 0.315, \"Tempo\": 99.112, \"Duration (ms)\": 131272.0, \"Valence\": 0.199, \"Chord\": \"C#/Db\", \"a\": 3, \"temp\": 4}, {\"Index\": 553, \"Highest Charting Position\": 193, \"Number of Times Charted\": 1, \"Week of Highest Charting\": \"2021-02-12--2021-02-19\", \"Song Name\": \"Wonderwall\", \"Streams\": 4902737, \"Artist\": \"Oasis\", \"Artist Followers\": 6478565.0, \"Song ID\": \"7ygpwy2qP3NbrxVkHvUhXY\", \"Genre\": \"['beatlesque', 'britpop', 'madchester', 'permanent wave', 'rock']\", \"Release Date\": \"1995\", \"Weeks Charted\": \"2021-02-12--2021-02-19\", \"Popularity\": 78.0, \"Danceability\": 0.375, \"Energy\": 0.893, \"Loudness\": -4.097, \"Speechiness\": 0.0406, \"Acousticness\": 0.000509, \"Liveness\": 0.187, \"Tempo\": 174.323, \"Duration (ms)\": 258773.0, \"Valence\": 0.434, \"Chord\": \"D\", \"a\": 3, \"temp\": 4}, {\"Index\": 556, \"Highest Charting Position\": 19, \"Number of Times Charted\": 3, \"Week of Highest Charting\": \"2021-01-22--2021-01-29\", \"Song Name\": \"Lo Vas A Olvidar (with ROSAL\\u00cdA)\", \"Streams\": 5963380, \"Artist\": \"Billie Eilish\", \"Artist Followers\": 47061119.0, \"Song ID\": \"0psS4i5YooJrXfDnGvWRLi\", \"Genre\": \"['electropop', 'pop']\", \"Release Date\": \"2021-01-21\", \"Weeks Charted\": \"2021-02-05--2021-02-12\\n2021-01-29--2021-02-05\\n2021-01-22--2021-01-29\", \"Popularity\": 68.0, \"Danceability\": 0.343, \"Energy\": 0.243, \"Loudness\": -14.66, \"Speechiness\": 0.0777, \"Acousticness\": 0.721, \"Liveness\": 0.0668, \"Tempo\": 135.154, \"Duration (ms)\": 203464.0, \"Valence\": 0.032, \"Chord\": \"E\", \"a\": 3, \"temp\": 4}, {\"Index\": 563, \"Highest Charting Position\": 140, \"Number of Times Charted\": 4, \"Week of Highest Charting\": \"2021-01-22--2021-01-29\", \"Song Name\": \"Can You Feel My Heart\", \"Streams\": 5092250, \"Artist\": \"Bring Me The Horizon\", \"Artist Followers\": 3912138.0, \"Song ID\": \"0WSa1sucoNRcEeULlZVQXj\", \"Genre\": \"['melodic metalcore', 'metalcore', 'rock', 'uk metalcore']\", \"Release Date\": \"2013-04-01\", \"Weeks Charted\": \"2021-02-05--2021-02-12\\n2021-01-29--2021-02-05\\n2021-01-22--2021-01-29\\n2021-01-15--2021-01-22\", \"Popularity\": 77.0, \"Danceability\": 0.15, \"Energy\": 0.859, \"Loudness\": -2.827, \"Speechiness\": 0.0595, \"Acousticness\": 0.00201, \"Liveness\": 0.387, \"Tempo\": 170.527, \"Duration (ms)\": 228147.0, \"Valence\": 0.354, \"Chord\": \"E\", \"a\": 3, \"temp\": 4}, {\"Index\": 574, \"Highest Charting Position\": 103, \"Number of Times Charted\": 12, \"Week of Highest Charting\": \"2021-01-15--2021-01-22\", \"Song Name\": \"All I Want - From \\\"High School Musical: The Musical: The Series\\\"\", \"Streams\": 5052801, \"Artist\": \"Olivia Rodrigo\", \"Artist Followers\": 6313514.0, \"Song ID\": \"4Yxc55NX3tAXC2mHRAhtcW\", \"Genre\": \"['pop']\", \"Release Date\": \"2019-11-27\", \"Weeks Charted\": \"2021-01-29--2021-02-05\\n2021-01-22--2021-01-29\\n2021-01-15--2021-01-22\\n2021-01-08--2021-01-15\\n2020-02-21--2020-02-28\\n2020-02-14--2020-02-21\\n2020-02-07--2020-02-14\\n2020-01-31--2020-02-07\\n2020-01-24--2020-01-31\\n2020-01-17--2020-01-24\\n2020-01-10--2020-01-17\\n2020-01-03--2020-01-10\", \"Popularity\": 76.0, \"Danceability\": 0.376, \"Energy\": 0.43, \"Loudness\": -6.585, \"Speechiness\": 0.0328, \"Acousticness\": 0.0902, \"Liveness\": 0.0912, \"Tempo\": 77.599, \"Duration (ms)\": 177323.0, \"Valence\": 0.129, \"Chord\": \"C\", \"a\": 3, \"temp\": 4}, {\"Index\": 620, \"Highest Charting Position\": 1, \"Number of Times Charted\": 10, \"Week of Highest Charting\": \"2020-12-18--2020-12-25\", \"Song Name\": \"All I Want for Christmas Is You\", \"Streams\": 23235257, \"Artist\": \"Mariah Carey\", \"Artist Followers\": 6931357.0, \"Song ID\": \"0bYg9bo50gSsH3LtXe2SQn\", \"Genre\": \"['dance pop', 'pop', 'r&b', 'urban contemporary']\", \"Release Date\": \"1994-11-01\", \"Weeks Charted\": \"2020-12-25--2021-01-01\\n2020-12-18--2020-12-25\\n2020-12-11--2020-12-18\\n2020-12-04--2020-12-11\\n2020-11-27--2020-12-04\\n2020-11-20--2020-11-27\\n2020-11-13--2020-11-20\\n2020-11-06--2020-11-13\\n2020-10-30--2020-11-06\\n2019-12-27--2020-01-03\", \"Popularity\": 65.0, \"Danceability\": 0.336, \"Energy\": 0.627, \"Loudness\": -7.463, \"Speechiness\": 0.0384, \"Acousticness\": 0.164, \"Liveness\": 0.0708, \"Tempo\": 150.273, \"Duration (ms)\": 241107.0, \"Valence\": 0.35, \"Chord\": \"G\", \"a\": 3, \"temp\": 4}, {\"Index\": 692, \"Highest Charting Position\": 24, \"Number of Times Charted\": 2, \"Week of Highest Charting\": \"2020-12-11--2020-12-18\", \"Song Name\": \"tolerate it\", \"Streams\": 6635109, \"Artist\": \"Taylor Swift\", \"Artist Followers\": 42227614.0, \"Song ID\": \"0PurA4JVJ8YQgSVopY8fn6\", \"Genre\": \"['pop', 'post-teen pop']\", \"Release Date\": \"2020-12-11\", \"Weeks Charted\": \"2020-12-18--2020-12-25\\n2020-12-11--2020-12-18\", \"Popularity\": 67.0, \"Danceability\": 0.316, \"Energy\": 0.361, \"Loudness\": -10.381, \"Speechiness\": 0.0488, \"Acousticness\": 0.878, \"Liveness\": 0.0797, \"Tempo\": 74.952, \"Duration (ms)\": 245440.0, \"Valence\": 0.221, \"Chord\": \"A\", \"a\": 3, \"temp\": 4}, {\"Index\": 699, \"Highest Charting Position\": 43, \"Number of Times Charted\": 1, \"Week of Highest Charting\": \"2020-12-11--2020-12-18\", \"Song Name\": \"evermore (feat. Bon Iver)\", \"Streams\": 13810722, \"Artist\": \"Taylor Swift\", \"Artist Followers\": 42227614.0, \"Song ID\": \"3O5osWf1rSoKMwe6E9ZaXP\", \"Genre\": \"['pop', 'post-teen pop']\", \"Release Date\": \"2020-12-11\", \"Weeks Charted\": \"2020-12-11--2020-12-18\", \"Popularity\": 66.0, \"Danceability\": 0.39, \"Energy\": 0.27, \"Loudness\": -10.673, \"Speechiness\": 0.0308, \"Acousticness\": 0.937, \"Liveness\": 0.111, \"Tempo\": 125.177, \"Duration (ms)\": 304107.0, \"Valence\": 0.32, \"Chord\": \"C#/Db\", \"a\": 3, \"temp\": 4}, {\"Index\": 704, \"Highest Charting Position\": 74, \"Number of Times Charted\": 1, \"Week of Highest Charting\": \"2020-12-11--2020-12-18\", \"Song Name\": \"She Knows This\", \"Streams\": 10561183, \"Artist\": \"Kid Cudi\", \"Artist Followers\": 5002317.0, \"Song ID\": \"1xzUQMiCoY5pdego0pHMeV\", \"Genre\": \"['hip hop', 'ohio hip hop', 'pop rap', 'rap']\", \"Release Date\": \"2020-12-11\", \"Weeks Charted\": \"2020-12-11--2020-12-18\", \"Popularity\": 64.0, \"Danceability\": 0.39, \"Energy\": 0.724, \"Loudness\": -7.607, \"Speechiness\": 0.0889, \"Acousticness\": 0.162, \"Liveness\": 0.393, \"Tempo\": 165.945, \"Duration (ms)\": 216560.0, \"Valence\": 0.312, \"Chord\": \"F#/Gb\", \"a\": 3, \"temp\": 4}, {\"Index\": 780, \"Highest Charting Position\": 53, \"Number of Times Charted\": 15, \"Week of Highest Charting\": \"2020-09-11--2020-09-18\", \"Song Name\": \"Still Don't Know My Name\", \"Streams\": 4926802, \"Artist\": \"Labrinth\", \"Artist Followers\": 1685215.0, \"Song ID\": \"6N22FZs2ZhPBYi3b9XPajV\", \"Genre\": \"['indie poptimism', 'pop']\", \"Release Date\": \"2019-10-04\", \"Weeks Charted\": \"2020-11-13--2020-11-20\\n2020-11-06--2020-11-13\\n2020-10-30--2020-11-06\\n2020-10-23--2020-10-30\\n2020-10-16--2020-10-23\\n2020-10-09--2020-10-16\\n2020-10-02--2020-10-09\\n2020-09-25--2020-10-02\\n2020-09-18--2020-09-25\\n2020-09-11--2020-09-18\\n2020-09-04--2020-09-11\\n2020-08-28--2020-09-04\\n2020-08-21--2020-08-28\\n2020-08-14--2020-08-21\\n2020-08-07--2020-08-14\", \"Popularity\": 80.0, \"Danceability\": 0.316, \"Energy\": 0.63, \"Loudness\": -5.963, \"Speechiness\": 0.117, \"Acousticness\": 0.471, \"Liveness\": 0.205, \"Tempo\": 89.643, \"Duration (ms)\": 153294.0, \"Valence\": 0.313, \"Chord\": \"F\", \"a\": 3, \"temp\": 4}, {\"Index\": 839, \"Highest Charting Position\": 192, \"Number of Times Charted\": 1, \"Week of Highest Charting\": \"2020-10-16--2020-10-23\", \"Song Name\": \"Let Me Love You Like A Woman\", \"Streams\": 4665053, \"Artist\": \"Lana Del Rey\", \"Artist Followers\": 13697048.0, \"Song ID\": \"1gxdWpeOUBpvB908fiZs4D\", \"Genre\": \"['art pop', 'pop']\", \"Release Date\": \"2021-03-19\", \"Weeks Charted\": \"2020-10-16--2020-10-23\", \"Popularity\": 67.0, \"Danceability\": 0.303, \"Energy\": 0.249, \"Loudness\": -11.715, \"Speechiness\": 0.111, \"Acousticness\": 0.97, \"Liveness\": 0.117, \"Tempo\": 66.932, \"Duration (ms)\": 200661.0, \"Valence\": 0.131, \"Chord\": \"C\", \"a\": 3, \"temp\": 4}, {\"Index\": 890, \"Highest Charting Position\": 4, \"Number of Times Charted\": 9, \"Week of Highest Charting\": \"2020-07-24--2020-07-31\", \"Song Name\": \"exile (feat. Bon Iver)\", \"Streams\": 4924533, \"Artist\": \"Taylor Swift\", \"Artist Followers\": 42227614.0, \"Song ID\": \"4pvb0WLRcMtbPGmtejJJ6y\", \"Genre\": \"['pop', 'post-teen pop']\", \"Release Date\": \"2020-07-24\", \"Weeks Charted\": \"2020-09-18--2020-09-25\\n2020-09-11--2020-09-18\\n2020-09-04--2020-09-11\\n2020-08-28--2020-09-04\\n2020-08-21--2020-08-28\\n2020-08-14--2020-08-21\\n2020-08-07--2020-08-14\\n2020-07-31--2020-08-07\\n2020-07-24--2020-07-31\", \"Popularity\": 77.0, \"Danceability\": 0.298, \"Energy\": 0.38, \"Loudness\": -8.426, \"Speechiness\": 0.0287, \"Acousticness\": 0.778, \"Liveness\": 0.11, \"Tempo\": 75.602, \"Duration (ms)\": 285634.0, \"Valence\": 0.152, \"Chord\": \"F#/Gb\", \"a\": 3, \"temp\": 4}, {\"Index\": 978, \"Highest Charting Position\": 33, \"Number of Times Charted\": 2, \"Week of Highest Charting\": \"2020-07-24--2020-07-31\", \"Song Name\": \"epiphany\", \"Streams\": 6085522, \"Artist\": \"Taylor Swift\", \"Artist Followers\": 42227614.0, \"Song ID\": \"08fa9LFcFBTcilB3iq2e2A\", \"Genre\": \"['pop', 'post-teen pop']\", \"Release Date\": \"2020-07-24\", \"Weeks Charted\": \"2020-07-31--2020-08-07\\n2020-07-24--2020-07-31\", \"Popularity\": 66.0, \"Danceability\": 0.354, \"Energy\": 0.267, \"Loudness\": -13.69, \"Speechiness\": 0.0281, \"Acousticness\": 0.731, \"Liveness\": 0.0858, \"Tempo\": 94.219, \"Duration (ms)\": 289749.0, \"Valence\": 0.113, \"Chord\": \"C#/Db\", \"a\": 3, \"temp\": 4}, {\"Index\": 1013, \"Highest Charting Position\": 45, \"Number of Times Charted\": 2, \"Week of Highest Charting\": \"2020-07-10--2020-07-17\", \"Song Name\": \"I Want It\", \"Streams\": 5137482, \"Artist\": \"Juice WRLD\", \"Artist Followers\": 19102888.0, \"Song ID\": \"2SVx3uds6jTWALFxevIWMA\", \"Genre\": \"['chicago rap', 'melodic rap']\", \"Release Date\": \"2020-07-10\", \"Weeks Charted\": \"2020-07-17--2020-07-24\\n2020-07-10--2020-07-17\", \"Popularity\": 69.0, \"Danceability\": 0.288, \"Energy\": 0.638, \"Loudness\": -6.935, \"Speechiness\": 0.0779, \"Acousticness\": 0.133, \"Liveness\": 0.14, \"Tempo\": 66.424, \"Duration (ms)\": 173114.0, \"Valence\": 0.147, \"Chord\": \"E\", \"a\": 3, \"temp\": 4}, {\"Index\": 1105, \"Highest Charting Position\": 79, \"Number of Times Charted\": 11, \"Week of Highest Charting\": \"2020-04-24--2020-05-01\", \"Song Name\": \"Selfish\", \"Streams\": 4754830, \"Artist\": \"Madison Beer\", \"Artist Followers\": 3370013.0, \"Song ID\": \"4PV0uE5pZSh44E3NqNNDEH\", \"Genre\": \"['alt z', 'dance pop', 'electropop', 'pop', 'post-teen pop']\", \"Release Date\": \"2020-02-14\", \"Weeks Charted\": \"2020-06-12--2020-06-19\\n2020-06-05--2020-06-12\\n2020-05-29--2020-06-05\\n2020-05-22--2020-05-29\\n2020-05-15--2020-05-22\\n2020-05-08--2020-05-15\\n2020-05-01--2020-05-08\\n2020-04-24--2020-05-01\\n2020-04-17--2020-04-24\\n2020-04-10--2020-04-17\\n2020-04-03--2020-04-10\", \"Popularity\": 70.0, \"Danceability\": 0.375, \"Energy\": 0.461, \"Loudness\": -6.202, \"Speechiness\": 0.0279, \"Acousticness\": 0.627, \"Liveness\": 0.386, \"Tempo\": 75.217, \"Duration (ms)\": 223270.0, \"Valence\": 0.233, \"Chord\": \"A\", \"a\": 3, \"temp\": 4}, {\"Index\": 1106, \"Highest Charting Position\": 154, \"Number of Times Charted\": 6, \"Week of Highest Charting\": \"2020-06-05--2020-06-12\", \"Song Name\": \"Surrender\", \"Streams\": 4627942, \"Artist\": \"Natalie Taylor\", \"Artist Followers\": 120208.0, \"Song ID\": \"0ecC8p17cDNlxHXkuYqeR6\", \"Genre\": \"[]\", \"Release Date\": \"2019-10-29\", \"Weeks Charted\": \"2020-06-12--2020-06-19\\n2020-06-05--2020-06-12\\n2020-05-29--2020-06-05\\n2020-05-22--2020-05-29\\n2020-05-15--2020-05-22\\n2020-05-08--2020-05-15\", \"Popularity\": 76.0, \"Danceability\": 0.39, \"Energy\": 0.448, \"Loudness\": -8.57, \"Speechiness\": 0.0276, \"Acousticness\": 0.8, \"Liveness\": 0.107, \"Tempo\": 144.89, \"Duration (ms)\": 183103.0, \"Valence\": 0.077, \"Chord\": \"F\", \"a\": 3, \"temp\": 4}, {\"Index\": 1196, \"Highest Charting Position\": 4, \"Number of Times Charted\": 13, \"Week of Highest Charting\": \"2020-02-14--2020-02-21\", \"Song Name\": \"No Time To Die\", \"Streams\": 4293009, \"Artist\": \"Billie Eilish\", \"Artist Followers\": 47061119.0, \"Song ID\": \"73SpzrcaHk0RQPFP73vqVR\", \"Genre\": \"['electropop', 'pop']\", \"Release Date\": \"2020-02-13\", \"Weeks Charted\": \"2020-05-08--2020-05-15\\n2020-05-01--2020-05-08\\n2020-04-24--2020-05-01\\n2020-04-17--2020-04-24\\n2020-04-10--2020-04-17\\n2020-04-03--2020-04-10\\n2020-03-27--2020-04-03\\n2020-03-20--2020-03-27\\n2020-03-13--2020-03-20\\n2020-03-06--2020-03-13\\n2020-02-28--2020-03-06\\n2020-02-21--2020-02-28\\n2020-02-14--2020-02-21\", \"Popularity\": 75.0, \"Danceability\": 0.38, \"Energy\": 0.219, \"Loudness\": -13.273, \"Speechiness\": 0.0358, \"Acousticness\": 0.917, \"Liveness\": 0.0827, \"Tempo\": 73.537, \"Duration (ms)\": 242265.0, \"Valence\": 0.0517, \"Chord\": \"E\", \"a\": 3, \"temp\": 4}, {\"Index\": 1265, \"Highest Charting Position\": 21, \"Number of Times Charted\": 2, \"Week of Highest Charting\": \"2020-03-20--2020-03-27\", \"Song Name\": \"Alone Again\", \"Streams\": 6055294, \"Artist\": \"The Weeknd\", \"Artist Followers\": 35340069.0, \"Song ID\": \"6b5P51m8xx2XA6U7sdNZ5E\", \"Genre\": \"['canadian contemporary r&b', 'canadian pop', 'pop']\", \"Release Date\": \"2020-03-20\", \"Weeks Charted\": \"2020-03-27--2020-04-03\\n2020-03-20--2020-03-27\", \"Popularity\": 66.0, \"Danceability\": 0.218, \"Energy\": 0.652, \"Loudness\": -7.953, \"Speechiness\": 0.0641, \"Acousticness\": 0.033, \"Liveness\": 0.172, \"Tempo\": 65.375, \"Duration (ms)\": 250053.0, \"Valence\": 0.0599, \"Chord\": \"E\", \"a\": 3, \"temp\": 4}, {\"Index\": 1271, \"Highest Charting Position\": 36, \"Number of Times Charted\": 2, \"Week of Highest Charting\": \"2020-03-20--2020-03-27\", \"Song Name\": \"Faith\", \"Streams\": 5730081, \"Artist\": \"The Weeknd\", \"Artist Followers\": 35340069.0, \"Song ID\": \"3orEOtd8CPL8GFlpRpKuoE\", \"Genre\": \"['canadian contemporary r&b', 'canadian pop', 'pop']\", \"Release Date\": \"2020-03-20\", \"Weeks Charted\": \"2020-03-27--2020-04-03\\n2020-03-20--2020-03-27\", \"Popularity\": 67.0, \"Danceability\": 0.375, \"Energy\": 0.605, \"Loudness\": -7.268, \"Speechiness\": 0.0729, \"Acousticness\": 0.612, \"Liveness\": 0.147, \"Tempo\": 175.946, \"Duration (ms)\": 283227.0, \"Valence\": 0.128, \"Chord\": \"C\", \"a\": 3, \"temp\": 4}, {\"Index\": 1280, \"Highest Charting Position\": 68, \"Number of Times Charted\": 1, \"Week of Highest Charting\": \"2020-03-20--2020-03-27\", \"Song Name\": \"Until I Bleed Out\", \"Streams\": 9132077, \"Artist\": \"The Weeknd\", \"Artist Followers\": 35340069.0, \"Song ID\": \"2BcnxwxBuar5wjCaLqm5N3\", \"Genre\": \"['canadian contemporary r&b', 'canadian pop', 'pop']\", \"Release Date\": \"2020-03-20\", \"Weeks Charted\": \"2020-03-20--2020-03-27\", \"Popularity\": 63.0, \"Danceability\": 0.245, \"Energy\": 0.394, \"Loudness\": -9.887, \"Speechiness\": 0.0374, \"Acousticness\": 0.423, \"Liveness\": 0.093, \"Tempo\": 115.233, \"Duration (ms)\": 190173.0, \"Valence\": 0.148, \"Chord\": \"C\", \"a\": 3, \"temp\": 4}, {\"Index\": 1389, \"Highest Charting Position\": 109, \"Number of Times Charted\": 1, \"Week of Highest Charting\": \"2020-02-21--2020-02-28\", \"Song Name\": \"Interlude : Shadow\", \"Streams\": 6655856, \"Artist\": \"BTS\", \"Artist Followers\": 37151476.0, \"Song ID\": \"2Nib4r0saYQf2pUV4RFDhl\", \"Genre\": \"['k-pop', 'k-pop boy group']\", \"Release Date\": \"2020-02-21\", \"Weeks Charted\": \"2020-02-21--2020-02-28\", \"Popularity\": 68.0, \"Danceability\": 0.385, \"Energy\": 0.798, \"Loudness\": -6.439, \"Speechiness\": 0.483, \"Acousticness\": 0.115, \"Liveness\": 0.181, \"Tempo\": 149.756, \"Duration (ms)\": 259821.0, \"Valence\": 0.141, \"Chord\": \"A\", \"a\": 3, \"temp\": 4}, {\"Index\": 1518, \"Highest Charting Position\": 102, \"Number of Times Charted\": 3, \"Week of Highest Charting\": \"2020-01-03--2020-01-10\", \"Song Name\": \"Into the Unknown\", \"Streams\": 5705999, \"Artist\": \"Idina Menzel, AURORA\", \"Artist Followers\": 1251372.0, \"Song ID\": \"3Z0oQ8r78OUaHvGPiDBR3W\", \"Genre\": \"[]\", \"Release Date\": \"2019-11-15\", \"Weeks Charted\": \"2020-01-10--2020-01-17\\n2020-01-03--2020-01-10\\n2019-12-27--2020-01-03\", \"Popularity\": 74.0, \"Danceability\": 0.323, \"Energy\": 0.405, \"Loudness\": -8.533, \"Speechiness\": 0.0413, \"Acousticness\": 0.849, \"Liveness\": 0.138, \"Tempo\": 145.104, \"Duration (ms)\": 194848.0, \"Valence\": 0.274, \"Chord\": \"A#/Bb\", \"a\": 3, \"temp\": 4}]}}, {\"mode\": \"vega-lite\"});\n",
       "</script>"
      ],
      "text/plain": [
       "alt.Chart(...)"
      ]
     },
     "execution_count": 45,
     "metadata": {},
     "output_type": "execute_result"
    }
   ],
   "source": [
    "alt.Chart(df_sub).mark_circle().encode(\n",
    "    x = \"Energy\",\n",
    "    y = alt.Y(\"Popularity\",scale=alt.Scale(zero=False)),\n",
    "    color = 'Loudness',\n",
    "    tooltip = ['Artist','Song Name'],\n",
    ")"
   ]
  },
  {
   "cell_type": "markdown",
   "id": "72bd5143",
   "metadata": {},
   "source": [
    "* Draw a plot Energy vs Acousticness of all Lady Gaga and Billie Eilish songs (leaving `df_sub`, going back to the original `df`), drawing the songs by those artists in two different colors.\n",
    "* From the plot, one of the songs appears to be an \"outlier\", which song?"
   ]
  },
  {
   "cell_type": "code",
   "execution_count": 46,
   "id": "3aa3a101",
   "metadata": {},
   "outputs": [],
   "source": [
    "df2 = df[(df.Artist == \"Billie Eilish\") | (df.Artist == \"Lady Gaga\")]"
   ]
  },
  {
   "cell_type": "code",
   "execution_count": 48,
   "id": "b8b78e17",
   "metadata": {},
   "outputs": [
    {
     "data": {
      "text/html": [
       "\n",
       "<div id=\"altair-viz-5741aa9132154341aa2515843c8db6f3\"></div>\n",
       "<script type=\"text/javascript\">\n",
       "  (function(spec, embedOpt){\n",
       "    let outputDiv = document.currentScript.previousElementSibling;\n",
       "    if (outputDiv.id !== \"altair-viz-5741aa9132154341aa2515843c8db6f3\") {\n",
       "      outputDiv = document.getElementById(\"altair-viz-5741aa9132154341aa2515843c8db6f3\");\n",
       "    }\n",
       "    const paths = {\n",
       "      \"vega\": \"https://cdn.jsdelivr.net/npm//vega@5?noext\",\n",
       "      \"vega-lib\": \"https://cdn.jsdelivr.net/npm//vega-lib?noext\",\n",
       "      \"vega-lite\": \"https://cdn.jsdelivr.net/npm//vega-lite@4.8.1?noext\",\n",
       "      \"vega-embed\": \"https://cdn.jsdelivr.net/npm//vega-embed@6?noext\",\n",
       "    };\n",
       "\n",
       "    function loadScript(lib) {\n",
       "      return new Promise(function(resolve, reject) {\n",
       "        var s = document.createElement('script');\n",
       "        s.src = paths[lib];\n",
       "        s.async = true;\n",
       "        s.onload = () => resolve(paths[lib]);\n",
       "        s.onerror = () => reject(`Error loading script: ${paths[lib]}`);\n",
       "        document.getElementsByTagName(\"head\")[0].appendChild(s);\n",
       "      });\n",
       "    }\n",
       "\n",
       "    function showError(err) {\n",
       "      outputDiv.innerHTML = `<div class=\"error\" style=\"color:red;\">${err}</div>`;\n",
       "      throw err;\n",
       "    }\n",
       "\n",
       "    function displayChart(vegaEmbed) {\n",
       "      vegaEmbed(outputDiv, spec, embedOpt)\n",
       "        .catch(err => showError(`Javascript Error: ${err.message}<br>This usually means there's a typo in your chart specification. See the javascript console for the full traceback.`));\n",
       "    }\n",
       "\n",
       "    if(typeof define === \"function\" && define.amd) {\n",
       "      requirejs.config({paths});\n",
       "      require([\"vega-embed\"], displayChart, err => showError(`Error loading script: ${err.message}`));\n",
       "    } else if (typeof vegaEmbed === \"function\") {\n",
       "      displayChart(vegaEmbed);\n",
       "    } else {\n",
       "      loadScript(\"vega\")\n",
       "        .then(() => loadScript(\"vega-lite\"))\n",
       "        .then(() => loadScript(\"vega-embed\"))\n",
       "        .catch(showError)\n",
       "        .then(() => displayChart(vegaEmbed));\n",
       "    }\n",
       "  })({\"config\": {\"view\": {\"continuousWidth\": 400, \"continuousHeight\": 300}}, \"data\": {\"name\": \"data-aa116935987690ede8bc5c29fdbe38dd\"}, \"mark\": \"circle\", \"encoding\": {\"color\": {\"type\": \"nominal\", \"field\": \"Artist\"}, \"tooltip\": [{\"type\": \"nominal\", \"field\": \"Artist\"}, {\"type\": \"nominal\", \"field\": \"Song Name\"}], \"x\": {\"type\": \"quantitative\", \"field\": \"Energy\"}, \"y\": {\"type\": \"quantitative\", \"field\": \"Acousticness\"}}, \"width\": 800, \"$schema\": \"https://vega.github.io/schema/vega-lite/v4.8.1.json\", \"datasets\": {\"data-aa116935987690ede8bc5c29fdbe38dd\": [{\"Index\": 53, \"Highest Charting Position\": 19, \"Number of Times Charted\": 3, \"Week of Highest Charting\": \"2021-07-09--2021-07-16\", \"Song Name\": \"NDA\", \"Streams\": 9635619, \"Artist\": \"Billie Eilish\", \"Artist Followers\": 47014200.0, \"Song ID\": \"38GBNKZUhfBkk3oNlWzRYd\", \"Genre\": \"['electropop', 'pop']\", \"Release Date\": \"2021-07-30\", \"Weeks Charted\": \"2021-07-23--2021-07-30\\n2021-07-16--2021-07-23\\n2021-07-09--2021-07-16\", \"Popularity\": 84.0, \"Danceability\": 0.765, \"Energy\": 0.373, \"Loudness\": -9.921, \"Speechiness\": 0.0713, \"Acousticness\": 0.341, \"Liveness\": 0.112, \"Tempo\": 85.016, \"Duration (ms)\": 195777.0, \"Valence\": 0.554, \"Chord\": \"G#/Ab\"}, {\"Index\": 111, \"Highest Charting Position\": 46, \"Number of Times Charted\": 83, \"Week of Highest Charting\": \"2020-04-17--2020-04-24\", \"Song Name\": \"lovely (with Khalid)\", \"Streams\": 6569547, \"Artist\": \"Billie Eilish\", \"Artist Followers\": 47014200.0, \"Song ID\": \"0u2P5u6lvoDfwTYjAADbn4\", \"Genre\": \"['electropop', 'pop']\", \"Release Date\": \"2018-04-19\", \"Weeks Charted\": \"2021-07-23--2021-07-30\\n2021-07-16--2021-07-23\\n2021-07-09--2021-07-16\\n2021-07-02--2021-07-09\\n2021-06-25--2021-07-02\\n2021-06-18--2021-06-25\\n2021-06-11--2021-06-18\\n2021-06-04--2021-06-11\\n2021-05-28--2021-06-04\\n2021-05-21--2021-05-28\\n2021-05-14--2021-05-21\\n2021-05-07--2021-05-14\\n2021-04-30--2021-05-07\\n2021-04-23--2021-04-30\\n2021-04-16--2021-04-23\\n2021-04-09--2021-04-16\\n2021-04-02--2021-04-09\\n2021-03-26--2021-04-02\\n2021-03-19--2021-03-26\\n2021-03-12--2021-03-19\\n2021-03-05--2021-03-12\\n2021-02-26--2021-03-05\\n2021-02-19--2021-02-26\\n2021-02-12--2021-02-19\\n2021-02-05--2021-02-12\\n2021-01-29--2021-02-05\\n2021-01-22--2021-01-29\\n2021-01-15--2021-01-22\\n2021-01-08--2021-01-15\\n2021-01-01--2021-01-08\\n2020-12-25--2021-01-01\\n2020-12-18--2020-12-25\\n2020-12-11--2020-12-18\\n2020-12-04--2020-12-11\\n2020-11-27--2020-12-04\\n2020-11-20--2020-11-27\\n2020-11-13--2020-11-20\\n2020-11-06--2020-11-13\\n2020-10-30--2020-11-06\\n2020-10-23--2020-10-30\\n2020-10-16--2020-10-23\\n2020-10-09--2020-10-16\\n2020-10-02--2020-10-09\\n2020-09-25--2020-10-02\\n2020-09-18--2020-09-25\\n2020-09-11--2020-09-18\\n2020-09-04--2020-09-11\\n2020-08-28--2020-09-04\\n2020-08-21--2020-08-28\\n2020-08-14--2020-08-21\\n2020-08-07--2020-08-14\\n2020-07-31--2020-08-07\\n2020-07-24--2020-07-31\\n2020-07-17--2020-07-24\\n2020-07-10--2020-07-17\\n2020-07-03--2020-07-10\\n2020-06-26--2020-07-03\\n2020-06-19--2020-06-26\\n2020-06-12--2020-06-19\\n2020-06-05--2020-06-12\\n2020-05-29--2020-06-05\\n2020-05-22--2020-05-29\\n2020-05-15--2020-05-22\\n2020-05-08--2020-05-15\\n2020-05-01--2020-05-08\\n2020-04-24--2020-05-01\\n2020-04-17--2020-04-24\\n2020-04-10--2020-04-17\\n2020-04-03--2020-04-10\\n2020-03-27--2020-04-03\\n2020-03-20--2020-03-27\\n2020-03-13--2020-03-20\\n2020-03-06--2020-03-13\\n2020-02-28--2020-03-06\\n2020-02-21--2020-02-28\\n2020-02-14--2020-02-21\\n2020-02-07--2020-02-14\\n2020-01-31--2020-02-07\\n2020-01-24--2020-01-31\\n2020-01-17--2020-01-24\\n2020-01-10--2020-01-17\\n2020-01-03--2020-01-10\\n2019-12-27--2020-01-03\", \"Popularity\": 86.0, \"Danceability\": 0.351, \"Energy\": 0.296, \"Loudness\": -10.109, \"Speechiness\": 0.0333, \"Acousticness\": 0.934, \"Liveness\": 0.095, \"Tempo\": 115.284, \"Duration (ms)\": 200186.0, \"Valence\": 0.12, \"Chord\": \"E\"}, {\"Index\": 165, \"Highest Charting Position\": 13, \"Number of Times Charted\": 83, \"Week of Highest Charting\": \"2020-01-24--2020-01-31\", \"Song Name\": \"bad guy\", \"Streams\": 5436286, \"Artist\": \"Billie Eilish\", \"Artist Followers\": 1250353.0, \"Song ID\": \"1hewNsVmijBqjKvFRQfk4m\", \"Genre\": \"[]\", \"Release Date\": \"2021-08-13\", \"Weeks Charted\": \"2021-07-23--2021-07-30\\n2021-07-16--2021-07-23\\n2021-07-09--2021-07-16\\n2021-07-02--2021-07-09\\n2021-06-25--2021-07-02\\n2021-06-18--2021-06-25\\n2021-06-11--2021-06-18\\n2021-06-04--2021-06-11\\n2021-05-28--2021-06-04\\n2021-05-21--2021-05-28\\n2021-05-14--2021-05-21\\n2021-05-07--2021-05-14\\n2021-04-30--2021-05-07\\n2021-04-23--2021-04-30\\n2021-04-16--2021-04-23\\n2021-04-09--2021-04-16\\n2021-04-02--2021-04-09\\n2021-03-26--2021-04-02\\n2021-03-19--2021-03-26\\n2021-03-12--2021-03-19\\n2021-03-05--2021-03-12\\n2021-02-26--2021-03-05\\n2021-02-19--2021-02-26\\n2021-02-12--2021-02-19\\n2021-02-05--2021-02-12\\n2021-01-29--2021-02-05\\n2021-01-22--2021-01-29\\n2021-01-15--2021-01-22\\n2021-01-08--2021-01-15\\n2021-01-01--2021-01-08\\n2020-12-25--2021-01-01\\n2020-12-18--2020-12-25\\n2020-12-11--2020-12-18\\n2020-12-04--2020-12-11\\n2020-11-27--2020-12-04\\n2020-11-20--2020-11-27\\n2020-11-13--2020-11-20\\n2020-11-06--2020-11-13\\n2020-10-30--2020-11-06\\n2020-10-23--2020-10-30\\n2020-10-16--2020-10-23\\n2020-10-09--2020-10-16\\n2020-10-02--2020-10-09\\n2020-09-25--2020-10-02\\n2020-09-18--2020-09-25\\n2020-09-11--2020-09-18\\n2020-09-04--2020-09-11\\n2020-08-28--2020-09-04\\n2020-08-21--2020-08-28\\n2020-08-14--2020-08-21\\n2020-08-07--2020-08-14\\n2020-07-31--2020-08-07\\n2020-07-24--2020-07-31\\n2020-07-17--2020-07-24\\n2020-07-10--2020-07-17\\n2020-07-03--2020-07-10\\n2020-06-26--2020-07-03\\n2020-06-19--2020-06-26\\n2020-06-12--2020-06-19\\n2020-06-05--2020-06-12\\n2020-05-29--2020-06-05\\n2020-05-22--2020-05-29\\n2020-05-15--2020-05-22\\n2020-05-08--2020-05-15\\n2020-05-01--2020-05-08\\n2020-04-24--2020-05-01\\n2020-04-17--2020-04-24\\n2020-04-10--2020-04-17\\n2020-04-03--2020-04-10\\n2020-03-27--2020-04-03\\n2020-03-20--2020-03-27\\n2020-03-13--2020-03-20\\n2020-03-06--2020-03-13\\n2020-02-28--2020-03-06\\n2020-02-21--2020-02-28\\n2020-02-14--2020-02-21\\n2020-02-07--2020-02-14\\n2020-01-31--2020-02-07\\n2020-01-24--2020-01-31\\n2020-01-17--2020-01-24\\n2020-01-10--2020-01-17\\n2020-01-03--2020-01-10\\n2019-12-27--2020-01-03\", \"Popularity\": 0.0, \"Danceability\": 0.701, \"Energy\": 0.425, \"Loudness\": -10.965, \"Speechiness\": 0.375, \"Acousticness\": 0.328, \"Liveness\": 0.1, \"Tempo\": 135.128, \"Duration (ms)\": 194088.0, \"Valence\": 0.562, \"Chord\": \"G\"}, {\"Index\": 216, \"Highest Charting Position\": 15, \"Number of Times Charted\": 7, \"Week of Highest Charting\": \"2021-06-04--2021-06-11\", \"Song Name\": \"Lost Cause\", \"Streams\": 5203319, \"Artist\": \"Billie Eilish\", \"Artist Followers\": 1250353.0, \"Song ID\": \"36fhyo5QlxBW7DrDHIOn1G\", \"Genre\": \"[]\", \"Release Date\": \"2021-08-12\", \"Weeks Charted\": \"2021-07-16--2021-07-23\\n2021-07-09--2021-07-16\\n2021-07-02--2021-07-09\\n2021-06-25--2021-07-02\\n2021-06-18--2021-06-25\\n2021-06-11--2021-06-18\\n2021-06-04--2021-06-11\", \"Popularity\": 0.0, \"Danceability\": 0.671, \"Energy\": 0.336, \"Loudness\": -8.494, \"Speechiness\": 0.241, \"Acousticness\": 0.705, \"Liveness\": 0.0577, \"Tempo\": 75.051, \"Duration (ms)\": 212496.0, \"Valence\": 0.518, \"Chord\": \"A#/Bb\"}, {\"Index\": 246, \"Highest Charting Position\": 4, \"Number of Times Charted\": 10, \"Week of Highest Charting\": \"2021-04-30--2021-05-07\", \"Song Name\": \"Your Power\", \"Streams\": 5135380, \"Artist\": \"Billie Eilish\", \"Artist Followers\": 47014200.0, \"Song ID\": \"042Sl6Mn83JHyLEqdK7uI0\", \"Genre\": \"['electropop', 'pop']\", \"Release Date\": \"2021-07-30\", \"Weeks Charted\": \"2021-07-02--2021-07-09\\n2021-06-25--2021-07-02\\n2021-06-18--2021-06-25\\n2021-06-11--2021-06-18\\n2021-06-04--2021-06-11\\n2021-05-28--2021-06-04\\n2021-05-21--2021-05-28\\n2021-05-14--2021-05-21\\n2021-05-07--2021-05-14\\n2021-04-30--2021-05-07\", \"Popularity\": 81.0, \"Danceability\": 0.632, \"Energy\": 0.284, \"Loudness\": -14.025, \"Speechiness\": 0.0801, \"Acousticness\": 0.932, \"Liveness\": 0.233, \"Tempo\": 129.642, \"Duration (ms)\": 245897.0, \"Valence\": 0.208, \"Chord\": \"A\"}, {\"Index\": 309, \"Highest Charting Position\": 2, \"Number of Times Charted\": 31, \"Week of Highest Charting\": \"2020-11-13--2020-11-20\", \"Song Name\": \"Therefore I Am\", \"Streams\": 5265630, \"Artist\": \"Billie Eilish\", \"Artist Followers\": 1250353.0, \"Song ID\": \"0aACcc1jEv2C6VSmmJbllJ\", \"Genre\": \"[]\", \"Release Date\": \"2021-08-13\", \"Weeks Charted\": \"2021-06-11--2021-06-18\\n2021-06-04--2021-06-11\\n2021-05-28--2021-06-04\\n2021-05-21--2021-05-28\\n2021-05-14--2021-05-21\\n2021-05-07--2021-05-14\\n2021-04-30--2021-05-07\\n2021-04-23--2021-04-30\\n2021-04-16--2021-04-23\\n2021-04-09--2021-04-16\\n2021-04-02--2021-04-09\\n2021-03-26--2021-04-02\\n2021-03-19--2021-03-26\\n2021-03-12--2021-03-19\\n2021-03-05--2021-03-12\\n2021-02-26--2021-03-05\\n2021-02-19--2021-02-26\\n2021-02-12--2021-02-19\\n2021-02-05--2021-02-12\\n2021-01-29--2021-02-05\\n2021-01-22--2021-01-29\\n2021-01-15--2021-01-22\\n2021-01-08--2021-01-15\\n2021-01-01--2021-01-08\\n2020-12-25--2021-01-01\\n2020-12-18--2020-12-25\\n2020-12-11--2020-12-18\\n2020-12-04--2020-12-11\\n2020-11-27--2020-12-04\\n2020-11-20--2020-11-27\\n2020-11-13--2020-11-20\", \"Popularity\": 0.0, \"Danceability\": 0.889, \"Energy\": 0.34, \"Loudness\": -7.773, \"Speechiness\": 0.0697, \"Acousticness\": 0.218, \"Liveness\": 0.055, \"Tempo\": 94.009, \"Duration (ms)\": 174321.0, \"Valence\": 0.716, \"Chord\": \"B\"}, {\"Index\": 315, \"Highest Charting Position\": 1, \"Number of Times Charted\": 55, \"Week of Highest Charting\": \"2020-05-22--2020-05-29\", \"Song Name\": \"Rain On Me (with Ariana Grande)\", \"Streams\": 5041656, \"Artist\": \"Lady Gaga\", \"Artist Followers\": 18572085.0, \"Song ID\": \"24ySl2hOPGCDcxBxFIqWBu\", \"Genre\": \"['dance pop', 'pop', 'post-teen pop']\", \"Release Date\": \"2020-05-22\", \"Weeks Charted\": \"2021-06-11--2021-06-18\\n2021-06-04--2021-06-11\\n2021-05-28--2021-06-04\\n2021-05-14--2021-05-21\\n2021-05-07--2021-05-14\\n2021-04-30--2021-05-07\\n2021-04-23--2021-04-30\\n2021-04-16--2021-04-23\\n2021-04-09--2021-04-16\\n2021-04-02--2021-04-09\\n2021-03-26--2021-04-02\\n2021-03-19--2021-03-26\\n2021-03-12--2021-03-19\\n2021-03-05--2021-03-12\\n2021-02-26--2021-03-05\\n2021-02-19--2021-02-26\\n2021-02-12--2021-02-19\\n2021-02-05--2021-02-12\\n2021-01-29--2021-02-05\\n2021-01-22--2021-01-29\\n2021-01-15--2021-01-22\\n2021-01-08--2021-01-15\\n2021-01-01--2021-01-08\\n2020-12-25--2021-01-01\\n2020-12-18--2020-12-25\\n2020-12-11--2020-12-18\\n2020-12-04--2020-12-11\\n2020-11-27--2020-12-04\\n2020-11-20--2020-11-27\\n2020-11-13--2020-11-20\\n2020-11-06--2020-11-13\\n2020-10-30--2020-11-06\\n2020-10-23--2020-10-30\\n2020-10-16--2020-10-23\\n2020-10-09--2020-10-16\\n2020-10-02--2020-10-09\\n2020-09-25--2020-10-02\\n2020-09-18--2020-09-25\\n2020-09-11--2020-09-18\\n2020-09-04--2020-09-11\\n2020-08-28--2020-09-04\\n2020-08-21--2020-08-28\\n2020-08-14--2020-08-21\\n2020-08-07--2020-08-14\\n2020-07-31--2020-08-07\\n2020-07-24--2020-07-31\\n2020-07-17--2020-07-24\\n2020-07-10--2020-07-17\\n2020-07-03--2020-07-10\\n2020-06-26--2020-07-03\\n2020-06-19--2020-06-26\\n2020-06-12--2020-06-19\\n2020-06-05--2020-06-12\\n2020-05-29--2020-06-05\\n2020-05-22--2020-05-29\", \"Popularity\": 79.0, \"Danceability\": 0.672, \"Energy\": 0.855, \"Loudness\": -3.764, \"Speechiness\": 0.0397, \"Acousticness\": 0.021, \"Liveness\": 0.323, \"Tempo\": 123.056, \"Duration (ms)\": 182200.0, \"Valence\": 0.646, \"Chord\": \"A\"}, {\"Index\": 378, \"Highest Charting Position\": 10, \"Number of Times Charted\": 69, \"Week of Highest Charting\": \"2019-12-27--2020-01-03\", \"Song Name\": \"everything i wanted\", \"Streams\": 5448680, \"Artist\": \"Billie Eilish\", \"Artist Followers\": 1250353.0, \"Song ID\": \"1OC8hMoqAuWmTWJ4heJNlO\", \"Genre\": \"[]\", \"Release Date\": \"2021-08-13\", \"Weeks Charted\": \"2021-05-07--2021-05-14\\n2021-04-30--2021-05-07\\n2021-04-23--2021-04-30\\n2021-04-02--2021-04-09\\n2021-03-26--2021-04-02\\n2021-03-19--2021-03-26\\n2021-03-12--2021-03-19\\n2021-03-05--2021-03-12\\n2021-02-26--2021-03-05\\n2021-02-19--2021-02-26\\n2021-02-12--2021-02-19\\n2021-02-05--2021-02-12\\n2021-01-29--2021-02-05\\n2021-01-22--2021-01-29\\n2021-01-15--2021-01-22\\n2021-01-08--2021-01-15\\n2021-01-01--2021-01-08\\n2020-12-25--2021-01-01\\n2020-12-11--2020-12-18\\n2020-12-04--2020-12-11\\n2020-11-27--2020-12-04\\n2020-11-20--2020-11-27\\n2020-11-13--2020-11-20\\n2020-11-06--2020-11-13\\n2020-10-30--2020-11-06\\n2020-10-23--2020-10-30\\n2020-10-16--2020-10-23\\n2020-10-09--2020-10-16\\n2020-10-02--2020-10-09\\n2020-09-25--2020-10-02\\n2020-09-18--2020-09-25\\n2020-09-11--2020-09-18\\n2020-09-04--2020-09-11\\n2020-08-28--2020-09-04\\n2020-08-21--2020-08-28\\n2020-08-14--2020-08-21\\n2020-08-07--2020-08-14\\n2020-07-31--2020-08-07\\n2020-07-24--2020-07-31\\n2020-07-17--2020-07-24\\n2020-07-10--2020-07-17\\n2020-07-03--2020-07-10\\n2020-06-26--2020-07-03\\n2020-06-19--2020-06-26\\n2020-06-12--2020-06-19\\n2020-06-05--2020-06-12\\n2020-05-29--2020-06-05\\n2020-05-22--2020-05-29\\n2020-05-15--2020-05-22\\n2020-05-08--2020-05-15\\n2020-05-01--2020-05-08\\n2020-04-24--2020-05-01\\n2020-04-17--2020-04-24\\n2020-04-10--2020-04-17\\n2020-04-03--2020-04-10\\n2020-03-27--2020-04-03\\n2020-03-20--2020-03-27\\n2020-03-13--2020-03-20\\n2020-03-06--2020-03-13\\n2020-02-28--2020-03-06\\n2020-02-21--2020-02-28\\n2020-02-14--2020-02-21\\n2020-02-07--2020-02-14\\n2020-01-31--2020-02-07\\n2020-01-24--2020-01-31\\n2020-01-17--2020-01-24\\n2020-01-10--2020-01-17\\n2020-01-03--2020-01-10\\n2019-12-27--2020-01-03\", \"Popularity\": 0.0, \"Danceability\": 0.704, \"Energy\": 0.225, \"Loudness\": -14.454, \"Speechiness\": 0.0994, \"Acousticness\": 0.901, \"Liveness\": 0.106, \"Tempo\": 120.006, \"Duration (ms)\": 245426.0, \"Valence\": 0.243, \"Chord\": \"F#/Gb\"}, {\"Index\": 400, \"Highest Charting Position\": 42, \"Number of Times Charted\": 60, \"Week of Highest Charting\": \"2020-01-31--2020-02-07\", \"Song Name\": \"when the party's over\", \"Streams\": 5467596, \"Artist\": \"Billie Eilish\", \"Artist Followers\": 1250353.0, \"Song ID\": \"5KWwUzVxubgSPmLIUAQhYt\", \"Genre\": \"[]\", \"Release Date\": \"2021-08-13\", \"Weeks Charted\": \"2021-04-30--2021-05-07\\n2021-03-19--2021-03-26\\n2021-03-12--2021-03-19\\n2021-03-05--2021-03-12\\n2021-02-26--2021-03-05\\n2021-01-29--2021-02-05\\n2021-01-22--2021-01-29\\n2021-01-15--2021-01-22\\n2021-01-08--2021-01-15\\n2021-01-01--2021-01-08\\n2020-12-04--2020-12-11\\n2020-11-27--2020-12-04\\n2020-11-20--2020-11-27\\n2020-11-13--2020-11-20\\n2020-11-06--2020-11-13\\n2020-10-30--2020-11-06\\n2020-10-23--2020-10-30\\n2020-10-16--2020-10-23\\n2020-10-09--2020-10-16\\n2020-10-02--2020-10-09\\n2020-09-25--2020-10-02\\n2020-09-18--2020-09-25\\n2020-09-11--2020-09-18\\n2020-09-04--2020-09-11\\n2020-08-28--2020-09-04\\n2020-08-21--2020-08-28\\n2020-08-14--2020-08-21\\n2020-08-07--2020-08-14\\n2020-07-31--2020-08-07\\n2020-07-24--2020-07-31\\n2020-07-17--2020-07-24\\n2020-07-10--2020-07-17\\n2020-07-03--2020-07-10\\n2020-06-26--2020-07-03\\n2020-06-19--2020-06-26\\n2020-06-12--2020-06-19\\n2020-06-05--2020-06-12\\n2020-05-29--2020-06-05\\n2020-05-22--2020-05-29\\n2020-05-15--2020-05-22\\n2020-05-08--2020-05-15\\n2020-05-01--2020-05-08\\n2020-04-24--2020-05-01\\n2020-04-17--2020-04-24\\n2020-04-10--2020-04-17\\n2020-04-03--2020-04-10\\n2020-03-27--2020-04-03\\n2020-03-20--2020-03-27\\n2020-03-13--2020-03-20\\n2020-03-06--2020-03-13\\n2020-02-28--2020-03-06\\n2020-02-21--2020-02-28\\n2020-02-14--2020-02-21\\n2020-02-07--2020-02-14\\n2020-01-31--2020-02-07\\n2020-01-24--2020-01-31\\n2020-01-17--2020-01-24\\n2020-01-10--2020-01-17\\n2020-01-03--2020-01-10\\n2019-12-27--2020-01-03\", \"Popularity\": 0.0, \"Danceability\": 0.484, \"Energy\": 0.103, \"Loudness\": -14.075, \"Speechiness\": 0.0627, \"Acousticness\": 0.979, \"Liveness\": 0.0895, \"Tempo\": 124.011, \"Duration (ms)\": 199931.0, \"Valence\": 0.194, \"Chord\": \"C#/Db\"}, {\"Index\": 556, \"Highest Charting Position\": 19, \"Number of Times Charted\": 3, \"Week of Highest Charting\": \"2021-01-22--2021-01-29\", \"Song Name\": \"Lo Vas A Olvidar (with ROSAL\\u00cdA)\", \"Streams\": 5963380, \"Artist\": \"Billie Eilish\", \"Artist Followers\": 47061119.0, \"Song ID\": \"0psS4i5YooJrXfDnGvWRLi\", \"Genre\": \"['electropop', 'pop']\", \"Release Date\": \"2021-01-21\", \"Weeks Charted\": \"2021-02-05--2021-02-12\\n2021-01-29--2021-02-05\\n2021-01-22--2021-01-29\", \"Popularity\": 68.0, \"Danceability\": 0.343, \"Energy\": 0.243, \"Loudness\": -14.66, \"Speechiness\": 0.0777, \"Acousticness\": 0.721, \"Liveness\": 0.0668, \"Tempo\": 135.154, \"Duration (ms)\": 203464.0, \"Valence\": 0.032, \"Chord\": \"E\"}, {\"Index\": 788, \"Highest Charting Position\": 5, \"Number of Times Charted\": 12, \"Week of Highest Charting\": \"2020-07-31--2020-08-07\", \"Song Name\": \"my future\", \"Streams\": 4721082, \"Artist\": \"Billie Eilish\", \"Artist Followers\": 47061119.0, \"Song ID\": \"3YUMWmx8EJq0DurfuIwoGh\", \"Genre\": \"['electropop', 'pop']\", \"Release Date\": \"2021-07-30\", \"Weeks Charted\": \"2020-11-13--2020-11-20\\n2020-10-09--2020-10-16\\n2020-10-02--2020-10-09\\n2020-09-25--2020-10-02\\n2020-09-18--2020-09-25\\n2020-09-11--2020-09-18\\n2020-09-04--2020-09-11\\n2020-08-28--2020-09-04\\n2020-08-21--2020-08-28\\n2020-08-14--2020-08-21\\n2020-08-07--2020-08-14\\n2020-07-31--2020-08-07\", \"Popularity\": 80.0, \"Danceability\": 0.456, \"Energy\": 0.285, \"Loudness\": -10.755, \"Speechiness\": 0.0979, \"Acousticness\": 0.814, \"Liveness\": 0.307, \"Tempo\": 104.89, \"Duration (ms)\": 210005.0, \"Valence\": 0.0809, \"Chord\": \"G#/Ab\"}, {\"Index\": 932, \"Highest Charting Position\": 5, \"Number of Times Charted\": 11, \"Week of Highest Charting\": \"2020-05-29--2020-06-05\", \"Song Name\": \"Sour Candy (with BLACKPINK)\", \"Streams\": 4556900, \"Artist\": \"Lady Gaga\", \"Artist Followers\": 18585963.0, \"Song ID\": \"6R6ZoHTypt5lt68MWbzZXv\", \"Genre\": \"['dance pop', 'pop', 'post-teen pop']\", \"Release Date\": \"2020-05-28\", \"Weeks Charted\": \"2020-08-28--2020-09-04\\n2020-07-24--2020-07-31\\n2020-07-17--2020-07-24\\n2020-07-10--2020-07-17\\n2020-07-03--2020-07-10\\n2020-06-26--2020-07-03\\n2020-06-19--2020-06-26\\n2020-06-12--2020-06-19\\n2020-06-05--2020-06-12\\n2020-05-29--2020-06-05\\n2020-05-22--2020-05-29\", \"Popularity\": 70.0, \"Danceability\": 0.752, \"Energy\": 0.87, \"Loudness\": -3.812, \"Speechiness\": 0.0623, \"Acousticness\": 0.0604, \"Liveness\": 0.489, \"Tempo\": 120.006, \"Duration (ms)\": 157707.0, \"Valence\": 0.784, \"Chord\": \"A\"}, {\"Index\": 992, \"Highest Charting Position\": 101, \"Number of Times Charted\": 22, \"Week of Highest Charting\": \"2020-02-14--2020-02-21\", \"Song Name\": \"ocean eyes\", \"Streams\": 4476954, \"Artist\": \"Billie Eilish\", \"Artist Followers\": 1251372.0, \"Song ID\": \"6pFTDHGJtKOxrQ85xRZ8Ue\", \"Genre\": \"[]\", \"Release Date\": \"2021-08-13\", \"Weeks Charted\": \"2020-07-31--2020-08-07\\n2020-05-15--2020-05-22\\n2020-05-08--2020-05-15\\n2020-05-01--2020-05-08\\n2020-04-24--2020-05-01\\n2020-04-17--2020-04-24\\n2020-04-10--2020-04-17\\n2020-04-03--2020-04-10\\n2020-03-27--2020-04-03\\n2020-03-20--2020-03-27\\n2020-03-13--2020-03-20\\n2020-03-06--2020-03-13\\n2020-02-28--2020-03-06\\n2020-02-21--2020-02-28\\n2020-02-14--2020-02-21\\n2020-02-07--2020-02-14\\n2020-01-31--2020-02-07\\n2020-01-24--2020-01-31\\n2020-01-17--2020-01-24\\n2020-01-10--2020-01-17\\n2020-01-03--2020-01-10\\n2019-12-27--2020-01-03\", \"Popularity\": 1.0, \"Danceability\": 0.358, \"Energy\": 0.372, \"Loudness\": -7.664, \"Speechiness\": 0.0464, \"Acousticness\": 0.81, \"Liveness\": 0.0877, \"Tempo\": 144.833, \"Duration (ms)\": 200387.0, \"Valence\": 0.16, \"Chord\": \"E\"}, {\"Index\": 1093, \"Highest Charting Position\": 13, \"Number of Times Charted\": 14, \"Week of Highest Charting\": \"2020-02-28--2020-03-06\", \"Song Name\": \"Stupid Love\", \"Streams\": 4609858, \"Artist\": \"Lady Gaga\", \"Artist Followers\": 1251372.0, \"Song ID\": \"1zPwSOUc5MPtPg8EgXAGKU\", \"Genre\": \"[]\", \"Release Date\": \"2021-08-08\", \"Weeks Charted\": \"2020-06-19--2020-06-26\\n2020-06-12--2020-06-19\\n2020-06-05--2020-06-12\\n2020-05-29--2020-06-05\\n2020-05-22--2020-05-29\\n2020-04-24--2020-05-01\\n2020-04-17--2020-04-24\\n2020-04-10--2020-04-17\\n2020-04-03--2020-04-10\\n2020-03-27--2020-04-03\\n2020-03-20--2020-03-27\\n2020-03-13--2020-03-20\\n2020-03-06--2020-03-13\\n2020-02-28--2020-03-06\", \"Popularity\": 0.0, \"Danceability\": 0.68, \"Energy\": 0.825, \"Loudness\": -4.296, \"Speechiness\": 0.0702, \"Acousticness\": 0.00173, \"Liveness\": 0.27, \"Tempo\": 117.987, \"Duration (ms)\": 193533.0, \"Valence\": 0.784, \"Chord\": \"G#/Ab\"}, {\"Index\": 1129, \"Highest Charting Position\": 53, \"Number of Times Charted\": 1, \"Week of Highest Charting\": \"2020-05-29--2020-06-05\", \"Song Name\": \"Alice\", \"Streams\": 10342277, \"Artist\": \"Lady Gaga\", \"Artist Followers\": 18585963.0, \"Song ID\": \"41A89rj3GoMG6ktN37L7PG\", \"Genre\": \"['dance pop', 'pop', 'post-teen pop']\", \"Release Date\": \"2020-05-29\", \"Weeks Charted\": \"2020-05-29--2020-06-05\", \"Popularity\": 64.0, \"Danceability\": 0.723, \"Energy\": 0.88, \"Loudness\": -4.287, \"Speechiness\": 0.038, \"Acousticness\": 0.00334, \"Liveness\": 0.0632, \"Tempo\": 123.036, \"Duration (ms)\": 177600.0, \"Valence\": 0.323, \"Chord\": \"B\"}, {\"Index\": 1130, \"Highest Charting Position\": 58, \"Number of Times Charted\": 1, \"Week of Highest Charting\": \"2020-05-29--2020-06-05\", \"Song Name\": \"Free Woman\", \"Streams\": 9266945, \"Artist\": \"Lady Gaga\", \"Artist Followers\": 18585963.0, \"Song ID\": \"4L6ihclQPu1hqP9r3WNJjQ\", \"Genre\": \"['dance pop', 'pop', 'post-teen pop']\", \"Release Date\": \"2020-05-29\", \"Weeks Charted\": \"2020-05-29--2020-06-05\", \"Popularity\": 63.0, \"Danceability\": 0.731, \"Energy\": 0.927, \"Loudness\": -3.634, \"Speechiness\": 0.0781, \"Acousticness\": 0.0228, \"Liveness\": 0.187, \"Tempo\": 119.006, \"Duration (ms)\": 191467.0, \"Valence\": 0.478, \"Chord\": \"C\"}, {\"Index\": 1131, \"Highest Charting Position\": 74, \"Number of Times Charted\": 1, \"Week of Highest Charting\": \"2020-05-29--2020-06-05\", \"Song Name\": \"Fun Tonight\", \"Streams\": 7907329, \"Artist\": \"Lady Gaga\", \"Artist Followers\": 18585963.0, \"Song ID\": \"6hyQVqfHFvsJDjcmj4qrHf\", \"Genre\": \"['dance pop', 'pop', 'post-teen pop']\", \"Release Date\": \"2020-05-29\", \"Weeks Charted\": \"2020-05-29--2020-06-05\", \"Popularity\": 58.0, \"Danceability\": 0.645, \"Energy\": 0.923, \"Loudness\": -4.262, \"Speechiness\": 0.0725, \"Acousticness\": 0.364, \"Liveness\": 0.14, \"Tempo\": 117.945, \"Duration (ms)\": 173427.0, \"Valence\": 0.323, \"Chord\": \"B\"}, {\"Index\": 1132, \"Highest Charting Position\": 75, \"Number of Times Charted\": 1, \"Week of Highest Charting\": \"2020-05-29--2020-06-05\", \"Song Name\": \"Sine From Above (with Elton John)\", \"Streams\": 7734309, \"Artist\": \"Lady Gaga\", \"Artist Followers\": 18585963.0, \"Song ID\": \"0zzsyWc45eUcSjw4FNHxeN\", \"Genre\": \"['dance pop', 'pop', 'post-teen pop']\", \"Release Date\": \"2020-05-29\", \"Weeks Charted\": \"2020-05-29--2020-06-05\", \"Popularity\": 60.0, \"Danceability\": 0.642, \"Energy\": 0.792, \"Loudness\": -5.746, \"Speechiness\": 0.0488, \"Acousticness\": 0.158, \"Liveness\": 0.68, \"Tempo\": 122.965, \"Duration (ms)\": 244880.0, \"Valence\": 0.0903, \"Chord\": \"C\"}, {\"Index\": 1133, \"Highest Charting Position\": 77, \"Number of Times Charted\": 1, \"Week of Highest Charting\": \"2020-05-29--2020-06-05\", \"Song Name\": \"Enigma\", \"Streams\": 7695566, \"Artist\": \"Lady Gaga\", \"Artist Followers\": 18585963.0, \"Song ID\": \"7JDbfYUHjDzQPFSDh5lzGs\", \"Genre\": \"['dance pop', 'pop', 'post-teen pop']\", \"Release Date\": \"2020-05-29\", \"Weeks Charted\": \"2020-05-29--2020-06-05\", \"Popularity\": 59.0, \"Danceability\": 0.669, \"Energy\": 0.804, \"Loudness\": -4.035, \"Speechiness\": 0.036, \"Acousticness\": 0.0306, \"Liveness\": 0.694, \"Tempo\": 116.001, \"Duration (ms)\": 179760.0, \"Valence\": 0.184, \"Chord\": \"C\"}, {\"Index\": 1134, \"Highest Charting Position\": 79, \"Number of Times Charted\": 1, \"Week of Highest Charting\": \"2020-05-29--2020-06-05\", \"Song Name\": \"Replay\", \"Streams\": 7479618, \"Artist\": \"Lady Gaga\", \"Artist Followers\": 18585963.0, \"Song ID\": \"7sKbyYeJnITO1Eh9xd0lKd\", \"Genre\": \"['dance pop', 'pop', 'post-teen pop']\", \"Release Date\": \"2020-05-29\", \"Weeks Charted\": \"2020-05-29--2020-06-05\", \"Popularity\": 63.0, \"Danceability\": 0.658, \"Energy\": 0.878, \"Loudness\": -3.875, \"Speechiness\": 0.123, \"Acousticness\": 0.00792, \"Liveness\": 0.944, \"Tempo\": 122.015, \"Duration (ms)\": 186653.0, \"Valence\": 0.683, \"Chord\": \"C#/Db\"}, {\"Index\": 1135, \"Highest Charting Position\": 80, \"Number of Times Charted\": 1, \"Week of Highest Charting\": \"2020-05-29--2020-06-05\", \"Song Name\": \"Plastic Doll\", \"Streams\": 7451452, \"Artist\": \"Lady Gaga\", \"Artist Followers\": 18585963.0, \"Song ID\": \"3CidPLqWXqgesJlwYVJZdy\", \"Genre\": \"['dance pop', 'pop', 'post-teen pop']\", \"Release Date\": \"2020-05-29\", \"Weeks Charted\": \"2020-05-29--2020-06-05\", \"Popularity\": 58.0, \"Danceability\": 0.743, \"Energy\": 0.853, \"Loudness\": -4.842, \"Speechiness\": 0.04, \"Acousticness\": 0.0019, \"Liveness\": 0.0872, \"Tempo\": 121.028, \"Duration (ms)\": 221667.0, \"Valence\": 0.422, \"Chord\": \"C\"}, {\"Index\": 1136, \"Highest Charting Position\": 87, \"Number of Times Charted\": 1, \"Week of Highest Charting\": \"2020-05-29--2020-06-05\", \"Song Name\": \"Chromatica II\", \"Streams\": 7136521, \"Artist\": \"Lady Gaga\", \"Artist Followers\": 18585963.0, \"Song ID\": \"0oQc0F6KUE7QY7k5TU6bic\", \"Genre\": \"['dance pop', 'pop', 'post-teen pop']\", \"Release Date\": \"2020-05-29\", \"Weeks Charted\": \"2020-05-29--2020-06-05\", \"Popularity\": 58.0, \"Danceability\": 0.184, \"Energy\": 0.297, \"Loudness\": -14.534, \"Speechiness\": 0.0359, \"Acousticness\": 0.473, \"Liveness\": 0.527, \"Tempo\": 75.824, \"Duration (ms)\": 41867.0, \"Valence\": 0.113, \"Chord\": \"D\"}, {\"Index\": 1137, \"Highest Charting Position\": 91, \"Number of Times Charted\": 1, \"Week of Highest Charting\": \"2020-05-29--2020-06-05\", \"Song Name\": \"Babylon\", \"Streams\": 6996402, \"Artist\": \"Lady Gaga\", \"Artist Followers\": 18585963.0, \"Song ID\": \"5DttNeiizFqWUON9hZBqTY\", \"Genre\": \"['dance pop', 'pop', 'post-teen pop']\", \"Release Date\": \"2020-05-29\", \"Weeks Charted\": \"2020-05-29--2020-06-05\", \"Popularity\": 61.0, \"Danceability\": 0.698, \"Energy\": 0.799, \"Loudness\": -4.372, \"Speechiness\": 0.0342, \"Acousticness\": 0.0129, \"Liveness\": 0.215, \"Tempo\": 115.957, \"Duration (ms)\": 161733.0, \"Valence\": 0.351, \"Chord\": \"D\"}, {\"Index\": 1138, \"Highest Charting Position\": 93, \"Number of Times Charted\": 1, \"Week of Highest Charting\": \"2020-05-29--2020-06-05\", \"Song Name\": \"Chromatica I\", \"Streams\": 6630385, \"Artist\": \"Lady Gaga\", \"Artist Followers\": 18585963.0, \"Song ID\": \"0oQc0F6KUE7QY7k5TU6bic\", \"Genre\": \"['dance pop', 'pop', 'post-teen pop']\", \"Release Date\": \"2020-05-29\", \"Weeks Charted\": \"2020-05-29--2020-06-05\", \"Popularity\": 58.0, \"Danceability\": 0.184, \"Energy\": 0.297, \"Loudness\": -14.534, \"Speechiness\": 0.0359, \"Acousticness\": 0.473, \"Liveness\": 0.527, \"Tempo\": 75.824, \"Duration (ms)\": 41867.0, \"Valence\": 0.113, \"Chord\": \"D\"}, {\"Index\": 1139, \"Highest Charting Position\": 106, \"Number of Times Charted\": 1, \"Week of Highest Charting\": \"2020-05-29--2020-06-05\", \"Song Name\": \"1000 Doves\", \"Streams\": 6069544, \"Artist\": \"Lady Gaga\", \"Artist Followers\": 18585963.0, \"Song ID\": \"62hTXlVQacy3pjBW4ntRPl\", \"Genre\": \"['dance pop', 'pop', 'post-teen pop']\", \"Release Date\": \"2020-05-29\", \"Weeks Charted\": \"2020-05-29--2020-06-05\", \"Popularity\": 58.0, \"Danceability\": 0.668, \"Energy\": 0.826, \"Loudness\": -4.466, \"Speechiness\": 0.0383, \"Acousticness\": 0.0236, \"Liveness\": 0.474, \"Tempo\": 122.973, \"Duration (ms)\": 215480.0, \"Valence\": 0.388, \"Chord\": \"A\"}, {\"Index\": 1196, \"Highest Charting Position\": 4, \"Number of Times Charted\": 13, \"Week of Highest Charting\": \"2020-02-14--2020-02-21\", \"Song Name\": \"No Time To Die\", \"Streams\": 4293009, \"Artist\": \"Billie Eilish\", \"Artist Followers\": 47061119.0, \"Song ID\": \"73SpzrcaHk0RQPFP73vqVR\", \"Genre\": \"['electropop', 'pop']\", \"Release Date\": \"2020-02-13\", \"Weeks Charted\": \"2020-05-08--2020-05-15\\n2020-05-01--2020-05-08\\n2020-04-24--2020-05-01\\n2020-04-17--2020-04-24\\n2020-04-10--2020-04-17\\n2020-04-03--2020-04-10\\n2020-03-27--2020-04-03\\n2020-03-20--2020-03-27\\n2020-03-13--2020-03-20\\n2020-03-06--2020-03-13\\n2020-02-28--2020-03-06\\n2020-02-21--2020-02-28\\n2020-02-14--2020-02-21\", \"Popularity\": 75.0, \"Danceability\": 0.38, \"Energy\": 0.219, \"Loudness\": -13.273, \"Speechiness\": 0.0358, \"Acousticness\": 0.917, \"Liveness\": 0.0827, \"Tempo\": 73.537, \"Duration (ms)\": 242265.0, \"Valence\": 0.0517, \"Chord\": \"E\"}, {\"Index\": 1380, \"Highest Charting Position\": 91, \"Number of Times Charted\": 10, \"Week of Highest Charting\": \"2020-01-24--2020-01-31\", \"Song Name\": \"bury a friend\", \"Streams\": 5020303, \"Artist\": \"Billie Eilish\", \"Artist Followers\": 1251372.0, \"Song ID\": \"7p6ZK1vOxKELFwlDfwkJCp\", \"Genre\": \"[]\", \"Release Date\": \"2021-08-13\", \"Weeks Charted\": \"2020-02-28--2020-03-06\\n2020-02-21--2020-02-28\\n2020-02-14--2020-02-21\\n2020-02-07--2020-02-14\\n2020-01-31--2020-02-07\\n2020-01-24--2020-01-31\\n2020-01-17--2020-01-24\\n2020-01-10--2020-01-17\\n2020-01-03--2020-01-10\\n2019-12-27--2020-01-03\", \"Popularity\": 1.0, \"Danceability\": 0.887, \"Energy\": 0.388, \"Loudness\": -14.505, \"Speechiness\": 0.349, \"Acousticness\": 0.739, \"Liveness\": 0.106, \"Tempo\": 120.035, \"Duration (ms)\": 193143.0, \"Valence\": 0.205, \"Chord\": \"G#/Ab\"}, {\"Index\": 1394, \"Highest Charting Position\": 118, \"Number of Times Charted\": 8, \"Week of Highest Charting\": \"2020-01-24--2020-01-31\", \"Song Name\": \"all the good girls go to hell\", \"Streams\": 5074485, \"Artist\": \"Billie Eilish\", \"Artist Followers\": 47061119.0, \"Song ID\": \"6IRdLKIyS4p7XNiP8r6rsx\", \"Genre\": \"['electropop', 'pop']\", \"Release Date\": \"2019-03-29\", \"Weeks Charted\": \"2020-02-21--2020-02-28\\n2020-02-14--2020-02-21\\n2020-02-07--2020-02-14\\n2020-01-31--2020-02-07\\n2020-01-24--2020-01-31\\n2020-01-10--2020-01-17\\n2020-01-03--2020-01-10\\n2019-12-27--2020-01-03\", \"Popularity\": 75.0, \"Danceability\": 0.726, \"Energy\": 0.444, \"Loudness\": -8.922, \"Speechiness\": 0.372, \"Acousticness\": 0.283, \"Liveness\": 0.177, \"Tempo\": 185.044, \"Duration (ms)\": 168840.0, \"Valence\": 0.569, \"Chord\": \"G#/Ab\"}, {\"Index\": 1401, \"Highest Charting Position\": 148, \"Number of Times Charted\": 6, \"Week of Highest Charting\": \"2020-01-24--2020-01-31\", \"Song Name\": \"i love you\", \"Streams\": 4863910, \"Artist\": \"Billie Eilish\", \"Artist Followers\": 1251372.0, \"Song ID\": \"0np7TYPZSum9xTxe9QTr21\", \"Genre\": \"[]\", \"Release Date\": \"2021-08-13\", \"Weeks Charted\": \"2020-02-21--2020-02-28\\n2020-02-14--2020-02-21\\n2020-02-07--2020-02-14\\n2020-01-31--2020-02-07\\n2020-01-24--2020-01-31\\n2020-01-03--2020-01-10\", \"Popularity\": 2.0, \"Danceability\": 0.42, \"Energy\": 0.131, \"Loudness\": -18.435, \"Speechiness\": 0.0382, \"Acousticness\": 0.953, \"Liveness\": 0.109, \"Tempo\": 137.421, \"Duration (ms)\": 291796.0, \"Valence\": 0.12, \"Chord\": \"C\"}, {\"Index\": 1425, \"Highest Charting Position\": 141, \"Number of Times Charted\": 6, \"Week of Highest Charting\": \"2020-01-24--2020-01-31\", \"Song Name\": \"wish you were gay\", \"Streams\": 5187997, \"Artist\": \"Billie Eilish\", \"Artist Followers\": 47061119.0, \"Song ID\": \"3Fj47GNK2kUF0uaEDgXLaD\", \"Genre\": \"['electropop', 'pop']\", \"Release Date\": \"2019-03-29\", \"Weeks Charted\": \"2020-02-14--2020-02-21\\n2020-02-07--2020-02-14\\n2020-01-31--2020-02-07\\n2020-01-24--2020-01-31\\n2020-01-03--2020-01-10\\n2019-12-27--2020-01-03\", \"Popularity\": 76.0, \"Danceability\": 0.853, \"Energy\": 0.351, \"Loudness\": -10.198, \"Speechiness\": 0.241, \"Acousticness\": 0.39, \"Liveness\": 0.752, \"Tempo\": 118.028, \"Duration (ms)\": 221543.0, \"Valence\": 0.282, \"Chord\": \"G\"}, {\"Index\": 1429, \"Highest Charting Position\": 167, \"Number of Times Charted\": 4, \"Week of Highest Charting\": \"2020-01-24--2020-01-31\", \"Song Name\": \"you should see me in a crown\", \"Streams\": 4988054, \"Artist\": \"Billie Eilish\", \"Artist Followers\": 1251372.0, \"Song ID\": \"6WbvBhwCaUuYHcHGEuVgqo\", \"Genre\": \"[]\", \"Release Date\": \"2021-08-13\", \"Weeks Charted\": \"2020-02-14--2020-02-21\\n2020-02-07--2020-02-14\\n2020-01-31--2020-02-07\\n2020-01-24--2020-01-31\", \"Popularity\": 0.0, \"Danceability\": 0.683, \"Energy\": 0.534, \"Loudness\": -10.348, \"Speechiness\": 0.189, \"Acousticness\": 0.519, \"Liveness\": 0.148, \"Tempo\": 150.469, \"Duration (ms)\": 180567.0, \"Valence\": 0.284, \"Chord\": \"E\"}, {\"Index\": 1469, \"Highest Charting Position\": 191, \"Number of Times Charted\": 2, \"Week of Highest Charting\": \"2020-01-24--2020-01-31\", \"Song Name\": \"idontwannabeyouanymore\", \"Streams\": 4824483, \"Artist\": \"Billie Eilish\", \"Artist Followers\": 47061119.0, \"Song ID\": \"41zXlQxzTi6cGAjpOXyLYH\", \"Genre\": \"['electropop', 'pop']\", \"Release Date\": \"2017-12-22\", \"Weeks Charted\": \"2020-01-31--2020-02-07\\n2020-01-24--2020-01-31\", \"Popularity\": 78.0, \"Danceability\": 0.483, \"Energy\": 0.412, \"Loudness\": -8.461, \"Speechiness\": 0.0402, \"Acousticness\": 0.737, \"Liveness\": 0.116, \"Tempo\": 170.163, \"Duration (ms)\": 203569.0, \"Valence\": 0.247, \"Chord\": \"G\"}]}}, {\"mode\": \"vega-lite\"});\n",
       "</script>"
      ],
      "text/plain": [
       "alt.Chart(...)"
      ]
     },
     "execution_count": 48,
     "metadata": {},
     "output_type": "execute_result"
    }
   ],
   "source": [
    "alt.Chart(df2).mark_circle().encode(\n",
    "    x = \"Energy\",\n",
    "    y = \"Acousticness\",\n",
    "    color = 'Artist',\n",
    "    tooltip = ['Artist','Song Name']\n",
    ").properties(\n",
    "    width = 800,\n",
    ")"
   ]
  },
  {
   "cell_type": "markdown",
   "id": "0fd18840",
   "metadata": {},
   "source": [
    "## Cleaning data"
   ]
  },
  {
   "cell_type": "markdown",
   "id": "c272b723",
   "metadata": {},
   "source": [
    "Before we used `df = df.replace(\" \",np.nan)` to replace blanks spaces with not a number.  (What's not a number?)  Do the same thing using applymap and a lambda function."
   ]
  },
  {
   "cell_type": "code",
   "execution_count": 12,
   "id": "0f4bdad0",
   "metadata": {},
   "outputs": [],
   "source": [
    "df = pd.read_csv(\"data/spotify_dataset.csv\")"
   ]
  },
  {
   "cell_type": "code",
   "execution_count": 13,
   "id": "33084668",
   "metadata": {},
   "outputs": [],
   "source": [
    "df = df.applymap(lambda x: np.nan if x == \" \" else x)"
   ]
  },
  {
   "cell_type": "markdown",
   "id": "80bbc395",
   "metadata": {},
   "source": [
    "Similarly `df[\"Streams\"] = df[\"Streams\"].str.replace(\",\",\"\")`"
   ]
  },
  {
   "cell_type": "code",
   "execution_count": 15,
   "id": "15da531e",
   "metadata": {},
   "outputs": [],
   "source": [
    "df[\"Streams\"] = df[\"Streams\"].map(lambda x: x.replace(\",\",\"\"))"
   ]
  },
  {
   "cell_type": "markdown",
   "id": "c8d7b9cc",
   "metadata": {},
   "source": [
    "## try and except"
   ]
  },
  {
   "cell_type": "code",
   "execution_count": 24,
   "id": "a2fa1659",
   "metadata": {},
   "outputs": [
    {
     "ename": "ZeroDivisionError",
     "evalue": "division by zero",
     "output_type": "error",
     "traceback": [
      "\u001b[0;31m---------------------------------------------------------------------------\u001b[0m",
      "\u001b[0;31mZeroDivisionError\u001b[0m                         Traceback (most recent call last)",
      "\u001b[0;32m<ipython-input-24-f6cc6d14333b>\u001b[0m in \u001b[0;36m<module>\u001b[0;34m\u001b[0m\n\u001b[0;32m----> 1\u001b[0;31m \u001b[0;36m3\u001b[0m\u001b[0;34m/\u001b[0m\u001b[0;36m0\u001b[0m\u001b[0;34m\u001b[0m\u001b[0;34m\u001b[0m\u001b[0m\n\u001b[0m",
      "\u001b[0;31mZeroDivisionError\u001b[0m: division by zero"
     ]
    }
   ],
   "source": [
    "3/0"
   ]
  },
  {
   "cell_type": "code",
   "execution_count": 21,
   "id": "b379c603",
   "metadata": {},
   "outputs": [],
   "source": [
    "def try_to_divide(x):\n",
    "    try:\n",
    "        return 3/x\n",
    "    except:\n",
    "        return \"Can't\""
   ]
  },
  {
   "cell_type": "code",
   "execution_count": 22,
   "id": "49974e2a",
   "metadata": {},
   "outputs": [
    {
     "data": {
      "text/plain": [
       "0.6"
      ]
     },
     "execution_count": 22,
     "metadata": {},
     "output_type": "execute_result"
    }
   ],
   "source": [
    "try_to_divide(5)"
   ]
  },
  {
   "cell_type": "code",
   "execution_count": 23,
   "id": "e71faac2",
   "metadata": {},
   "outputs": [
    {
     "data": {
      "text/plain": [
       "\"Can't\""
      ]
     },
     "execution_count": 23,
     "metadata": {},
     "output_type": "execute_result"
    }
   ],
   "source": [
    "try_to_divide(0)"
   ]
  },
  {
   "cell_type": "code",
   "execution_count": 25,
   "id": "90fabbd0",
   "metadata": {},
   "outputs": [],
   "source": [
    "def try_to_divide(x):\n",
    "    try:\n",
    "        return 3/x\n",
    "    except ZeroDivisionError:\n",
    "        return \"Can't divide by zero\"\n",
    "    except:\n",
    "        return \"Can't for some other reason\""
   ]
  },
  {
   "cell_type": "code",
   "execution_count": 26,
   "id": "0793d1f0",
   "metadata": {},
   "outputs": [
    {
     "data": {
      "text/plain": [
       "nan"
      ]
     },
     "execution_count": 26,
     "metadata": {},
     "output_type": "execute_result"
    }
   ],
   "source": [
    "try_to_divide(np.nan)"
   ]
  },
  {
   "cell_type": "code",
   "execution_count": null,
   "id": "ebf9bf34",
   "metadata": {},
   "outputs": [],
   "source": []
  },
  {
   "cell_type": "code",
   "execution_count": 16,
   "id": "97c3a764",
   "metadata": {},
   "outputs": [],
   "source": [
    "def try_to_make_numeric(x):\n",
    "    try:\n",
    "        return pd.to_numeric(x)\n",
    "    except:\n",
    "        return x"
   ]
  },
  {
   "cell_type": "code",
   "execution_count": 17,
   "id": "17c79baf",
   "metadata": {},
   "outputs": [
    {
     "data": {
      "text/plain": [
       "Index                         int64\n",
       "Highest Charting Position     int64\n",
       "Number of Times Charted       int64\n",
       "Week of Highest Charting     object\n",
       "Song Name                    object\n",
       "Streams                      object\n",
       "Artist                       object\n",
       "Artist Followers             object\n",
       "Song ID                      object\n",
       "Genre                        object\n",
       "Release Date                 object\n",
       "Weeks Charted                object\n",
       "Popularity                   object\n",
       "Danceability                 object\n",
       "Energy                       object\n",
       "Loudness                     object\n",
       "Speechiness                  object\n",
       "Acousticness                 object\n",
       "Liveness                     object\n",
       "Tempo                        object\n",
       "Duration (ms)                object\n",
       "Valence                      object\n",
       "Chord                        object\n",
       "dtype: object"
      ]
     },
     "execution_count": 17,
     "metadata": {},
     "output_type": "execute_result"
    }
   ],
   "source": [
    "df.dtypes"
   ]
  },
  {
   "cell_type": "code",
   "execution_count": 19,
   "id": "a7eb4272",
   "metadata": {},
   "outputs": [],
   "source": [
    "df = df.apply(try_to_make_numeric,axis=0)"
   ]
  },
  {
   "cell_type": "code",
   "execution_count": 20,
   "id": "a9fe708d",
   "metadata": {},
   "outputs": [
    {
     "data": {
      "text/plain": [
       "Index                          int64\n",
       "Highest Charting Position      int64\n",
       "Number of Times Charted        int64\n",
       "Week of Highest Charting      object\n",
       "Song Name                     object\n",
       "Streams                        int64\n",
       "Artist                        object\n",
       "Artist Followers             float64\n",
       "Song ID                       object\n",
       "Genre                         object\n",
       "Release Date                  object\n",
       "Weeks Charted                 object\n",
       "Popularity                   float64\n",
       "Danceability                 float64\n",
       "Energy                       float64\n",
       "Loudness                     float64\n",
       "Speechiness                  float64\n",
       "Acousticness                 float64\n",
       "Liveness                     float64\n",
       "Tempo                        float64\n",
       "Duration (ms)                float64\n",
       "Valence                      float64\n",
       "Chord                         object\n",
       "dtype: object"
      ]
     },
     "execution_count": 20,
     "metadata": {},
     "output_type": "execute_result"
    }
   ],
   "source": [
    "df.dtypes"
   ]
  },
  {
   "cell_type": "code",
   "execution_count": null,
   "id": "ddc1bfe0",
   "metadata": {},
   "outputs": [],
   "source": []
  }
 ],
 "metadata": {
  "kernelspec": {
   "display_name": "Python 3 (ipykernel)",
   "language": "python",
   "name": "python3"
  },
  "language_info": {
   "codemirror_mode": {
    "name": "ipython",
    "version": 3
   },
   "file_extension": ".py",
   "mimetype": "text/x-python",
   "name": "python",
   "nbconvert_exporter": "python",
   "pygments_lexer": "ipython3",
   "version": "3.8.11"
  }
 },
 "nbformat": 4,
 "nbformat_minor": 5
}
