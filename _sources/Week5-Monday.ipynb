{
 "cells": [
  {
   "cell_type": "markdown",
   "id": "9f9c5eee",
   "metadata": {},
   "source": [
    "# Sample code from *Hands-On Machine Learning*\n",
    "One of the best ways to learn to code is to read and understand code written by experienced programmers.  \n",
    "\n",
    "This code comes from the book *Hands-On Machine Learning with Scikit-Learn, Keras, and TensorFlow, 2nd Edition* by Aurélien Géron.  From the UC Irvine campus (or using VPN), the book can be accessed through [O'Reilly textbooks](https://www.oreilly.com/library/view/temporary-access/).  The code was copied from the corresponding [GitHub page](https://github.com/ageron/handson-ml2).  Some small modifications have been made to incorporate additional Math 10 material.  (Here is the [License](https://github.com/ageron/handson-ml2/blob/master/LICENSE).)"
   ]
  },
  {
   "cell_type": "markdown",
   "id": "c4deb40e",
   "metadata": {},
   "source": [
    "## Worksheet assignment\n",
    "You can download this notebook by clicking the link at the top right of the page, and then right-clicking on the `.ipynb` option.  You need to download this notebook so you can evaluate this code yourself.\n",
    "\n",
    "Take notes on one of the notecards distributed in class.  The notes can be anything you think is useful from this code.  The notes could be things like: what are the different modules used for?  What is the syntax for plotting in Seaborn vs Matplotlib?\n",
    "\n",
    "The notes should include a description of how to perform linear regression using scikit-learn.\n",
    "\n",
    "Write the **names** of everyone in your group at the top of the notecard.\n",
    "\n",
    "Upload a picture of the notecard to Canvas.  (If you don't receive a notecard, you can take notes on an ordinary sheet of paper.)\n",
    "\n",
    "**Remark**: You are allowed to use a (different) notecard with notes during the midterm.  So while you are taking notes, be thinking about what sort of material would be useful for the midterm."
   ]
  },
  {
   "cell_type": "markdown",
   "id": "bced95c9",
   "metadata": {},
   "source": [
    "## Advice\n",
    "\n",
    "Don't be intimidated if some of this material looks very unfamiliar.  Almost all code looks unfamiliar the first time you see it.  Even if you return to some of your earlier Math 10 assignments, the code *you* wrote might also look confusing."
   ]
  },
  {
   "cell_type": "markdown",
   "id": "585adde0",
   "metadata": {},
   "source": [
    "## Preparing the data"
   ]
  },
  {
   "cell_type": "code",
   "execution_count": 4,
   "id": "81ebb36d",
   "metadata": {},
   "outputs": [],
   "source": [
    "import os\n",
    "import urllib.request\n",
    "\n",
    "import numpy as np\n",
    "import pandas as pd\n",
    "\n",
    "import matplotlib.pyplot as plt\n",
    "import seaborn as sns\n",
    "import altair as alt\n",
    "\n",
    "import sklearn\n",
    "import sklearn.linear_model"
   ]
  },
  {
   "cell_type": "code",
   "execution_count": 5,
   "id": "b23c943e",
   "metadata": {},
   "outputs": [],
   "source": [
    "assert sklearn.__version__ >= \"0.20\""
   ]
  },
  {
   "cell_type": "code",
   "execution_count": 6,
   "id": "6a7ee4d4",
   "metadata": {},
   "outputs": [
    {
     "data": {
      "text/plain": [
       "'/Users/christopherdavis/Dropbox/Teaching/Textbooks/UCI-Math-10'"
      ]
     },
     "execution_count": 6,
     "metadata": {},
     "output_type": "execute_result"
    }
   ],
   "source": [
    "os.getcwd()"
   ]
  },
  {
   "cell_type": "code",
   "execution_count": 7,
   "id": "b3668deb",
   "metadata": {},
   "outputs": [],
   "source": [
    "datapath = os.path.join(\"datasets\", \"lifesat\", \"\")"
   ]
  },
  {
   "cell_type": "code",
   "execution_count": 8,
   "id": "7af29440",
   "metadata": {},
   "outputs": [
    {
     "name": "stdout",
     "output_type": "stream",
     "text": [
      "Downloading oecd_bli_2015.csv\n",
      "Downloading gdp_per_capita.csv\n"
     ]
    }
   ],
   "source": [
    "DOWNLOAD_ROOT = \"https://raw.githubusercontent.com/ageron/handson-ml2/master/\"\n",
    "os.makedirs(datapath, exist_ok=True)\n",
    "for filename in (\"oecd_bli_2015.csv\", \"gdp_per_capita.csv\"):\n",
    "    print(f\"Downloading {filename}\")\n",
    "    url = DOWNLOAD_ROOT + \"datasets/lifesat/\" + filename\n",
    "    urllib.request.urlretrieve(url, datapath + filename)"
   ]
  },
  {
   "cell_type": "code",
   "execution_count": 9,
   "id": "657e30c1",
   "metadata": {},
   "outputs": [
    {
     "data": {
      "text/plain": [
       "['oecd_bli_2015.csv', 'gdp_per_capita.csv']"
      ]
     },
     "execution_count": 9,
     "metadata": {},
     "output_type": "execute_result"
    }
   ],
   "source": [
    "os.listdir(datapath)"
   ]
  },
  {
   "cell_type": "code",
   "execution_count": 24,
   "id": "e3735ca6",
   "metadata": {},
   "outputs": [],
   "source": [
    "oecd_bli = pd.read_csv(datapath + \"oecd_bli_2015.csv\", thousands=',')\n",
    "gdp_per_capita = pd.read_csv(datapath + \"gdp_per_capita.csv\",thousands=',',delimiter='\\t',\n",
    "                             encoding='latin1', na_values=\"n/a\")"
   ]
  },
  {
   "cell_type": "markdown",
   "id": "9c167a44",
   "metadata": {},
   "source": [
    "The next function `prepare_country_stats` is a little more complicated than the rest of the code, so focus on the rest of the code before returning to this function."
   ]
  },
  {
   "cell_type": "code",
   "execution_count": 25,
   "id": "95977b89",
   "metadata": {},
   "outputs": [],
   "source": [
    "def prepare_country_stats(oecd_bli, gdp_per_capita):\n",
    "    oecd_bli = oecd_bli[oecd_bli[\"INEQUALITY\"]==\"TOT\"]\n",
    "    oecd_bli = oecd_bli.pivot(index=\"Country\", columns=\"Indicator\", values=\"Value\")\n",
    "    gdp_per_capita.rename(columns={\"2015\": \"GDP per capita\"}, inplace=True)\n",
    "    try:\n",
    "        gdp_per_capita.set_index(\"Country\", inplace=True)\n",
    "    except KeyError:\n",
    "        pass\n",
    "    full_country_stats = pd.merge(left=oecd_bli, right=gdp_per_capita,\n",
    "                                  left_index=True, right_index=True)\n",
    "    full_country_stats.sort_values(by=\"GDP per capita\", inplace=True)\n",
    "    remove_indices = [0, 1, 6, 8, 33, 34, 35]\n",
    "    keep_indices = list(set(range(36)) - set(remove_indices))\n",
    "    return full_country_stats[[\"GDP per capita\", 'Life satisfaction']].iloc[keep_indices]"
   ]
  },
  {
   "cell_type": "code",
   "execution_count": 26,
   "id": "5cd5cf58",
   "metadata": {},
   "outputs": [],
   "source": [
    "country_stats = prepare_country_stats(oecd_bli, gdp_per_capita)"
   ]
  },
  {
   "cell_type": "markdown",
   "id": "de908c77",
   "metadata": {},
   "source": [
    "Getting data for the *predictor* (input) variable $X$ and the *target* (output) variable $y$."
   ]
  },
  {
   "cell_type": "code",
   "execution_count": 27,
   "id": "5917c67f",
   "metadata": {},
   "outputs": [],
   "source": [
    "X = np.array(country_stats[\"GDP per capita\"]).reshape(-1,1)\n",
    "y = np.array(country_stats[\"Life satisfaction\"]).reshape(-1,1)"
   ]
  },
  {
   "cell_type": "markdown",
   "id": "2705409c",
   "metadata": {},
   "source": [
    "## Linear regression with scikit-learn"
   ]
  },
  {
   "cell_type": "code",
   "execution_count": 28,
   "id": "768ff2fa",
   "metadata": {},
   "outputs": [
    {
     "name": "stdout",
     "output_type": "stream",
     "text": [
      "[[5.96242338]]\n"
     ]
    }
   ],
   "source": [
    "# Select a linear model\n",
    "model = sklearn.linear_model.LinearRegression()\n",
    "\n",
    "# Train the model\n",
    "model.fit(X, y)\n",
    "\n",
    "# Make a prediction for Cyprus\n",
    "X_new = [[22587]]  # Cyprus' GDP per capita\n",
    "print(model.predict(X_new)) # outputs [[ 5.96242338]]"
   ]
  },
  {
   "cell_type": "markdown",
   "id": "6fb12d4a",
   "metadata": {},
   "source": [
    "## Four examples of plotting the data"
   ]
  },
  {
   "cell_type": "code",
   "execution_count": 29,
   "id": "a14cec4a",
   "metadata": {},
   "outputs": [
    {
     "data": {
      "text/html": [
       "\n",
       "<div id=\"altair-viz-ce72f0969fa94f8d93776a0612f1b49e\"></div>\n",
       "<script type=\"text/javascript\">\n",
       "  (function(spec, embedOpt){\n",
       "    let outputDiv = document.currentScript.previousElementSibling;\n",
       "    if (outputDiv.id !== \"altair-viz-ce72f0969fa94f8d93776a0612f1b49e\") {\n",
       "      outputDiv = document.getElementById(\"altair-viz-ce72f0969fa94f8d93776a0612f1b49e\");\n",
       "    }\n",
       "    const paths = {\n",
       "      \"vega\": \"https://cdn.jsdelivr.net/npm//vega@5?noext\",\n",
       "      \"vega-lib\": \"https://cdn.jsdelivr.net/npm//vega-lib?noext\",\n",
       "      \"vega-lite\": \"https://cdn.jsdelivr.net/npm//vega-lite@4.8.1?noext\",\n",
       "      \"vega-embed\": \"https://cdn.jsdelivr.net/npm//vega-embed@6?noext\",\n",
       "    };\n",
       "\n",
       "    function loadScript(lib) {\n",
       "      return new Promise(function(resolve, reject) {\n",
       "        var s = document.createElement('script');\n",
       "        s.src = paths[lib];\n",
       "        s.async = true;\n",
       "        s.onload = () => resolve(paths[lib]);\n",
       "        s.onerror = () => reject(`Error loading script: ${paths[lib]}`);\n",
       "        document.getElementsByTagName(\"head\")[0].appendChild(s);\n",
       "      });\n",
       "    }\n",
       "\n",
       "    function showError(err) {\n",
       "      outputDiv.innerHTML = `<div class=\"error\" style=\"color:red;\">${err}</div>`;\n",
       "      throw err;\n",
       "    }\n",
       "\n",
       "    function displayChart(vegaEmbed) {\n",
       "      vegaEmbed(outputDiv, spec, embedOpt)\n",
       "        .catch(err => showError(`Javascript Error: ${err.message}<br>This usually means there's a typo in your chart specification. See the javascript console for the full traceback.`));\n",
       "    }\n",
       "\n",
       "    if(typeof define === \"function\" && define.amd) {\n",
       "      requirejs.config({paths});\n",
       "      require([\"vega-embed\"], displayChart, err => showError(`Error loading script: ${err.message}`));\n",
       "    } else if (typeof vegaEmbed === \"function\") {\n",
       "      displayChart(vegaEmbed);\n",
       "    } else {\n",
       "      loadScript(\"vega\")\n",
       "        .then(() => loadScript(\"vega-lite\"))\n",
       "        .then(() => loadScript(\"vega-embed\"))\n",
       "        .catch(showError)\n",
       "        .then(() => displayChart(vegaEmbed));\n",
       "    }\n",
       "  })({\"config\": {\"view\": {\"continuousWidth\": 400, \"continuousHeight\": 300}}, \"data\": {\"name\": \"data-b6b133ace65ab52ce7f49025b12940cf\"}, \"mark\": \"circle\", \"encoding\": {\"x\": {\"type\": \"quantitative\", \"field\": \"GDP per capita\"}, \"y\": {\"type\": \"quantitative\", \"field\": \"Life satisfaction\"}}, \"$schema\": \"https://vega.github.io/schema/vega-lite/v4.8.1.json\", \"datasets\": {\"data-b6b133ace65ab52ce7f49025b12940cf\": [{\"GDP per capita\": 9054.914, \"Life satisfaction\": 6.0}, {\"GDP per capita\": 9437.372, \"Life satisfaction\": 5.6}, {\"GDP per capita\": 12239.894, \"Life satisfaction\": 4.9}, {\"GDP per capita\": 12495.334, \"Life satisfaction\": 5.8}, {\"GDP per capita\": 15991.736, \"Life satisfaction\": 6.1}, {\"GDP per capita\": 17288.083, \"Life satisfaction\": 5.6}, {\"GDP per capita\": 18064.288, \"Life satisfaction\": 4.8}, {\"GDP per capita\": 19121.592, \"Life satisfaction\": 5.1}, {\"GDP per capita\": 20732.482, \"Life satisfaction\": 5.7}, {\"GDP per capita\": 25864.721, \"Life satisfaction\": 6.5}, {\"GDP per capita\": 27195.197, \"Life satisfaction\": 5.8}, {\"GDP per capita\": 29866.581, \"Life satisfaction\": 6.0}, {\"GDP per capita\": 32485.545, \"Life satisfaction\": 5.9}, {\"GDP per capita\": 35343.336, \"Life satisfaction\": 7.4}, {\"GDP per capita\": 37044.891, \"Life satisfaction\": 7.3}, {\"GDP per capita\": 37675.006, \"Life satisfaction\": 6.5}, {\"GDP per capita\": 40106.632, \"Life satisfaction\": 6.9}, {\"GDP per capita\": 40996.511, \"Life satisfaction\": 7.0}, {\"GDP per capita\": 41973.988, \"Life satisfaction\": 7.4}, {\"GDP per capita\": 43331.961, \"Life satisfaction\": 7.3}, {\"GDP per capita\": 43603.115, \"Life satisfaction\": 7.3}, {\"GDP per capita\": 43724.031, \"Life satisfaction\": 6.9}, {\"GDP per capita\": 43770.688, \"Life satisfaction\": 6.8}, {\"GDP per capita\": 49866.266, \"Life satisfaction\": 7.2}, {\"GDP per capita\": 50854.583, \"Life satisfaction\": 7.5}, {\"GDP per capita\": 50961.865, \"Life satisfaction\": 7.3}, {\"GDP per capita\": 51350.744, \"Life satisfaction\": 7.0}, {\"GDP per capita\": 52114.165, \"Life satisfaction\": 7.5}, {\"GDP per capita\": 55805.204, \"Life satisfaction\": 7.2}]}}, {\"mode\": \"vega-lite\"});\n",
       "</script>"
      ],
      "text/plain": [
       "alt.Chart(...)"
      ]
     },
     "execution_count": 29,
     "metadata": {},
     "output_type": "execute_result"
    }
   ],
   "source": [
    "# Altair\n",
    "alt.Chart(country_stats).mark_circle().encode(\n",
    "    x = \"GDP per capita\",\n",
    "    y = \"Life satisfaction\"\n",
    ")"
   ]
  },
  {
   "cell_type": "code",
   "execution_count": 30,
   "id": "5543ca8e",
   "metadata": {},
   "outputs": [
    {
     "data": {
      "text/plain": [
       "<matplotlib.collections.PathCollection at 0x7f95680ae550>"
      ]
     },
     "execution_count": 30,
     "metadata": {},
     "output_type": "execute_result"
    },
    {
     "data": {
      "image/png": "[encoded data removed]",
      "text/plain": [
       "<Figure size 432x288 with 1 Axes>"
      ]
     },
     "metadata": {
      "needs_background": "light"
     },
     "output_type": "display_data"
    }
   ],
   "source": [
    "# Matplotlib\n",
    "fig, ax = plt.subplots()\n",
    "ax.scatter(X,y)"
   ]
  },
  {
   "cell_type": "code",
   "execution_count": 31,
   "id": "d2ae5d92",
   "metadata": {},
   "outputs": [
    {
     "data": {
      "text/plain": [
       "<AxesSubplot:xlabel='GDP per capita', ylabel='Life satisfaction'>"
      ]
     },
     "execution_count": 31,
     "metadata": {},
     "output_type": "execute_result"
    },
    {
     "data": {
      "image/png": "[encoded data removed]",
      "text/plain": [
       "<Figure size 432x288 with 1 Axes>"
      ]
     },
     "metadata": {
      "needs_background": "light"
     },
     "output_type": "display_data"
    }
   ],
   "source": [
    "# Seaborn\n",
    "sns.scatterplot(data=country_stats, x=\"GDP per capita\", y = \"Life satisfaction\")"
   ]
  },
  {
   "cell_type": "code",
   "execution_count": 32,
   "id": "d066df2a",
   "metadata": {},
   "outputs": [
    {
     "data": {
      "text/plain": [
       "<AxesSubplot:xlabel='GDP per capita', ylabel='Life satisfaction'>"
      ]
     },
     "execution_count": 32,
     "metadata": {},
     "output_type": "execute_result"
    },
    {
     "data": {
      "image/png": "[encoded data removed]",
      "text/plain": [
       "<Figure size 432x288 with 1 Axes>"
      ]
     },
     "metadata": {
      "needs_background": "light"
     },
     "output_type": "display_data"
    }
   ],
   "source": [
    "# pandas\n",
    "country_stats.plot(kind='scatter', x=\"GDP per capita\", y='Life satisfaction')"
   ]
  },
  {
   "cell_type": "code",
   "execution_count": null,
   "id": "044a0616",
   "metadata": {},
   "outputs": [],
   "source": []
  }
 ],
 "metadata": {
  "kernelspec": {
   "display_name": "Python 3 (ipykernel)",
   "language": "python",
   "name": "python3"
  },
  "language_info": {
   "codemirror_mode": {
    "name": "ipython",
    "version": 3
   },
   "file_extension": ".py",
   "mimetype": "text/x-python",
   "name": "python",
   "nbconvert_exporter": "python",
   "pygments_lexer": "ipython3",
   "version": "3.8.11"
  }
 },
 "nbformat": 4,
 "nbformat_minor": 5
}
