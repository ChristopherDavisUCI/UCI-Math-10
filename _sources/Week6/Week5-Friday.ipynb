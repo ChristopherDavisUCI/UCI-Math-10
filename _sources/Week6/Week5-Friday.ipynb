{
 "cells": [
  {
   "cell_type": "markdown",
   "id": "7f8aaecc",
   "metadata": {},
   "source": [
    "<h2 style=\"color:red\">Remember to start recording</h2>"
   ]
  },
  {
   "cell_type": "markdown",
   "id": "498f6c8c",
   "metadata": {},
   "source": [
    "# Over-fitting and polynomial regression\n",
    "We will use the following constants.\n",
    "* `m = 50` (number of data points)\n",
    "* `x`-values randomly distributed in the interval $[-5,5]$\n",
    "* `y_true` values given by $c_2 x^2 + c_1 x + c_0$, where $c_2 = -1.4$, $c_1 = 6.5$, and $c_0 = 3.2$\n",
    "* `y` values given by `y_true` plus normally distributed random values with a mean of 0 and a standard deviation of 30.\n",
    "* `d`: the degree we use for the polynomial regression.  Minimum allowed value: 1.  Maximum allowed value: 20.\n",
    "* `df`: a pandas DataFrame holding all of our data."
   ]
  },
  {
   "cell_type": "code",
   "execution_count": 2,
   "id": "9c07e295",
   "metadata": {},
   "outputs": [],
   "source": [
    "import numpy as np\n",
    "import pandas as pd\n",
    "import altair as alt\n",
    "from sklearn.linear_model import LinearRegression\n",
    "\n",
    "rng = np.random.default_rng()"
   ]
  },
  {
   "cell_type": "markdown",
   "id": "0ebb4375",
   "metadata": {},
   "source": [
    "## Define and plot the initial data\n",
    "Define `m`, `x`, `c`, `y_true`, `y`.  Make a pandas DataFrame `df` with columns for `x`, `y_true`, and `y`."
   ]
  },
  {
   "cell_type": "markdown",
   "id": "f7f71259",
   "metadata": {},
   "source": [
    "Plot `x` vs `y_true` in one Altair chart, and `x` vs `y` in another chart.  Save these charts using the names `chart_true` and `chart_data`, respectively.  For `chart_true`, use `alt.value('black')` and plot the data using a black line.  For `chart_data`, plot the data using disks (in the default blue color)."
   ]
  },
  {
   "cell_type": "markdown",
   "id": "2bba4644",
   "metadata": {},
   "source": [
    "## Include powers of x in `df`\n",
    "Put more columns in df, corresponding to the powers of the `x`-column, up to and including degree 20."
   ]
  },
  {
   "cell_type": "markdown",
   "id": "4f0a7b1b",
   "metadata": {},
   "source": [
    "## Define a function performing the polynomial regression\n",
    "Define a function `poly_reg` which takes as input `df` and a degree `d`, then performs polynomial regression using that degree, and as output returns the fit LinearRegression object."
   ]
  },
  {
   "cell_type": "markdown",
   "id": "28e96943",
   "metadata": {},
   "source": [
    "## Define a function plotting the fit polynomial\n",
    "Define a function `make_chart` which takes as input `df` and a degree `d`, and as output returns an Altair chart showing the fit polynomial.  Use a red line for the polynomial.  Use `.copy()` at the beginning of the function so you are not changing the original DataFrame.  Give the chart a title using `.properties(title = ...)`."
   ]
  },
  {
   "cell_type": "markdown",
   "id": "d1e7fd1e",
   "metadata": {},
   "source": [
    "## Put the charts together\n",
    "Make a length 20 list `chart_list = [make_chart(df,1) + chart_true + chart_data, make_chart(df,2) + chart_true + chart_data, ..., make_chart(df,20) + chart_true + chart_data]`.  Use `alt.vconcat` to display all of these charts."
   ]
  }
 ],
 "metadata": {
  "kernelspec": {
   "display_name": "Python 3 (ipykernel)",
   "language": "python",
   "name": "python3"
  },
  "language_info": {
   "codemirror_mode": {
    "name": "ipython",
    "version": 3
   },
   "file_extension": ".py",
   "mimetype": "text/x-python",
   "name": "python",
   "nbconvert_exporter": "python",
   "pygments_lexer": "ipython3",
   "version": "3.8.12"
  }
 },
 "nbformat": 4,
 "nbformat_minor": 5
}
