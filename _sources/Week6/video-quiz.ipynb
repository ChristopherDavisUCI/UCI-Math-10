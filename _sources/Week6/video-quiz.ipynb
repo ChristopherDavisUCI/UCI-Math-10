{
 "cells": [
  {
   "cell_type": "markdown",
   "id": "7af44415",
   "metadata": {},
   "source": [
    "# Video quiz\n",
    "\n",
    "There is just one video quiz this week, but it is a little more difficult than usual; it is meant as practice for the midterm.\n",
    "\n",
    "Here is the documentation for the pandas method `pd.to_datetime`.  Notice that one of the allowable inputs is a pandas Series.\n",
    "\n",
    "<iframe\n",
    "  src=\"https://pandas.pydata.org/docs/reference/api/pandas.to_datetime.html#pandas-to-datetime\"\n",
    "  style=\"width:100%; height:300px;\"\n",
    "></iframe>\n",
    "\n",
    "Here we try the `pd.to_datetime` function using a list as our input instead of a Series."
   ]
  },
  {
   "cell_type": "code",
   "execution_count": 1,
   "id": "5b701e7a",
   "metadata": {},
   "outputs": [
    {
     "data": {
      "text/plain": [
       "DatetimeIndex(['2021-09-30', '2021-10-07', '2021-10-14', '2021-10-21'], dtype='datetime64[ns]', freq=None)"
      ]
     },
     "execution_count": 1,
     "metadata": {},
     "output_type": "execute_result"
    }
   ],
   "source": [
    "import pandas as pd\n",
    "\n",
    "x = pd.to_datetime([\"9/30/2021\",\"10/7/2021\",\"10/14/2021\",\"10/21/2021\"])\n",
    "x"
   ]
  },
  {
   "cell_type": "code",
   "execution_count": 2,
   "id": "8313ba08",
   "metadata": {},
   "outputs": [
    {
     "data": {
      "text/plain": [
       "4"
      ]
     },
     "execution_count": 2,
     "metadata": {},
     "output_type": "execute_result"
    }
   ],
   "source": [
    "len(x)"
   ]
  },
  {
   "cell_type": "code",
   "execution_count": 3,
   "id": "04943829",
   "metadata": {},
   "outputs": [
    {
     "data": {
      "text/plain": [
       "pandas._libs.tslibs.timestamps.Timestamp"
      ]
     },
     "execution_count": 3,
     "metadata": {},
     "output_type": "execute_result"
    }
   ],
   "source": [
    "type(x[0])"
   ]
  },
  {
   "cell_type": "code",
   "execution_count": 4,
   "id": "152194c6",
   "metadata": {},
   "outputs": [
    {
     "data": {
      "text/plain": [
       "'Thursday'"
      ]
     },
     "execution_count": 4,
     "metadata": {},
     "output_type": "execute_result"
    }
   ],
   "source": [
    "x[0].day_name()"
   ]
  },
  {
   "cell_type": "code",
   "execution_count": 5,
   "id": "6a0d8175",
   "metadata": {},
   "outputs": [
    {
     "data": {
      "text/plain": [
       "'October'"
      ]
     },
     "execution_count": 5,
     "metadata": {},
     "output_type": "execute_result"
    }
   ],
   "source": [
    "x[1].month_name()"
   ]
  },
  {
   "cell_type": "markdown",
   "id": "c8b752b0",
   "metadata": {},
   "source": [
    "```{admonition} Practice Exercise\n",
    ":class: hint\n",
    "\n",
    "1. Import our usual Spotify dataset using the option `na_values=\" \"` to tell `pd.read_csv` that the blank spaces represent NaN values.\n",
    "1. Convert the \"Release Date\" column so that it has datetime as its data type.\n",
    "1. How many songs in our dataset were released on a Tuesday?\n",
    " ```\n",
    "\n",
    "\n",
    "```{admonition} Video solution\n",
    ":class: info\n",
    "\n",
    "<iframe width=\"560\" height=\"315\" src=\"https://www.youtube.com/embed/QjfDg1s61SY\" title=\"YouTube video player\" frameborder=\"0\" allow=\"accelerometer; autoplay; clipboard-write; encrypted-media; gyroscope; picture-in-picture\" allowfullscreen></iframe>\n",
    "\n",
    "[Notebook from the video](datetime-notebook.ipynb)\n",
    "\n",
    " ```\n",
    "\n",
    "```{admonition} Canvas video quiz\n",
    ":class: attention\n",
    "\n",
    "[Link to the Canvas quiz](https://canvas.eee.uci.edu/courses/39211/quizzes/194805)<br><br>Due Monday before lecture.\n",
    " ```"
   ]
  }
 ],
 "metadata": {
  "jupytext": {
   "formats": "md:myst",
   "text_representation": {
    "extension": ".md",
    "format_name": "myst"
   }
  },
  "kernelspec": {
   "display_name": "Python 3",
   "language": "python",
   "name": "python3"
  },
  "language_info": {
   "codemirror_mode": {
    "name": "ipython",
    "version": 3
   },
   "file_extension": ".py",
   "mimetype": "text/x-python",
   "name": "python",
   "nbconvert_exporter": "python",
   "pygments_lexer": "ipython3",
   "version": "3.8.12"
  },
  "source_map": [
   11,
   26,
   33,
   37,
   41,
   45,
   47
  ]
 },
 "nbformat": 4,
 "nbformat_minor": 5
}