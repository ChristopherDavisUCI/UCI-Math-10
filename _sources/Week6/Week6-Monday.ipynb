{
 "cells": [
  {
   "cell_type": "markdown",
   "id": "66defd76",
   "metadata": {},
   "source": [
    "# Monday Worksheet"
   ]
  },
  {
   "cell_type": "code",
   "execution_count": 1,
   "id": "f419b6ac",
   "metadata": {
    "tags": [
     "output_scroll"
    ]
   },
   "outputs": [
    {
     "name": "stderr",
     "output_type": "stream",
     "text": [
      "2021-10-30 13:23:16.401 \n",
      "  \u001b[33m\u001b[1mWarning:\u001b[0m to view this Streamlit app on a browser, run it with the following\n",
      "  command:\n",
      "\n",
      "    streamlit run /Users/christopherdavis/opt/anaconda3/envs/book/lib/python3.8/site-packages/ipykernel_launcher.py [ARGUMENTS]\n"
     ]
    },
    {
     "data": {
      "text/plain": [
       "DeltaGenerator(_root_container=0, _provided_cursor=None, _parent=None, _block_type=None, _form_data=None)"
      ]
     },
     "execution_count": 1,
     "metadata": {},
     "output_type": "execute_result"
    }
   ],
   "source": [
    "import streamlit as st\n",
    "import numpy as np\n",
    "import pandas as pd\n",
    "import altair as alt\n",
    "from sklearn.linear_model import LinearRegression\n",
    "\n",
    "rng = np.random.default_rng()\n",
    "\n",
    "st.title(\"Over-fitting\")\n",
    "\n",
    "m = 50\n",
    "x = 10*rng.random(size=50) - 5\n",
    "c = [3.2,6.5,-1.4]\n",
    "\n",
    "y_true = c[0] + c[1]*x + c[2]*x**2\n",
    "\n",
    "y = y_true + rng.normal(loc = 0, scale = 30, size = m)\n",
    "\n",
    "df = pd.DataFrame({\"x\":x,\"y_true\":y_true, \"y\": y})\n",
    "\n",
    "\n",
    "chart_data = alt.Chart(df).mark_circle(clip = True).encode(\n",
    "    x = \"x\",\n",
    "    y = \"y\"\n",
    ")\n",
    "\n",
    "chart_true = alt.Chart(df).mark_line().encode(\n",
    "    x = \"x\",\n",
    "    y = \"y_true\",\n",
    "    color = alt.value(\"black\"),\n",
    ")\n",
    "\n",
    "for i in range(1,21):\n",
    "    df[\"x\"+str(i)] = df[\"x\"]**i\n",
    "\n",
    "def poly_reg(df, d):\n",
    "    reg = LinearRegression()\n",
    "    X = df[[f\"x{i}\" for i in range(1,d+1)]]\n",
    "    reg.fit(X,df[\"y\"])\n",
    "    return reg\n",
    "\n",
    "def make_chart(df,d):\n",
    "    df2 = df.copy()\n",
    "    reg = poly_reg(df,d)\n",
    "    X = df[[f\"x{i}\" for i in range(1,d+1)]]\n",
    "    df2[\"y_pred\"] = reg.predict(X)\n",
    "    chart = alt.Chart(df2).mark_line(clip = True).encode(\n",
    "        x = \"x1\",\n",
    "        y = alt.Y(\"y_pred\", scale = alt.Scale(domain=(-100,100))),\n",
    "        color = alt.value(\"red\"),\n",
    "    )\n",
    "    return chart\n",
    "\n",
    "st.altair_chart(make_chart(df,2)+chart_data+chart_true)"
   ]
  }
 ],
 "metadata": {
  "jupytext": {
   "formats": "md:myst",
   "text_representation": {
    "extension": ".md",
    "format_name": "myst"
   }
  },
  "kernelspec": {
   "display_name": "Python 3",
   "language": "python",
   "name": "python3"
  },
  "language_info": {
   "codemirror_mode": {
    "name": "ipython",
    "version": 3
   },
   "file_extension": ".py",
   "mimetype": "text/x-python",
   "name": "python",
   "nbconvert_exporter": "python",
   "pygments_lexer": "ipython3",
   "version": "3.8.12"
  },
  "source_map": [
   11,
   16
  ]
 },
 "nbformat": 4,
 "nbformat_minor": 5
}