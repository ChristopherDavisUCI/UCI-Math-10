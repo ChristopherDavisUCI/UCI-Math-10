{
 "cells": [
  {
   "cell_type": "markdown",
   "id": "8e251f81",
   "metadata": {},
   "source": [
    "# Homework 5\n",
    "\n",
    "You may submit this homework in a group of 1-3 total students.\n",
    "\n",
    "**Due date**.  Before lecture on Friday of Week 5, October 29th.\n",
    "\n",
    "Name(s): \n",
    "\n",
    "UCI ID(s): "
   ]
  },
  {
   "cell_type": "markdown",
   "id": "40ececb3",
   "metadata": {},
   "source": [
    "## Setup for multi-variable linear regression\n",
    "For $i = 1, 2, \\ldots, m$, we have an input $\\vec{x}^{\\,(i)} \\in \\mathbb{R}^{n}$ and an output $y^{(i)} \\in \\mathbb{R}$.  \n",
    "\n",
    "Given elements $\\theta_0, \\theta_1, \\ldots, \\theta_n \\in \\mathbb{R}$, we get a corresponding map $\\mathbb{R}^n \\rightarrow \\mathbb{R}$ given by \n",
    "\n",
    "$$\n",
    "(x_1, x_2, \\ldots, x_n) \\mapsto \\theta_0 + \\theta_1 x_1 + \\cdots  + \\theta_n x_n.\n",
    "$$\n",
    "\n",
    "We want to find the values of $\\theta_i$ which best model $\\vec{x}^{\\,(i)} \\leadsto y^{(i)}$.\n",
    "\n",
    "By \"best\", we mean the residual sum of squares loss function is as small as possible, where the loss function is given by \n",
    "\n",
    "$$\n",
    "J = \\frac{1}{m} \\sum_{i = 1}^m \\bigg(y^{(i)} - (\\theta_0 + \\theta_1 x_1^{(i)} + \\cdots  + \\theta_n x_n^{(i)})\\bigg)^2.\n",
    "$$\n",
    "\n",
    "Define an $m \\times (n+1)$ matrix $X$ whose $i$-th row is $(1,  x_1^{(i)}, \\ldots,  x_n^{(i)})$.  Let $\\vec{y}$ denote the $m \\times 1$ column vector $(y^{(1)}, \\ldots, y^{(m)})^T$, and let $\\vec{\\theta}$ denote the $(n+1) \\times 1$ column vector $(\\theta_0, \\theta_1, \\ldots, \\theta_n)^T$.\n",
    "\n",
    "We saw on Friday that any critical point (i.e., point where the gradient is zero) would have to satisfy\n",
    "\n",
    "$$\n",
    "-2\\vec{y}^{\\,T} X  + 2 \\vec{\\theta}^{\\,T}X^T X = (0,\\ldots,0),\n",
    "$$ \n",
    "\n",
    "which after taking transposes would imply\n",
    "\n",
    "$$\n",
    "X^T X \\vec{\\theta} = X^T \\vec{y}.\n",
    "$$"
   ]
  },
  {
   "cell_type": "markdown",
   "id": "9a4d74dd",
   "metadata": {},
   "source": [
    "## Questions"
   ]
  },
  {
   "cell_type": "markdown",
   "id": "004cf924",
   "metadata": {},
   "source": [
    "<p style=\"font-size:20px; color:blue; font-weight:bold\">Question 1:</p>\n",
    "\n",
    "(a) Geometrically, what is the meaning of $y^{(i)} - (\\theta_0 + \\theta_1 x_1^{(i)} + \\cdots  + \\theta_n x_n^{(i)})$?  Use the word *vertical* in your answer.\n",
    "\n",
    "(b) Why do we have the $1/m$ coefficient?\n",
    "\n",
    "(c) Would it make sense to try to maximize the loss function?  Do you think there is a maximum?\n",
    "\n",
    "(d) When we try to minimize the loss function, some of the variables are treated as constants.  Which ones?\n",
    "\n",
    "(e) What matrix being invertible enables us to find the critical point?  (Don't say $X$.  The matrix $X$ is usually not a square matrix, so it can't be invertible.) "
   ]
  },
  {
   "cell_type": "markdown",
   "id": "8bf77b04",
   "metadata": {},
   "source": [
    "Your answers here"
   ]
  },
  {
   "cell_type": "markdown",
   "id": "7ccd5765",
   "metadata": {},
   "source": [
    "<p style=\"font-size:20px; color:blue; font-weight:bold\">Question 2:</p>\n",
    "\n",
    "You will need to use some NumPy linear algebra commands, for matrix multiplication, transpose, and inverse.  (Warning: you can't multiply matrices in NumPy using `*`.)\n",
    "\n",
    "(a) Define m to be `10**5` and n to be `10**2`.  Make a matrix X as above of random real numbers uniformly distributed between 0 and 200.  Make a vector theta of length n+1 consisting of random integers between -20 and 20.  Define y to be $X \\vec{\\theta}$.  (So in this case the data has a perfect linear relationship, and we should be able to find theta exactly, up to some numerical precision errors.)\n",
    "\n",
    "(b) Check if the matrix $X^T X$ is invertible.\n",
    "\n",
    "(c) If it is invertible, check if $(X^T X)^{-1} X^T \\vec{y}$ is equal to $\\vec{\\theta}$."
   ]
  },
  {
   "cell_type": "code",
   "execution_count": 1,
   "id": "f77502f8",
   "metadata": {},
   "outputs": [],
   "source": [
    "# Your code here"
   ]
  },
  {
   "cell_type": "markdown",
   "id": "9067ca98",
   "metadata": {},
   "source": [
    "<p style=\"font-size:20px; color:blue; font-weight:bold\">Question 3:</p>\n",
    "\n",
    "How long does it take to compute $(X^T X)^{-1} X^T \\vec{y}$?  What about if you multiply $m$ by 3 (but leave $n$ the same)?  What about if you multiply $n$ by 3 (but leave $m$ the same)?  Which scaling by 3 makes the bigger impact?  Do you know what part of the computation is the most difficult for the computer?"
   ]
  },
  {
   "cell_type": "code",
   "execution_count": 2,
   "id": "1cd4ca56",
   "metadata": {},
   "outputs": [],
   "source": [
    "# Your code here"
   ]
  },
  {
   "cell_type": "markdown",
   "id": "94ebbe25",
   "metadata": {},
   "source": [
    "<p style=\"font-size:20px; color:blue; font-weight:bold\">Question 4:</p>\n",
    "\n",
    "Use LinearRegression from `sklearn.linear_model` to solve for theta in another way.  (You can either use `fit_intercept = False`, or you can remove the column of 1s from X.)"
   ]
  },
  {
   "cell_type": "code",
   "execution_count": null,
   "id": "d391fe9b",
   "metadata": {},
   "outputs": [],
   "source": [
    "# Your code here"
   ]
  }
 ],
 "metadata": {
  "kernelspec": {
   "display_name": "Python 3 (ipykernel)",
   "language": "python",
   "name": "python3"
  },
  "language_info": {
   "codemirror_mode": {
    "name": "ipython",
    "version": 3
   },
   "file_extension": ".py",
   "mimetype": "text/x-python",
   "name": "python",
   "nbconvert_exporter": "python",
   "pygments_lexer": "ipython3",
   "version": "3.8.12"
  }
 },
 "nbformat": 4,
 "nbformat_minor": 5
}
