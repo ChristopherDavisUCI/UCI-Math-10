{
 "cells": [
  {
   "cell_type": "markdown",
   "id": "c5520048",
   "metadata": {},
   "source": [
    "# Overfitting in TensorFlow\n",
    "Neural networks are amazing, but if you pick a random question and try to answer it using a neural network, there is a good chance the results will be disappointing.  Neural networks, especially those with many neurons and layers, are prone to overfitting.\n",
    "\n",
    "We will not get to it in this quarter of Math 10, but I want to point out the scikit-learn function `train_test_split` that can be very useful for producing test sets which can be used to help identify overfitting:  [documentation for train_test_split](https://scikit-learn.org/stable/modules/generated/sklearn.model_selection.train_test_split.html)"
   ]
  },
  {
   "cell_type": "markdown",
   "id": "733c5fab",
   "metadata": {},
   "source": [
    "## Code from last week and before"
   ]
  },
  {
   "cell_type": "code",
   "execution_count": 1,
   "id": "af7aae95",
   "metadata": {},
   "outputs": [
    {
     "name": "stdout",
     "output_type": "stream",
     "text": [
      "Init Plugin\n",
      "Init Graph Optimizer\n",
      "Init Kernel\n"
     ]
    }
   ],
   "source": [
    "import os\n",
    "os.environ['TF_CPP_MIN_LOG_LEVEL'] = '3' # suppress most warnings in TensorFlow\n",
    "import numpy as np\n",
    "import pandas as pd\n",
    "from pandas.api.types import is_numeric_dtype\n",
    "pd.set_option('display.float_format', lambda x: '%.3f' % x)\n",
    "from sklearn.preprocessing import StandardScaler\n",
    "import tensorflow as tf\n",
    "from tensorflow import keras\n",
    "import matplotlib.pyplot as plt"
   ]
  },
  {
   "cell_type": "code",
   "execution_count": 2,
   "id": "a4fbeb6f",
   "metadata": {},
   "outputs": [],
   "source": [
    "df = pd.read_csv(\"../data/spotify_dataset.csv\", na_values = \" \")\n",
    "df[\"Streams\"] = pd.to_numeric(df[\"Streams\"].map(lambda s: s.replace(\",\",\"\")))\n",
    "df = df[df.notna().all(axis=1)].copy()\n",
    "numeric_cols = [c for c in df.columns if is_numeric_dtype(df[c])]\n",
    "\n",
    "df[\"Genre\"] = df[\"Genre\"].map(eval)\n",
    "\n",
    "scaler = StandardScaler()\n",
    "scaler.fit(df[numeric_cols])\n",
    "\n",
    "df[numeric_cols] = scaler.transform(df[numeric_cols])\n",
    "\n",
    "def count_songs(g):\n",
    "    return len(df[df[\"Genre\"].map(lambda g_list: g in g_list)])\n",
    "\n",
    "all_genres = sorted(list(set(df[\"Genre\"].sum())))"
   ]
  },
  {
   "cell_type": "code",
   "execution_count": 4,
   "id": "ec09fb7c",
   "metadata": {},
   "outputs": [
    {
     "name": "stdout",
     "output_type": "stream",
     "text": [
      "Epoch 1/5\n",
      "1875/1875 [==============================] - 7s 4ms/step - loss: 2.0223 - accuracy: 0.4817\n",
      "Epoch 2/5\n",
      "1875/1875 [==============================] - 7s 4ms/step - loss: 1.4677 - accuracy: 0.6921\n",
      "Epoch 3/5\n",
      "1875/1875 [==============================] - 7s 4ms/step - loss: 1.0824 - accuracy: 0.7604\n",
      "Epoch 4/5\n",
      "1875/1875 [==============================] - 7s 4ms/step - loss: 0.8997 - accuracy: 0.7847\n",
      "Epoch 5/5\n",
      "1875/1875 [==============================] - 7s 4ms/step - loss: 0.7956 - accuracy: 0.8008\n"
     ]
    }
   ],
   "source": [
    "mnist = keras.datasets.mnist\n",
    "(X_train, y_train), (X_test, y_test) = mnist.load_data()\n",
    "\n",
    "model = keras.Sequential(\n",
    "    [\n",
    "        keras.layers.InputLayer(input_shape = (28,28)),\n",
    "        keras.layers.Flatten(),\n",
    "        keras.layers.Dense(16, activation=\"sigmoid\"),\n",
    "        keras.layers.Dense(16, activation=\"sigmoid\"),\n",
    "        keras.layers.Dense(10,activation=\"softmax\")\n",
    "    ]\n",
    ")\n",
    "\n",
    "model.compile(\n",
    "    loss=\"sparse_categorical_crossentropy\", \n",
    "    optimizer=keras.optimizers.SGD(learning_rate=0.01),\n",
    "    metrics=[\"accuracy\"],\n",
    ")\n",
    "\n",
    "history = model.fit(X_train,y_train,epochs=5)"
   ]
  },
  {
   "cell_type": "markdown",
   "id": "51e8ea6c",
   "metadata": {},
   "source": [
    "## Evaluating the network"
   ]
  },
  {
   "cell_type": "markdown",
   "id": "37d11f6a",
   "metadata": {},
   "source": [
    "The next result should be very close to the loss and accuracy from above, because it is computed using the same set `X_train`."
   ]
  },
  {
   "cell_type": "code",
   "execution_count": 5,
   "id": "685b7093",
   "metadata": {},
   "outputs": [
    {
     "name": "stdout",
     "output_type": "stream",
     "text": [
      "1875/1875 [==============================] - 6s 3ms/step - loss: 0.7606 - accuracy: 0.7904\n"
     ]
    },
    {
     "data": {
      "text/plain": [
       "[0.7605946063995361, 0.7904333472251892]"
      ]
     },
     "execution_count": 5,
     "metadata": {},
     "output_type": "execute_result"
    }
   ],
   "source": [
    "model.evaluate(X_train, y_train)"
   ]
  },
  {
   "cell_type": "markdown",
   "id": "341255a2",
   "metadata": {},
   "source": [
    "More interesting is the next result, because it is evaluated on a test set, which was not used when we trained the neural network.  The fact that the following numbers are similar to the above numbers is a good sign that we are not overfitting the data."
   ]
  },
  {
   "cell_type": "code",
   "execution_count": 6,
   "id": "b8b1c01f",
   "metadata": {},
   "outputs": [
    {
     "name": "stdout",
     "output_type": "stream",
     "text": [
      "313/313 [==============================] - 1s 4ms/step - loss: 0.7537 - accuracy: 0.7995\n"
     ]
    },
    {
     "data": {
      "text/plain": [
       "[0.7536877989768982, 0.799500048160553]"
      ]
     },
     "execution_count": 6,
     "metadata": {},
     "output_type": "execute_result"
    }
   ],
   "source": [
    "model.evaluate(X_test, y_test)"
   ]
  },
  {
   "cell_type": "markdown",
   "id": "d35bcd76",
   "metadata": {},
   "source": [
    "Another way to detect overfitting is to include a `validation_split` in the `model.fit` portion.  By including `validation_split = 0.2`, we are telling Keras to set aside 20% of the training data as a validation set.  This data will not be used in training the model, but the performance on this set will be measured."
   ]
  },
  {
   "cell_type": "code",
   "execution_count": 7,
   "id": "e6934e8e",
   "metadata": {},
   "outputs": [
    {
     "name": "stdout",
     "output_type": "stream",
     "text": [
      "Epoch 1/5\n",
      "1500/1500 [==============================] - 6s 4ms/step - loss: 2.0706 - accuracy: 0.4550 - val_loss: 1.8113 - val_accuracy: 0.6442\n",
      "Epoch 2/5\n",
      "1500/1500 [==============================] - 6s 4ms/step - loss: 1.5893 - accuracy: 0.6901 - val_loss: 1.3704 - val_accuracy: 0.7443\n",
      "Epoch 3/5\n",
      "1500/1500 [==============================] - 6s 4ms/step - loss: 1.2378 - accuracy: 0.7515 - val_loss: 1.0778 - val_accuracy: 0.7904\n",
      "Epoch 4/5\n",
      "1500/1500 [==============================] - 6s 4ms/step - loss: 1.0079 - accuracy: 0.7759 - val_loss: 0.9254 - val_accuracy: 0.7855\n",
      "Epoch 5/5\n",
      "1500/1500 [==============================] - 6s 4ms/step - loss: 0.8683 - accuracy: 0.7896 - val_loss: 0.7949 - val_accuracy: 0.8108\n"
     ]
    }
   ],
   "source": [
    "mnist = keras.datasets.mnist\n",
    "(X_train, y_train), (X_test, y_test) = mnist.load_data()\n",
    "\n",
    "model = keras.Sequential(\n",
    "    [\n",
    "        keras.layers.InputLayer(input_shape = (28,28)),\n",
    "        keras.layers.Flatten(),\n",
    "        keras.layers.Dense(16, activation=\"sigmoid\"),\n",
    "        keras.layers.Dense(16, activation=\"sigmoid\"),\n",
    "        keras.layers.Dense(10,activation=\"softmax\")\n",
    "    ]\n",
    ")\n",
    "\n",
    "model.compile(\n",
    "    loss=\"sparse_categorical_crossentropy\", \n",
    "    optimizer=keras.optimizers.SGD(learning_rate=0.01),\n",
    "    metrics=[\"accuracy\"],\n",
    ")\n",
    "\n",
    "history = model.fit(X_train, y_train, epochs=5, validation_split=0.2)"
   ]
  },
  {
   "cell_type": "markdown",
   "id": "a6b7c376",
   "metadata": {},
   "source": [
    "We can plot the data and see that in fact the network is performing *better* on the validation set than on the training set.  This is a very strong sign that we are not overfitting the data."
   ]
  },
  {
   "cell_type": "code",
   "execution_count": 8,
   "id": "454b253a",
   "metadata": {},
   "outputs": [
    {
     "data": {
      "text/plain": [
       "<matplotlib.legend.Legend at 0x2807447c0>"
      ]
     },
     "execution_count": 8,
     "metadata": {},
     "output_type": "execute_result"
    },
    {
     "data": {
      "image/png": "[encoded data removed]",
      "text/plain": [
       "<Figure size 432x288 with 1 Axes>"
      ]
     },
     "metadata": {
      "needs_background": "light"
     },
     "output_type": "display_data"
    }
   ],
   "source": [
    "fig, ax = plt.subplots()\n",
    "ax.plot(history.history['loss'])\n",
    "ax.plot(history.history['val_loss'])\n",
    "ax.set_ylabel('loss')\n",
    "ax.set_xlabel('epoch')\n",
    "ax.legend(['train', 'validation'], loc='upper right')"
   ]
  },
  {
   "cell_type": "markdown",
   "id": "9dc151be",
   "metadata": {},
   "source": [
    "## Spotify\n",
    "If you pick a random dataset and try to analyze it using a neural network, there is a good chance you will start overfitting the data."
   ]
  },
  {
   "cell_type": "code",
   "execution_count": 9,
   "id": "044fcc00",
   "metadata": {},
   "outputs": [
    {
     "data": {
      "text/html": [
       "<div>\n",
       "<style scoped>\n",
       "    .dataframe tbody tr th:only-of-type {\n",
       "        vertical-align: middle;\n",
       "    }\n",
       "\n",
       "    .dataframe tbody tr th {\n",
       "        vertical-align: top;\n",
       "    }\n",
       "\n",
       "    .dataframe thead th {\n",
       "        text-align: right;\n",
       "    }\n",
       "</style>\n",
       "<table border=\"1\" class=\"dataframe\">\n",
       "  <thead>\n",
       "    <tr style=\"text-align: right;\">\n",
       "      <th></th>\n",
       "      <th>Index</th>\n",
       "      <th>Highest Charting Position</th>\n",
       "      <th>Number of Times Charted</th>\n",
       "      <th>Streams</th>\n",
       "      <th>Artist Followers</th>\n",
       "      <th>Popularity</th>\n",
       "      <th>Danceability</th>\n",
       "      <th>Energy</th>\n",
       "      <th>Loudness</th>\n",
       "      <th>Speechiness</th>\n",
       "      <th>Acousticness</th>\n",
       "      <th>Liveness</th>\n",
       "      <th>Tempo</th>\n",
       "      <th>Duration (ms)</th>\n",
       "      <th>Valence</th>\n",
       "    </tr>\n",
       "  </thead>\n",
       "  <tbody>\n",
       "    <tr>\n",
       "      <th>0</th>\n",
       "      <td>-1.731</td>\n",
       "      <td>-1.494</td>\n",
       "      <td>-0.164</td>\n",
       "      <td>12.535</td>\n",
       "      <td>-0.680</td>\n",
       "      <td>1.891</td>\n",
       "      <td>0.169</td>\n",
       "      <td>1.031</td>\n",
       "      <td>0.614</td>\n",
       "      <td>-0.664</td>\n",
       "      <td>-0.486</td>\n",
       "      <td>1.234</td>\n",
       "      <td>0.378</td>\n",
       "      <td>0.289</td>\n",
       "      <td>0.327</td>\n",
       "    </tr>\n",
       "    <tr>\n",
       "      <th>1</th>\n",
       "      <td>-1.729</td>\n",
       "      <td>-1.477</td>\n",
       "      <td>-0.469</td>\n",
       "      <td>12.124</td>\n",
       "      <td>-0.749</td>\n",
       "      <td>1.828</td>\n",
       "      <td>-0.695</td>\n",
       "      <td>0.808</td>\n",
       "      <td>0.345</td>\n",
       "      <td>-0.683</td>\n",
       "      <td>-0.841</td>\n",
       "      <td>-0.543</td>\n",
       "      <td>1.593</td>\n",
       "      <td>-1.191</td>\n",
       "      <td>-0.162</td>\n",
       "    </tr>\n",
       "    <tr>\n",
       "      <th>2</th>\n",
       "      <td>-1.727</td>\n",
       "      <td>-1.494</td>\n",
       "      <td>0.019</td>\n",
       "      <td>10.024</td>\n",
       "      <td>-0.507</td>\n",
       "      <td>1.828</td>\n",
       "      <td>-0.892</td>\n",
       "      <td>0.189</td>\n",
       "      <td>0.520</td>\n",
       "      <td>0.275</td>\n",
       "      <td>0.345</td>\n",
       "      <td>-0.669</td>\n",
       "      <td>1.491</td>\n",
       "      <td>-0.420</td>\n",
       "      <td>0.763</td>\n",
       "    </tr>\n",
       "    <tr>\n",
       "      <th>3</th>\n",
       "      <td>-1.725</td>\n",
       "      <td>-1.460</td>\n",
       "      <td>-0.347</td>\n",
       "      <td>9.324</td>\n",
       "      <td>4.114</td>\n",
       "      <td>1.764</td>\n",
       "      <td>0.829</td>\n",
       "      <td>1.631</td>\n",
       "      <td>1.051</td>\n",
       "      <td>-0.805</td>\n",
       "      <td>-0.806</td>\n",
       "      <td>1.269</td>\n",
       "      <td>0.109</td>\n",
       "      <td>0.702</td>\n",
       "      <td>0.336</td>\n",
       "    </tr>\n",
       "    <tr>\n",
       "      <th>4</th>\n",
       "      <td>-1.722</td>\n",
       "      <td>-1.425</td>\n",
       "      <td>-0.591</td>\n",
       "      <td>8.183</td>\n",
       "      <td>-0.554</td>\n",
       "      <td>1.638</td>\n",
       "      <td>0.323</td>\n",
       "      <td>0.436</td>\n",
       "      <td>-0.423</td>\n",
       "      <td>-0.563</td>\n",
       "      <td>-0.913</td>\n",
       "      <td>-0.910</td>\n",
       "      <td>0.919</td>\n",
       "      <td>0.298</td>\n",
       "      <td>1.669</td>\n",
       "    </tr>\n",
       "    <tr>\n",
       "      <th>...</th>\n",
       "      <td>...</td>\n",
       "      <td>...</td>\n",
       "      <td>...</td>\n",
       "      <td>...</td>\n",
       "      <td>...</td>\n",
       "      <td>...</td>\n",
       "      <td>...</td>\n",
       "      <td>...</td>\n",
       "      <td>...</td>\n",
       "      <td>...</td>\n",
       "      <td>...</td>\n",
       "      <td>...</td>\n",
       "      <td>...</td>\n",
       "      <td>...</td>\n",
       "      <td>...</td>\n",
       "    </tr>\n",
       "    <tr>\n",
       "      <th>1551</th>\n",
       "      <td>1.720</td>\n",
       "      <td>1.844</td>\n",
       "      <td>-0.591</td>\n",
       "      <td>-0.506</td>\n",
       "      <td>0.747</td>\n",
       "      <td>0.563</td>\n",
       "      <td>0.506</td>\n",
       "      <td>0.412</td>\n",
       "      <td>0.131</td>\n",
       "      <td>-0.492</td>\n",
       "      <td>-0.983</td>\n",
       "      <td>-0.196</td>\n",
       "      <td>-0.228</td>\n",
       "      <td>0.241</td>\n",
       "      <td>0.411</td>\n",
       "    </tr>\n",
       "    <tr>\n",
       "      <th>1552</th>\n",
       "      <td>1.722</td>\n",
       "      <td>1.861</td>\n",
       "      <td>-0.591</td>\n",
       "      <td>-0.508</td>\n",
       "      <td>0.018</td>\n",
       "      <td>-0.259</td>\n",
       "      <td>-1.138</td>\n",
       "      <td>1.464</td>\n",
       "      <td>1.286</td>\n",
       "      <td>-0.349</td>\n",
       "      <td>-0.035</td>\n",
       "      <td>1.054</td>\n",
       "      <td>0.999</td>\n",
       "      <td>-0.340</td>\n",
       "      <td>0.877</td>\n",
       "    </tr>\n",
       "    <tr>\n",
       "      <th>1553</th>\n",
       "      <td>1.724</td>\n",
       "      <td>1.879</td>\n",
       "      <td>-0.591</td>\n",
       "      <td>-0.509</td>\n",
       "      <td>0.479</td>\n",
       "      <td>0.690</td>\n",
       "      <td>0.527</td>\n",
       "      <td>-0.684</td>\n",
       "      <td>0.803</td>\n",
       "      <td>-0.849</td>\n",
       "      <td>-0.259</td>\n",
       "      <td>-0.342</td>\n",
       "      <td>-0.603</td>\n",
       "      <td>0.411</td>\n",
       "      <td>-0.531</td>\n",
       "    </tr>\n",
       "    <tr>\n",
       "      <th>1554</th>\n",
       "      <td>1.726</td>\n",
       "      <td>1.896</td>\n",
       "      <td>-0.591</td>\n",
       "      <td>-0.513</td>\n",
       "      <td>-0.870</td>\n",
       "      <td>-0.638</td>\n",
       "      <td>0.997</td>\n",
       "      <td>-0.517</td>\n",
       "      <td>-0.270</td>\n",
       "      <td>-0.589</td>\n",
       "      <td>0.001</td>\n",
       "      <td>0.006</td>\n",
       "      <td>1.057</td>\n",
       "      <td>-0.958</td>\n",
       "      <td>1.612</td>\n",
       "    </tr>\n",
       "    <tr>\n",
       "      <th>1555</th>\n",
       "      <td>1.728</td>\n",
       "      <td>1.913</td>\n",
       "      <td>-0.591</td>\n",
       "      <td>-0.516</td>\n",
       "      <td>1.650</td>\n",
       "      <td>-0.006</td>\n",
       "      <td>-1.699</td>\n",
       "      <td>-0.189</td>\n",
       "      <td>-0.330</td>\n",
       "      <td>-0.541</td>\n",
       "      <td>0.737</td>\n",
       "      <td>-0.660</td>\n",
       "      <td>2.788</td>\n",
       "      <td>0.496</td>\n",
       "      <td>-0.408</td>\n",
       "    </tr>\n",
       "  </tbody>\n",
       "</table>\n",
       "<p>1545 rows × 15 columns</p>\n",
       "</div>"
      ],
      "text/plain": [
       "      Index  Highest Charting Position  Number of Times Charted  Streams  \\\n",
       "0    -1.731                     -1.494                   -0.164   12.535   \n",
       "1    -1.729                     -1.477                   -0.469   12.124   \n",
       "2    -1.727                     -1.494                    0.019   10.024   \n",
       "3    -1.725                     -1.460                   -0.347    9.324   \n",
       "4    -1.722                     -1.425                   -0.591    8.183   \n",
       "...     ...                        ...                      ...      ...   \n",
       "1551  1.720                      1.844                   -0.591   -0.506   \n",
       "1552  1.722                      1.861                   -0.591   -0.508   \n",
       "1553  1.724                      1.879                   -0.591   -0.509   \n",
       "1554  1.726                      1.896                   -0.591   -0.513   \n",
       "1555  1.728                      1.913                   -0.591   -0.516   \n",
       "\n",
       "      Artist Followers  Popularity  Danceability  Energy  Loudness  \\\n",
       "0               -0.680       1.891         0.169   1.031     0.614   \n",
       "1               -0.749       1.828        -0.695   0.808     0.345   \n",
       "2               -0.507       1.828        -0.892   0.189     0.520   \n",
       "3                4.114       1.764         0.829   1.631     1.051   \n",
       "4               -0.554       1.638         0.323   0.436    -0.423   \n",
       "...                ...         ...           ...     ...       ...   \n",
       "1551             0.747       0.563         0.506   0.412     0.131   \n",
       "1552             0.018      -0.259        -1.138   1.464     1.286   \n",
       "1553             0.479       0.690         0.527  -0.684     0.803   \n",
       "1554            -0.870      -0.638         0.997  -0.517    -0.270   \n",
       "1555             1.650      -0.006        -1.699  -0.189    -0.330   \n",
       "\n",
       "      Speechiness  Acousticness  Liveness  Tempo  Duration (ms)  Valence  \n",
       "0          -0.664        -0.486     1.234  0.378          0.289    0.327  \n",
       "1          -0.683        -0.841    -0.543  1.593         -1.191   -0.162  \n",
       "2           0.275         0.345    -0.669  1.491         -0.420    0.763  \n",
       "3          -0.805        -0.806     1.269  0.109          0.702    0.336  \n",
       "4          -0.563        -0.913    -0.910  0.919          0.298    1.669  \n",
       "...           ...           ...       ...    ...            ...      ...  \n",
       "1551       -0.492        -0.983    -0.196 -0.228          0.241    0.411  \n",
       "1552       -0.349        -0.035     1.054  0.999         -0.340    0.877  \n",
       "1553       -0.849        -0.259    -0.342 -0.603          0.411   -0.531  \n",
       "1554       -0.589         0.001     0.006  1.057         -0.958    1.612  \n",
       "1555       -0.541         0.737    -0.660  2.788          0.496   -0.408  \n",
       "\n",
       "[1545 rows x 15 columns]"
      ]
     },
     "execution_count": 9,
     "metadata": {},
     "output_type": "execute_result"
    }
   ],
   "source": [
    "df[numeric_cols]"
   ]
  },
  {
   "cell_type": "markdown",
   "id": "eec8827f",
   "metadata": {},
   "source": [
    "Is the \"rap\" one of the genres?"
   ]
  },
  {
   "cell_type": "code",
   "execution_count": 11,
   "id": "ba5968c5",
   "metadata": {},
   "outputs": [],
   "source": [
    "df[\"is_rap\"] = df[\"Genre\"].map(lambda g_list: \"rap\" in g_list)"
   ]
  },
  {
   "cell_type": "code",
   "execution_count": 12,
   "id": "066c3dcb",
   "metadata": {},
   "outputs": [
    {
     "data": {
      "text/plain": [
       "310"
      ]
     },
     "execution_count": 12,
     "metadata": {},
     "output_type": "execute_result"
    }
   ],
   "source": [
    "df[\"is_rap\"].sum()"
   ]
  },
  {
   "cell_type": "code",
   "execution_count": 13,
   "id": "2c7230a8",
   "metadata": {},
   "outputs": [
    {
     "data": {
      "text/plain": [
       "False    1235\n",
       "True      310\n",
       "Name: is_rap, dtype: int64"
      ]
     },
     "execution_count": 13,
     "metadata": {},
     "output_type": "execute_result"
    }
   ],
   "source": [
    "df[\"is_rap\"].value_counts()"
   ]
  },
  {
   "cell_type": "code",
   "execution_count": 14,
   "id": "7bf5d307",
   "metadata": {},
   "outputs": [
    {
     "data": {
      "text/plain": [
       "0.20064724919093851"
      ]
     },
     "execution_count": 14,
     "metadata": {},
     "output_type": "execute_result"
    }
   ],
   "source": [
    "310/(1235+310)"
   ]
  },
  {
   "cell_type": "markdown",
   "id": "19d991a0",
   "metadata": {},
   "source": [
    "Nearly exactly 80% of the songs are not rap, so any model we train should at least have 80% accuracy, because otherwise we could do better simply by always predicting `False`.\n",
    "\n",
    "We will use all the numeric columns as our inputs, and the `is_rap` column as our output."
   ]
  },
  {
   "cell_type": "code",
   "execution_count": 15,
   "id": "35025a05",
   "metadata": {},
   "outputs": [],
   "source": [
    "X_train = df[numeric_cols]\n",
    "y_train = df[\"is_rap\"]"
   ]
  },
  {
   "cell_type": "code",
   "execution_count": 16,
   "id": "ee7d7ffe",
   "metadata": {},
   "outputs": [
    {
     "data": {
      "text/plain": [
       "(1545, 15)"
      ]
     },
     "execution_count": 16,
     "metadata": {},
     "output_type": "execute_result"
    }
   ],
   "source": [
    "X_train.shape"
   ]
  },
  {
   "cell_type": "code",
   "execution_count": 17,
   "id": "f12fffe5",
   "metadata": {},
   "outputs": [
    {
     "data": {
      "text/plain": [
       "(1545,)"
      ]
     },
     "execution_count": 17,
     "metadata": {},
     "output_type": "execute_result"
    }
   ],
   "source": [
    "y_train.shape"
   ]
  },
  {
   "cell_type": "markdown",
   "id": "e73e1fb7",
   "metadata": {},
   "source": [
    "We make some changes to the model.  It is essential to change the input shape, because now each input data point is a length 15 vector.  We also now change the output layer, since there is only 1 value we are trying to output (True or False).  We also change the `loss` function to `\"binary_crossentropy\"`, which is a standard choice for classification models with only a True or False output."
   ]
  },
  {
   "cell_type": "code",
   "execution_count": 18,
   "id": "905d8b69",
   "metadata": {},
   "outputs": [],
   "source": [
    "model = keras.Sequential(\n",
    "    [\n",
    "        keras.layers.InputLayer(input_shape = (15,)),\n",
    "        keras.layers.Dense(16, activation=\"sigmoid\"),\n",
    "        keras.layers.Dense(16, activation=\"sigmoid\"),\n",
    "        keras.layers.Dense(1,activation=\"sigmoid\")\n",
    "    ]\n",
    ")\n",
    "\n",
    "model.compile(\n",
    "    loss=\"binary_crossentropy\", \n",
    "    optimizer=keras.optimizers.SGD(learning_rate=0.01),\n",
    "    metrics=[\"accuracy\"],\n",
    ")\n",
    "\n",
    "history = model.fit(X_train,y_train,epochs=100, validation_split = 0.2, verbose = False)"
   ]
  },
  {
   "cell_type": "markdown",
   "id": "c6556370",
   "metadata": {},
   "source": [
    "The following plot is very typical.  Initially (for about the first 5 epochs) the performances on the training set and the validation set are very similar.  But then the two plots diverge; that is where we probably start to overfit the training data."
   ]
  },
  {
   "cell_type": "code",
   "execution_count": 19,
   "id": "18c9d824",
   "metadata": {},
   "outputs": [
    {
     "data": {
      "text/plain": [
       "<matplotlib.legend.Legend at 0x285317cd0>"
      ]
     },
     "execution_count": 19,
     "metadata": {},
     "output_type": "execute_result"
    },
    {
     "data": {
      "image/png": "[encoded data removed]",
      "text/plain": [
       "<Figure size 432x288 with 1 Axes>"
      ]
     },
     "metadata": {
      "needs_background": "light"
     },
     "output_type": "display_data"
    }
   ],
   "source": [
    "fig, ax = plt.subplots()\n",
    "ax.plot(history.history['loss'])\n",
    "ax.plot(history.history['val_loss'])\n",
    "ax.set_ylabel('loss')\n",
    "ax.set_xlabel('epoch')\n",
    "ax.legend(['train', 'validation'], loc='upper right')"
   ]
  },
  {
   "cell_type": "markdown",
   "id": "91f51167",
   "metadata": {},
   "source": [
    "We can also plot the accuracies.  You can see in the next plot that the accuracy on the validation set is worse than mere guessing of `False`."
   ]
  },
  {
   "cell_type": "code",
   "execution_count": 21,
   "id": "6a9a55d7",
   "metadata": {},
   "outputs": [
    {
     "data": {
      "text/plain": [
       "<matplotlib.legend.Legend at 0x28086b0d0>"
      ]
     },
     "execution_count": 21,
     "metadata": {},
     "output_type": "execute_result"
    },
    {
     "data": {
      "image/png": "[encoded data removed]",
      "text/plain": [
       "<Figure size 432x288 with 1 Axes>"
      ]
     },
     "metadata": {
      "needs_background": "light"
     },
     "output_type": "display_data"
    }
   ],
   "source": [
    "fig, ax = plt.subplots()\n",
    "ax.plot(history.history['accuracy'])\n",
    "ax.plot(history.history['val_accuracy'])\n",
    "ax.set_ylabel('loss')\n",
    "ax.set_xlabel('epoch')\n",
    "ax.legend(['train', 'validation'], loc='upper right')"
   ]
  },
  {
   "cell_type": "markdown",
   "id": "d1b365fa",
   "metadata": {},
   "source": [
    "This is a little different from what we did in class.  I make a huge neural network, like what we did in class, but I also increased the learning rate, and I changed some of the activation functions to `\"relu\"`, which is a very common choice.  This sort of huge neural network is almost guaranteed to badly overfit the data."
   ]
  },
  {
   "cell_type": "code",
   "execution_count": 27,
   "id": "424d153e",
   "metadata": {},
   "outputs": [],
   "source": [
    "model = keras.Sequential(\n",
    "    [\n",
    "        keras.layers.InputLayer(input_shape = (15,)),\n",
    "        keras.layers.Dense(160, activation=\"relu\"),\n",
    "        keras.layers.Dense(160, activation=\"relu\"),\n",
    "        keras.layers.Dense(160, activation=\"relu\"),\n",
    "        keras.layers.Dense(16, activation=\"relu\"),\n",
    "        keras.layers.Dense(16, activation=\"relu\"),\n",
    "        keras.layers.Dense(16, activation=\"relu\"),\n",
    "        keras.layers.Dense(1,activation=\"sigmoid\")\n",
    "    ]\n",
    ")\n",
    "\n",
    "model.compile(\n",
    "    loss=\"binary_crossentropy\", \n",
    "    optimizer=keras.optimizers.SGD(learning_rate=0.2),\n",
    "    metrics=[\"accuracy\"],\n",
    ")\n",
    "\n",
    "history = model.fit(X_train,y_train,epochs=100, validation_split = 0.2, verbose = False)"
   ]
  },
  {
   "cell_type": "markdown",
   "id": "c874924f",
   "metadata": {},
   "source": [
    "This neural network depends on over 50,000 weights and biases."
   ]
  },
  {
   "cell_type": "code",
   "execution_count": 28,
   "id": "051bb743",
   "metadata": {
    "scrolled": true
   },
   "outputs": [
    {
     "name": "stdout",
     "output_type": "stream",
     "text": [
      "Model: \"sequential_10\"\n",
      "_________________________________________________________________\n",
      "Layer (type)                 Output Shape              Param #   \n",
      "=================================================================\n",
      "dense_54 (Dense)             (None, 160)               2560      \n",
      "_________________________________________________________________\n",
      "dense_55 (Dense)             (None, 160)               25760     \n",
      "_________________________________________________________________\n",
      "dense_56 (Dense)             (None, 160)               25760     \n",
      "_________________________________________________________________\n",
      "dense_57 (Dense)             (None, 16)                2576      \n",
      "_________________________________________________________________\n",
      "dense_58 (Dense)             (None, 16)                272       \n",
      "_________________________________________________________________\n",
      "dense_59 (Dense)             (None, 16)                272       \n",
      "_________________________________________________________________\n",
      "dense_60 (Dense)             (None, 1)                 17        \n",
      "=================================================================\n",
      "Total params: 57,217\n",
      "Trainable params: 57,217\n",
      "Non-trainable params: 0\n",
      "_________________________________________________________________\n"
     ]
    }
   ],
   "source": [
    "model.summary()"
   ]
  },
  {
   "cell_type": "markdown",
   "id": "a22a0b09",
   "metadata": {},
   "source": [
    "Here is a typical chart representing overfitting.  Again there is a brief moment where the validation loss score improves (i.e., decreases), but we rapidly start overfitting the data.  You can also see that the result is more chaotic on the validation set than on the training set."
   ]
  },
  {
   "cell_type": "code",
   "execution_count": 29,
   "id": "9b33d465",
   "metadata": {},
   "outputs": [
    {
     "data": {
      "text/plain": [
       "<matplotlib.legend.Legend at 0x2b86c3b50>"
      ]
     },
     "execution_count": 29,
     "metadata": {},
     "output_type": "execute_result"
    },
    {
     "data": {
      "image/png": "[encoded data removed]",
      "text/plain": [
       "<Figure size 432x288 with 1 Axes>"
      ]
     },
     "metadata": {
      "needs_background": "light"
     },
     "output_type": "display_data"
    }
   ],
   "source": [
    "fig, ax = plt.subplots()\n",
    "ax.plot(history.history['loss'])\n",
    "ax.plot(history.history['val_loss'])\n",
    "ax.set_ylabel('loss')\n",
    "ax.set_xlabel('epoch')\n",
    "ax.legend(['train', 'validation'], loc='upper right')"
   ]
  },
  {
   "cell_type": "markdown",
   "id": "cfddefbc",
   "metadata": {},
   "source": [
    "A much smaller neural network like this next one is more likely to perform well."
   ]
  },
  {
   "cell_type": "code",
   "execution_count": 31,
   "id": "bb8c1a61",
   "metadata": {},
   "outputs": [],
   "source": [
    "model = keras.Sequential(\n",
    "    [\n",
    "        keras.layers.InputLayer(input_shape = (15,)),\n",
    "        keras.layers.Dense(3, activation=\"sigmoid\"),\n",
    "        keras.layers.Dense(1,activation=\"sigmoid\")\n",
    "    ]\n",
    ")\n",
    "\n",
    "model.compile(\n",
    "    loss=\"binary_crossentropy\", \n",
    "    optimizer=keras.optimizers.SGD(learning_rate=0.01),\n",
    "    metrics=[\"accuracy\"],\n",
    ")\n",
    "\n",
    "history = model.fit(X_train,y_train,epochs=100, validation_split = 0.2, verbose = False)"
   ]
  },
  {
   "cell_type": "markdown",
   "id": "c6ae485e",
   "metadata": {},
   "source": [
    "Although there is some overfitting (since the training loss is better than the validation loss), we see that the validation loss is improving even as we approach the 100th epoch, so ti might make sense to use more epochs."
   ]
  },
  {
   "cell_type": "code",
   "execution_count": 32,
   "id": "d626b17f",
   "metadata": {},
   "outputs": [
    {
     "data": {
      "text/plain": [
       "<matplotlib.legend.Legend at 0x281c70160>"
      ]
     },
     "execution_count": 32,
     "metadata": {},
     "output_type": "execute_result"
    },
    {
     "data": {
      "image/png": "[encoded data removed]",
      "text/plain": [
       "<Figure size 432x288 with 1 Axes>"
      ]
     },
     "metadata": {
      "needs_background": "light"
     },
     "output_type": "display_data"
    }
   ],
   "source": [
    "fig, ax = plt.subplots()\n",
    "ax.plot(history.history['loss'])\n",
    "ax.plot(history.history['val_loss'])\n",
    "ax.set_ylabel('loss')\n",
    "ax.set_xlabel('epoch')\n",
    "ax.legend(['train', 'validation'], loc='upper right')"
   ]
  },
  {
   "cell_type": "markdown",
   "id": "2a16d94b",
   "metadata": {},
   "source": [
    "(tf-regression)=\n",
    "## Regression\n",
    "We briefly show how to use neural networks for regression (so far, we have only used them for classification).  We will try to predict the value in the Energy column using the values of the other numeric columns."
   ]
  },
  {
   "cell_type": "code",
   "execution_count": 34,
   "id": "98a3769f",
   "metadata": {},
   "outputs": [],
   "source": [
    "X_train = df[numeric_cols].drop(\"Energy\", axis=1)\n",
    "y_train = df[\"Energy\"]"
   ]
  },
  {
   "cell_type": "markdown",
   "id": "3dca5228",
   "metadata": {},
   "source": [
    "It is important to switch to a loss function that is more well-suited to regression problems.  As a reminder, here are some of the things we can change in general when constructing a neural network.\n",
    "\n",
    "* The structure of the network (how many layers, how many neurons)\n",
    "* What activation function to use (can use a different one on each layer): [activations in Keras](https://keras.io/api/layers/activations/)\n",
    "* What loss function to use: [losses in Keras](https://keras.io/api/losses/)\n",
    "* What optimizer to use: [optimizers in Keras](https://keras.io/api/optimizers/)\n",
    "\n",
    "We also get rid of the sigmoid activation function in the output layer.  (Sigmoid makes most sense when we are predicting a probability.)"
   ]
  },
  {
   "cell_type": "code",
   "execution_count": 35,
   "id": "4f03e45b",
   "metadata": {},
   "outputs": [],
   "source": [
    "model = keras.Sequential(\n",
    "    [\n",
    "        keras.layers.InputLayer(input_shape = (14,)),\n",
    "        keras.layers.Dense(100, activation=\"sigmoid\"),\n",
    "        keras.layers.Dense(100, activation=\"sigmoid\"),\n",
    "        keras.layers.Dense(1,activation=\"linear\")\n",
    "    ]\n",
    ")\n",
    "\n",
    "model.compile(\n",
    "    loss=\"mean_squared_error\", \n",
    "    optimizer=keras.optimizers.SGD(learning_rate=0.01),\n",
    "    #metrics=[\"accuracy\"],\n",
    ")\n",
    "\n",
    "history = model.fit(X_train,y_train,epochs=50, validation_split = 0.2, verbose=False)"
   ]
  },
  {
   "cell_type": "markdown",
   "id": "62581dc9",
   "metadata": {},
   "source": [
    "I am a little surprised that even with such a large neural network, we do not seem to be overfitting the data, as demonstrated by the following plot."
   ]
  },
  {
   "cell_type": "code",
   "execution_count": 36,
   "id": "acb77af8",
   "metadata": {},
   "outputs": [
    {
     "data": {
      "text/plain": [
       "<matplotlib.legend.Legend at 0x28172f2b0>"
      ]
     },
     "execution_count": 36,
     "metadata": {},
     "output_type": "execute_result"
    },
    {
     "data": {
      "image/png": "[encoded data removed]",
      "text/plain": [
       "<Figure size 432x288 with 1 Axes>"
      ]
     },
     "metadata": {
      "needs_background": "light"
     },
     "output_type": "display_data"
    }
   ],
   "source": [
    "fig, ax = plt.subplots()\n",
    "ax.plot(history.history['loss'])\n",
    "ax.plot(history.history['val_loss'])\n",
    "ax.set_ylabel('loss')\n",
    "ax.set_xlabel('epoch')\n",
    "ax.legend(['train', 'validation'], loc='upper right')"
   ]
  }
 ],
 "metadata": {
  "kernelspec": {
   "display_name": "Python 3 (ipykernel)",
   "language": "python",
   "name": "python3"
  },
  "language_info": {
   "codemirror_mode": {
    "name": "ipython",
    "version": 3
   },
   "file_extension": ".py",
   "mimetype": "text/x-python",
   "name": "python",
   "nbconvert_exporter": "python",
   "pygments_lexer": "ipython3",
   "version": "3.8.12"
  }
 },
 "nbformat": 4,
 "nbformat_minor": 5
}
