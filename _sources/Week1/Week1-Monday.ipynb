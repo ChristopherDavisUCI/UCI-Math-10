{
 "cells": [
  {
   "cell_type": "markdown",
   "id": "e0d0f8dc",
   "metadata": {},
   "source": [
    "# Worksheet\n",
    "\n",
    "You may submit this worksheet in a group of 1-3 total students.\n",
    "\n",
    "These worksheets are graded for effort, not for correctness.\n",
    "\n",
    "**Due date**.  Due at 5:00pm on Tuesday of Week 1.\n",
    "\n",
    "<p style=\"font-size:20px; color:blue; font-weight:bold\">Question 0:</p>\n",
    "\n",
    "Name(s): \n",
    "\n",
    "UCI ID(s): "
   ]
  },
  {
   "cell_type": "markdown",
   "id": "ad0fba10",
   "metadata": {},
   "source": [
    "## Practice with for-loops and lists of lists\n",
    "\n",
    "We will introduce for-loops now, but throughout Math 10 we will seek more efficient (or at least more elegant or more \"Pythonic\") ways of writing code.\n",
    "\n",
    "Let's represent the matrix\n",
    "\n",
    "$$\n",
    "\\begin{pmatrix} \n",
    "0 & 1 & 2 & 3 & 4 \\\\\n",
    "5 & 6 & 7 & 8 & 9 \\\\\n",
    "10 & 11 & 12 & 13 & 14\n",
    "\\end{pmatrix}\n",
    "$$\n",
    "\n",
    "in Python.  The best way to do that is with a two-dimensional NumPy array, but let's practice with for-loops by first representing it as a list of lists.\n",
    "\n",
    "We first make a template containing all zeros.  Try reading through this next cell step-by-step and understanding what it does."
   ]
  },
  {
   "cell_type": "code",
   "execution_count": 1,
   "id": "76567e5e",
   "metadata": {},
   "outputs": [
    {
     "name": "stdout",
     "output_type": "stream",
     "text": [
      "[[0, 0, 0, 0, 0], [0, 0, 0, 0, 0], [0, 0, 0, 0, 0]]\n"
     ]
    }
   ],
   "source": [
    "zero_list = []\n",
    "for i in range(3):\n",
    "    my_list = []\n",
    "    for i in range(5):\n",
    "        my_list.append(0)\n",
    "    zero_list.append(my_list)\n",
    "print(zero_list)"
   ]
  },
  {
   "cell_type": "markdown",
   "id": "7fe2bb1b",
   "metadata": {},
   "source": [
    "Let's make a copy of that zero_list, so that we can use zero_list again later if we want."
   ]
  },
  {
   "cell_type": "code",
   "execution_count": 2,
   "id": "46e77b1a",
   "metadata": {},
   "outputs": [
    {
     "data": {
      "text/plain": [
       "[[0, 0, 0, 0, 0], [0, 0, 0, 0, 0], [0, 0, 0, 0, 0]]"
      ]
     },
     "execution_count": 2,
     "metadata": {},
     "output_type": "execute_result"
    }
   ],
   "source": [
    "list_of_lists = zero_list.copy()\n",
    "list_of_lists"
   ]
  },
  {
   "cell_type": "markdown",
   "id": "c8de9713",
   "metadata": {},
   "source": [
    "<p style=\"font-size:20px; color:blue; font-weight:bold\">Question 1:</p>\n",
    "\n",
    "Fill in the correct values so we make the above matrix as the list of lists `[[0,1,2,3,4],[5,6,7,8,9],[10,11,12,13,14]]`.  Do not change to a different strategy, even if you know a better one."
   ]
  },
  {
   "cell_type": "code",
   "execution_count": null,
   "id": "fd75da42",
   "metadata": {},
   "outputs": [],
   "source": [
    "for i in range(3):\n",
    "    for j in range(5):\n",
    "        list_of_lists??? = ???\n",
    "print(list_of_lists)"
   ]
  },
  {
   "cell_type": "markdown",
   "id": "5768ba6f",
   "metadata": {},
   "source": [
    "<p style=\"font-size:20px; color:blue; font-weight:bold\">Question 2:</p>\n",
    "\n",
    "What changes if you indent the `print(list_of_lists)` line one level?  What happens if you indent it two levels?\n",
    "\n",
    "<p style=\"color:red; font-weight:bold\">Answer:</p>"
   ]
  },
  {
   "cell_type": "markdown",
   "id": "19bc2466",
   "metadata": {},
   "source": [
    "<p style=\"font-size:20px; color:blue; font-weight:bold\">Question 3:</p>\n",
    "\n",
    "Here's a more elegant method, but still not as good as using NumPy. Use the following idea, but update it so better_list contains three lists, not three range objects, and so that better_list has the same numbers as what we produced above."
   ]
  },
  {
   "cell_type": "code",
   "execution_count": 20,
   "id": "36c64f83",
   "metadata": {},
   "outputs": [
    {
     "data": {
      "text/plain": [
       "[range(0, 5), range(0, 5), range(0, 5)]"
      ]
     },
     "execution_count": 20,
     "metadata": {},
     "output_type": "execute_result"
    }
   ],
   "source": [
    "better_list = []\n",
    "for i in range(3):\n",
    "    better_list.append(range(0,5))\n",
    "better_list"
   ]
  },
  {
   "cell_type": "markdown",
   "id": "2c552652",
   "metadata": {},
   "source": [
    "## Practice with NumPy\n",
    "\n",
    "As a preview, here is one of the most important libraries we will use in Math 10.  Many aspects of it will remind you of Matlab."
   ]
  },
  {
   "cell_type": "code",
   "execution_count": 3,
   "id": "aeab808d",
   "metadata": {},
   "outputs": [],
   "source": [
    "import numpy as np"
   ]
  },
  {
   "cell_type": "markdown",
   "id": "01e64f7d",
   "metadata": {},
   "source": [
    "Here are two ways to learn about the method `np.zeros`.  This method is part of NumPy, but the same sort of help is available also for functions in standard Python."
   ]
  },
  {
   "cell_type": "code",
   "execution_count": 18,
   "id": "39d98c6a",
   "metadata": {},
   "outputs": [],
   "source": [
    "np.zeros?"
   ]
  },
  {
   "cell_type": "code",
   "execution_count": null,
   "id": "76dde9a3",
   "metadata": {},
   "outputs": [],
   "source": [
    "help(np.zeros)"
   ]
  },
  {
   "cell_type": "markdown",
   "id": "ef060a00",
   "metadata": {},
   "source": [
    "<p style=\"font-size:20px; color:blue; font-weight:bold\">Question 4:</p>\n",
    "\n",
    "Make a zero array of the correct 3x5 shape:"
   ]
  },
  {
   "cell_type": "code",
   "execution_count": 22,
   "id": "c68b0f8d",
   "metadata": {},
   "outputs": [
    {
     "name": "stdout",
     "output_type": "stream",
     "text": [
      "[[0. 0. 0. 0. 0.]\n",
      " [0. 0. 0. 0. 0.]\n",
      " [0. 0. 0. 0. 0.]]\n"
     ]
    }
   ],
   "source": [
    "A = np.zeros(???)\n",
    "print(A)"
   ]
  },
  {
   "cell_type": "markdown",
   "id": "dd9969ce",
   "metadata": {},
   "source": [
    "<p style=\"font-size:20px; color:blue; font-weight:bold\">Question 5:</p>\n",
    "\n",
    "Now go through and fill in the numbers.\n",
    "Use syntax like `A[1,3] = 21` to for example put the number 21 in the 1st row (by Python counting) and 3rd column."
   ]
  },
  {
   "cell_type": "code",
   "execution_count": null,
   "id": "6c43a3a6",
   "metadata": {},
   "outputs": [],
   "source": [
    "for i in range(3):\n",
    "    for j in range(5):\n",
    "        A??? = ???\n",
    "print(A)"
   ]
  },
  {
   "cell_type": "markdown",
   "id": "03baf284",
   "metadata": {},
   "source": [
    "You can also do this with a single for-loop, instead of nested for-loops.  Before we make the final answer, we show a preliminary step as an example.  Notice how we don't have to convert the range object to a list object in this case, because NumPy does this for us automatically."
   ]
  },
  {
   "cell_type": "code",
   "execution_count": 23,
   "id": "2e3152cc",
   "metadata": {},
   "outputs": [
    {
     "name": "stdout",
     "output_type": "stream",
     "text": [
      "[[0. 1. 2. 3. 4.]\n",
      " [0. 1. 2. 3. 4.]\n",
      " [0. 1. 2. 3. 4.]]\n"
     ]
    }
   ],
   "source": [
    "A = np.zeros((3,5))\n",
    "for i in range(3):\n",
    "    A[i] = range(5)\n",
    "print(A)"
   ]
  },
  {
   "cell_type": "markdown",
   "id": "95063ec2",
   "metadata": {},
   "source": [
    "<p style=\"font-size:20px; color:blue; font-weight:bold\">Question 6:</p>\n",
    "\n",
    "Change the (5) part (but nothing else) so that we get the same numbers 0,1,...,14 as above. "
   ]
  },
  {
   "cell_type": "code",
   "execution_count": null,
   "id": "08dd6843",
   "metadata": {},
   "outputs": [],
   "source": [
    "A = np.zeros((3,5))\n",
    "for i in range(3):\n",
    "    A[i] = range(5)\n",
    "print(A)"
   ]
  },
  {
   "cell_type": "markdown",
   "id": "2089ca32",
   "metadata": {},
   "source": [
    "I think the above is a good amount for class, but in case you finish early, here is a problem involving function definitions."
   ]
  },
  {
   "cell_type": "markdown",
   "id": "7583e942",
   "metadata": {},
   "source": [
    "<p style=\"font-size:20px; color:blue; font-weight:bold\">Question 7:</p>\n",
    "\n",
    "Write a function \n",
    "`fill_array(A)`\n",
    "which takes as input a NumPy array A, and as output returns an array of the same shape as A, but which contains consecutive numbers 0, 1, 2, ... throughout, as in the following examples."
   ]
  },
  {
   "cell_type": "code",
   "execution_count": 13,
   "id": "af8e5e03",
   "metadata": {},
   "outputs": [],
   "source": [
    "def fill_array(A):\n",
    "    m,n = A.shape\n",
    "    B = np.zeros((m,n))\n",
    "    for i in range(???):\n",
    "        B[???] = range(???)\n",
    "    return B"
   ]
  },
  {
   "cell_type": "code",
   "execution_count": 24,
   "id": "307f73e5",
   "metadata": {},
   "outputs": [
    {
     "data": {
      "text/plain": [
       "array([[0., 1.],\n",
       "       [2., 3.],\n",
       "       [4., 5.],\n",
       "       [6., 7.],\n",
       "       [8., 9.]])"
      ]
     },
     "execution_count": 24,
     "metadata": {},
     "output_type": "execute_result"
    }
   ],
   "source": [
    "fill_array(np.zeros((5,2)))"
   ]
  },
  {
   "cell_type": "code",
   "execution_count": 25,
   "id": "75e5cc18",
   "metadata": {},
   "outputs": [
    {
     "data": {
      "text/plain": [
       "array([[ 0,  1,  2,  3],\n",
       "       [ 4,  5,  6,  7],\n",
       "       [ 8,  9, 10, 11],\n",
       "       [12, 13, 14, 15]], dtype=int32)"
      ]
     },
     "execution_count": 25,
     "metadata": {},
     "output_type": "execute_result"
    }
   ],
   "source": [
    "fill_array(np.zeros((4,4),dtype=np.int32))"
   ]
  }
 ],
 "metadata": {
  "kernelspec": {
   "display_name": "Python 3 (ipykernel)",
   "language": "python",
   "name": "python3"
  },
  "language_info": {
   "codemirror_mode": {
    "name": "ipython",
    "version": 3
   },
   "file_extension": ".py",
   "mimetype": "text/x-python",
   "name": "python",
   "nbconvert_exporter": "python",
   "pygments_lexer": "ipython3",
   "version": "3.8.12"
  }
 },
 "nbformat": 4,
 "nbformat_minor": 5
}
