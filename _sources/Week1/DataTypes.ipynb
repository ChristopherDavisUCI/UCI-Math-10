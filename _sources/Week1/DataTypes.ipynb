{
 "cells": [
  {
   "cell_type": "markdown",
   "id": "2aae16cc",
   "metadata": {},
   "source": [
    "# Data types in Python\n",
    "\n",
    "There are a huge number of data types in Python, both built-in data types (like list) and data types that come from an external library (like NumPy arrays).  Often data types can appear quite similar.  Here is an example of five data types which all share some common properties:\n",
    "* list\n",
    "* set\n",
    "* tuple\n",
    "* range\n",
    "* NumPy array\n",
    "\n",
    "It is important to recognize in what ways these are similar and in what ways they are different.  Understanding the pros and cons of different data types is essential to selecting the data type which is best-suited for a given task."
   ]
  },
  {
   "cell_type": "markdown",
   "id": "191dabc9",
   "metadata": {},
   "source": [
    "## list\n",
    "\n",
    "One of the most fundamental data types in Python is type *list*."
   ]
  },
  {
   "cell_type": "code",
   "execution_count": 1,
   "id": "0be1fd44",
   "metadata": {},
   "outputs": [],
   "source": [
    "my_list = [3,1,4,1,5]"
   ]
  },
  {
   "cell_type": "code",
   "execution_count": 2,
   "id": "141132ec",
   "metadata": {},
   "outputs": [
    {
     "data": {
      "text/plain": [
       "list"
      ]
     },
     "execution_count": 2,
     "metadata": {},
     "output_type": "execute_result"
    }
   ],
   "source": [
    "type(my_list)"
   ]
  },
  {
   "cell_type": "code",
   "execution_count": 3,
   "id": "645b0a21",
   "metadata": {},
   "outputs": [
    {
     "data": {
      "text/plain": [
       "5"
      ]
     },
     "execution_count": 3,
     "metadata": {},
     "output_type": "execute_result"
    }
   ],
   "source": [
    "len(my_list)"
   ]
  },
  {
   "cell_type": "markdown",
   "id": "9803f886",
   "metadata": {},
   "source": [
    "Notice that the following probably doesn't produce what you expect.  The reason is that indexing in Python starts at 0, not at 1."
   ]
  },
  {
   "cell_type": "code",
   "execution_count": 4,
   "id": "518210f6",
   "metadata": {},
   "outputs": [
    {
     "data": {
      "text/plain": [
       "4"
      ]
     },
     "execution_count": 4,
     "metadata": {},
     "output_type": "execute_result"
    }
   ],
   "source": [
    "# indexing\n",
    "my_list[2]"
   ]
  },
  {
   "cell_type": "code",
   "execution_count": 5,
   "id": "1a3c1ce7",
   "metadata": {},
   "outputs": [
    {
     "data": {
      "text/plain": [
       "3"
      ]
     },
     "execution_count": 5,
     "metadata": {},
     "output_type": "execute_result"
    }
   ],
   "source": [
    "# indexing\n",
    "my_list[0]"
   ]
  },
  {
   "cell_type": "markdown",
   "id": "ee70ae33",
   "metadata": {},
   "source": [
    "If you remember the colon operator from Matlab, then the following, which is known as *slicing*, should look familiar."
   ]
  },
  {
   "cell_type": "code",
   "execution_count": 6,
   "id": "10243498",
   "metadata": {},
   "outputs": [
    {
     "data": {
      "text/plain": [
       "[4, 1, 5]"
      ]
     },
     "execution_count": 6,
     "metadata": {},
     "output_type": "execute_result"
    }
   ],
   "source": [
    "# slicing\n",
    "my_list[2:]"
   ]
  },
  {
   "cell_type": "markdown",
   "id": "bcd0cbc8",
   "metadata": {},
   "source": [
    "One difference from Matlab is that the right-endpoint is usually not included by default in Python.  For example, the following code `my_list[2:4]` produces a list that contains `my_list[2]` and `my_list[3]` but does not contain `my_list[4]`."
   ]
  },
  {
   "cell_type": "code",
   "execution_count": 7,
   "id": "2ca656a6",
   "metadata": {},
   "outputs": [
    {
     "data": {
      "text/plain": [
       "[4, 1]"
      ]
     },
     "execution_count": 7,
     "metadata": {},
     "output_type": "execute_result"
    }
   ],
   "source": [
    "my_list[2:4]"
   ]
  },
  {
   "cell_type": "code",
   "execution_count": 8,
   "id": "e81fa1a3",
   "metadata": {},
   "outputs": [
    {
     "data": {
      "text/plain": [
       "[3, 1, 4, 1, 5]"
      ]
     },
     "execution_count": 8,
     "metadata": {},
     "output_type": "execute_result"
    }
   ],
   "source": [
    "my_list"
   ]
  },
  {
   "cell_type": "code",
   "execution_count": 9,
   "id": "f31a4f93",
   "metadata": {},
   "outputs": [],
   "source": [
    "my_list[2] = \"hello Math 10\""
   ]
  },
  {
   "cell_type": "code",
   "execution_count": 10,
   "id": "a5e63564",
   "metadata": {},
   "outputs": [
    {
     "data": {
      "text/plain": [
       "[3, 1, 'hello Math 10', 1, 5]"
      ]
     },
     "execution_count": 10,
     "metadata": {},
     "output_type": "execute_result"
    }
   ],
   "source": [
    "my_list"
   ]
  },
  {
   "cell_type": "code",
   "execution_count": 11,
   "id": "a235ba6c",
   "metadata": {},
   "outputs": [],
   "source": [
    "# this changes my_list\n",
    "my_list.append(4)"
   ]
  },
  {
   "cell_type": "code",
   "execution_count": 12,
   "id": "389a4d8d",
   "metadata": {},
   "outputs": [
    {
     "data": {
      "text/plain": [
       "[3, 1, 'hello Math 10', 1, 5, 4]"
      ]
     },
     "execution_count": 12,
     "metadata": {},
     "output_type": "execute_result"
    }
   ],
   "source": [
    "my_list"
   ]
  },
  {
   "cell_type": "code",
   "execution_count": 13,
   "id": "5e5a4ce0",
   "metadata": {},
   "outputs": [],
   "source": [
    "new_list = [3,1,4,1]"
   ]
  },
  {
   "cell_type": "markdown",
   "id": "b8f7c8e9",
   "metadata": {},
   "source": [
    "A common cause of mistakes is thinking that a command will change a structure, when in fact it has no effect on the original object.  In the following code, `sorted(new_list)` doesn't change `new_list`.  It makes a different list."
   ]
  },
  {
   "cell_type": "code",
   "execution_count": 14,
   "id": "ba6f5354",
   "metadata": {},
   "outputs": [
    {
     "data": {
      "text/plain": [
       "[1, 1, 3, 4]"
      ]
     },
     "execution_count": 14,
     "metadata": {},
     "output_type": "execute_result"
    }
   ],
   "source": [
    "# has no effect on new_list\n",
    "sorted(new_list)"
   ]
  },
  {
   "cell_type": "code",
   "execution_count": 15,
   "id": "052d1d70",
   "metadata": {},
   "outputs": [
    {
     "data": {
      "text/plain": [
       "[3, 1, 4, 1]"
      ]
     },
     "execution_count": 15,
     "metadata": {},
     "output_type": "execute_result"
    }
   ],
   "source": [
    "new_list"
   ]
  },
  {
   "cell_type": "markdown",
   "id": "73d8bf7e",
   "metadata": {},
   "source": [
    "If we wanted to actually replace `new_list` with a sorted version of `new_list`, we should use a syntax like the following."
   ]
  },
  {
   "cell_type": "code",
   "execution_count": 16,
   "id": "9a5a7d40",
   "metadata": {},
   "outputs": [],
   "source": [
    "# to change the original\n",
    "new_list = sorted(new_list)"
   ]
  },
  {
   "cell_type": "code",
   "execution_count": 17,
   "id": "12724810",
   "metadata": {},
   "outputs": [
    {
     "data": {
      "text/plain": [
       "[1, 1, 3, 4]"
      ]
     },
     "execution_count": 17,
     "metadata": {},
     "output_type": "execute_result"
    }
   ],
   "source": [
    "new_list"
   ]
  },
  {
   "cell_type": "code",
   "execution_count": 18,
   "id": "752a3848",
   "metadata": {},
   "outputs": [],
   "source": [
    "new_list.extend([3,1,4])"
   ]
  },
  {
   "cell_type": "code",
   "execution_count": 19,
   "id": "2f64ba99",
   "metadata": {},
   "outputs": [
    {
     "data": {
      "text/plain": [
       "[1, 1, 3, 4, 3, 1, 4]"
      ]
     },
     "execution_count": 19,
     "metadata": {},
     "output_type": "execute_result"
    }
   ],
   "source": [
    "new_list"
   ]
  },
  {
   "cell_type": "code",
   "execution_count": 20,
   "id": "08d0d110",
   "metadata": {},
   "outputs": [],
   "source": [
    "new_list.append([3,1,4])"
   ]
  },
  {
   "cell_type": "code",
   "execution_count": 21,
   "id": "0917ac1a",
   "metadata": {},
   "outputs": [
    {
     "data": {
      "text/plain": [
       "[1, 1, 3, 4, 3, 1, 4, [3, 1, 4]]"
      ]
     },
     "execution_count": 21,
     "metadata": {},
     "output_type": "execute_result"
    }
   ],
   "source": [
    "new_list"
   ]
  },
  {
   "cell_type": "code",
   "execution_count": 22,
   "id": "9a8f6cad",
   "metadata": {},
   "outputs": [
    {
     "data": {
      "text/plain": [
       "[3, 1, 4]"
      ]
     },
     "execution_count": 22,
     "metadata": {},
     "output_type": "execute_result"
    }
   ],
   "source": [
    "new_list[-1]"
   ]
  },
  {
   "cell_type": "code",
   "execution_count": 23,
   "id": "f2f478b0",
   "metadata": {},
   "outputs": [
    {
     "data": {
      "text/plain": [
       "list"
      ]
     },
     "execution_count": 23,
     "metadata": {},
     "output_type": "execute_result"
    }
   ],
   "source": [
    "type(new_list[-1])"
   ]
  },
  {
   "cell_type": "code",
   "execution_count": 24,
   "id": "a6aa13cb",
   "metadata": {},
   "outputs": [
    {
     "data": {
      "text/plain": [
       "int"
      ]
     },
     "execution_count": 24,
     "metadata": {},
     "output_type": "execute_result"
    }
   ],
   "source": [
    "type(new_list[-2])"
   ]
  },
  {
   "cell_type": "markdown",
   "id": "d545703f",
   "metadata": {},
   "source": [
    "## set\n",
    "A set in Python is similar to a list in many ways.  For example, it contains a collection of objects.  Some differences are that sets do not have an order, and sets cannot have repeated elements.  Also sets are more limited in terms of the types of objects they can contain.\n",
    "\n",
    "We start by viewing the list `my_list`."
   ]
  },
  {
   "cell_type": "code",
   "execution_count": 25,
   "id": "b16284e5",
   "metadata": {},
   "outputs": [
    {
     "data": {
      "text/plain": [
       "[3, 1, 'hello Math 10', 1, 5, 4]"
      ]
     },
     "execution_count": 25,
     "metadata": {},
     "output_type": "execute_result"
    }
   ],
   "source": [
    "my_list"
   ]
  },
  {
   "cell_type": "markdown",
   "id": "2446b52f",
   "metadata": {},
   "source": [
    "Here is the standard way to convert data types in Python.  In this case, we are converting from a list to a set."
   ]
  },
  {
   "cell_type": "code",
   "execution_count": 26,
   "id": "f36c70be",
   "metadata": {},
   "outputs": [],
   "source": [
    "my_set = set(my_list)"
   ]
  },
  {
   "cell_type": "code",
   "execution_count": 27,
   "id": "ed171b0e",
   "metadata": {},
   "outputs": [
    {
     "data": {
      "text/plain": [
       "{1, 3, 4, 5, 'hello Math 10'}"
      ]
     },
     "execution_count": 27,
     "metadata": {},
     "output_type": "execute_result"
    }
   ],
   "source": [
    "my_set"
   ]
  },
  {
   "cell_type": "code",
   "execution_count": 28,
   "id": "4dc3d65a",
   "metadata": {},
   "outputs": [
    {
     "data": {
      "text/plain": [
       "set"
      ]
     },
     "execution_count": 28,
     "metadata": {},
     "output_type": "execute_result"
    }
   ],
   "source": [
    "type(my_set)"
   ]
  },
  {
   "cell_type": "markdown",
   "id": "887c5a80",
   "metadata": {},
   "source": [
    "Notice how the square brackets `[...]` got replaced by curly brackets `{...}` and how the order changed and the repetitions disappeared."
   ]
  },
  {
   "cell_type": "code",
   "execution_count": 29,
   "id": "79e4c6da",
   "metadata": {},
   "outputs": [
    {
     "data": {
      "text/plain": [
       "{-10, 1, 3, 4, 5}"
      ]
     },
     "execution_count": 29,
     "metadata": {},
     "output_type": "execute_result"
    }
   ],
   "source": [
    "set([3,1,4,1,-10,5])"
   ]
  },
  {
   "cell_type": "markdown",
   "id": "07ac519a",
   "metadata": {},
   "source": [
    "Sets don't have a notion of order, so taking the 2nd element doesn't make sense."
   ]
  },
  {
   "cell_type": "code",
   "execution_count": 30,
   "id": "0e4cc1d4",
   "metadata": {},
   "outputs": [
    {
     "ename": "TypeError",
     "evalue": "'set' object is not subscriptable",
     "output_type": "error",
     "traceback": [
      "\u001b[0;31m---------------------------------------------------------------------------\u001b[0m",
      "\u001b[0;31mTypeError\u001b[0m                                 Traceback (most recent call last)",
      "\u001b[0;32m/var/folders/8j/gshrlmtn7dg4qtztj4d4t_w40000gn/T/ipykernel_61256/1306209179.py\u001b[0m in \u001b[0;36m<module>\u001b[0;34m\u001b[0m\n\u001b[0;32m----> 1\u001b[0;31m \u001b[0mmy_set\u001b[0m\u001b[0;34m[\u001b[0m\u001b[0;36m2\u001b[0m\u001b[0;34m]\u001b[0m\u001b[0;34m\u001b[0m\u001b[0;34m\u001b[0m\u001b[0m\n\u001b[0m",
      "\u001b[0;31mTypeError\u001b[0m: 'set' object is not subscriptable"
     ]
    }
   ],
   "source": [
    "my_set[2]"
   ]
  },
  {
   "cell_type": "code",
   "execution_count": 31,
   "id": "110df601",
   "metadata": {},
   "outputs": [
    {
     "data": {
      "text/plain": [
       "5"
      ]
     },
     "execution_count": 31,
     "metadata": {},
     "output_type": "execute_result"
    }
   ],
   "source": [
    "len(my_set)"
   ]
  },
  {
   "cell_type": "code",
   "execution_count": 32,
   "id": "a5ef36f9",
   "metadata": {},
   "outputs": [
    {
     "data": {
      "text/plain": [
       "{1, 3, 4, 5, 'hello Math 10'}"
      ]
     },
     "execution_count": 32,
     "metadata": {},
     "output_type": "execute_result"
    }
   ],
   "source": [
    "my_set"
   ]
  },
  {
   "cell_type": "markdown",
   "id": "edccb9c6",
   "metadata": {},
   "source": [
    "Here is the by-hand way to make a set (as opposed to converting from a list)."
   ]
  },
  {
   "cell_type": "code",
   "execution_count": 33,
   "id": "f1c6d39d",
   "metadata": {},
   "outputs": [
    {
     "data": {
      "text/plain": [
       "{2, 4, 10}"
      ]
     },
     "execution_count": 33,
     "metadata": {},
     "output_type": "execute_result"
    }
   ],
   "source": [
    "{2,10,4}"
   ]
  },
  {
   "cell_type": "markdown",
   "id": "a76e2c12",
   "metadata": {},
   "source": [
    "## tuple\n",
    "In simple cases, a tuple is almost indistinguishable from a list.  The only real difference in the following first few examples is that the tuple has round parentheses instead of square brackets."
   ]
  },
  {
   "cell_type": "code",
   "execution_count": 34,
   "id": "bf91fc22",
   "metadata": {},
   "outputs": [],
   "source": [
    "my_tuple = (3,1,4,1)"
   ]
  },
  {
   "cell_type": "code",
   "execution_count": 35,
   "id": "e3fda68f",
   "metadata": {},
   "outputs": [
    {
     "data": {
      "text/plain": [
       "(3, 1, 4, 1)"
      ]
     },
     "execution_count": 35,
     "metadata": {},
     "output_type": "execute_result"
    }
   ],
   "source": [
    "my_tuple"
   ]
  },
  {
   "cell_type": "code",
   "execution_count": 36,
   "id": "9df2ab6d",
   "metadata": {},
   "outputs": [
    {
     "data": {
      "text/plain": [
       "4"
      ]
     },
     "execution_count": 36,
     "metadata": {},
     "output_type": "execute_result"
    }
   ],
   "source": [
    "my_tuple[2]"
   ]
  },
  {
   "cell_type": "code",
   "execution_count": 37,
   "id": "955da251",
   "metadata": {},
   "outputs": [
    {
     "data": {
      "text/plain": [
       "(1, 4)"
      ]
     },
     "execution_count": 37,
     "metadata": {},
     "output_type": "execute_result"
    }
   ],
   "source": [
    "my_tuple[1:3]"
   ]
  },
  {
   "cell_type": "code",
   "execution_count": 38,
   "id": "93a4cb8c",
   "metadata": {},
   "outputs": [
    {
     "data": {
      "text/plain": [
       "4"
      ]
     },
     "execution_count": 38,
     "metadata": {},
     "output_type": "execute_result"
    }
   ],
   "source": [
    "len(my_tuple)"
   ]
  },
  {
   "cell_type": "markdown",
   "id": "04be9ab7",
   "metadata": {},
   "source": [
    "If we want to convert a tuple into a list, we can do that by wrapping the variable name inside of `list`, as in this example.  The first line makes the conversion, and the second line displays the result."
   ]
  },
  {
   "cell_type": "code",
   "execution_count": 39,
   "id": "400d27fa",
   "metadata": {},
   "outputs": [
    {
     "data": {
      "text/plain": [
       "[3, 1, 4, 1]"
      ]
     },
     "execution_count": 39,
     "metadata": {},
     "output_type": "execute_result"
    }
   ],
   "source": [
    "my_list = list(my_tuple)\n",
    "my_list"
   ]
  },
  {
   "cell_type": "markdown",
   "id": "c40ed155",
   "metadata": {},
   "source": [
    "How are tuples different from lists?  Here is one example.  You should not change a tuple after you've created it."
   ]
  },
  {
   "cell_type": "code",
   "execution_count": 40,
   "id": "bbff2824",
   "metadata": {},
   "outputs": [
    {
     "name": "stdout",
     "output_type": "stream",
     "text": [
      "hi\n"
     ]
    },
    {
     "ename": "TypeError",
     "evalue": "'tuple' object does not support item assignment",
     "output_type": "error",
     "traceback": [
      "\u001b[0;31m---------------------------------------------------------------------------\u001b[0m",
      "\u001b[0;31mTypeError\u001b[0m                                 Traceback (most recent call last)",
      "\u001b[0;32m/var/folders/8j/gshrlmtn7dg4qtztj4d4t_w40000gn/T/ipykernel_61256/3086213120.py\u001b[0m in \u001b[0;36m<module>\u001b[0;34m\u001b[0m\n\u001b[1;32m      1\u001b[0m \u001b[0mprint\u001b[0m\u001b[0;34m(\u001b[0m\u001b[0;34m\"hi\"\u001b[0m\u001b[0;34m)\u001b[0m\u001b[0;34m\u001b[0m\u001b[0;34m\u001b[0m\u001b[0m\n\u001b[0;32m----> 2\u001b[0;31m \u001b[0mmy_tuple\u001b[0m\u001b[0;34m[\u001b[0m\u001b[0;36m2\u001b[0m\u001b[0;34m]\u001b[0m \u001b[0;34m=\u001b[0m \u001b[0;36m10\u001b[0m\u001b[0;34m\u001b[0m\u001b[0;34m\u001b[0m\u001b[0m\n\u001b[0m\u001b[1;32m      3\u001b[0m \u001b[0mprint\u001b[0m\u001b[0;34m(\u001b[0m\u001b[0;34m\"hello\"\u001b[0m\u001b[0;34m)\u001b[0m\u001b[0;34m\u001b[0m\u001b[0;34m\u001b[0m\u001b[0m\n",
      "\u001b[0;31mTypeError\u001b[0m: 'tuple' object does not support item assignment"
     ]
    }
   ],
   "source": [
    "print(\"hi\")\n",
    "my_tuple[2] = 10\n",
    "print(\"hello\")"
   ]
  },
  {
   "cell_type": "markdown",
   "id": "cfc15ff9",
   "metadata": {},
   "source": [
    "Another example of how you should not change a tuple:"
   ]
  },
  {
   "cell_type": "code",
   "execution_count": 41,
   "id": "6dc1eadb",
   "metadata": {},
   "outputs": [
    {
     "ename": "AttributeError",
     "evalue": "'tuple' object has no attribute 'append'",
     "output_type": "error",
     "traceback": [
      "\u001b[0;31m---------------------------------------------------------------------------\u001b[0m",
      "\u001b[0;31mAttributeError\u001b[0m                            Traceback (most recent call last)",
      "\u001b[0;32m/var/folders/8j/gshrlmtn7dg4qtztj4d4t_w40000gn/T/ipykernel_61256/3420063398.py\u001b[0m in \u001b[0;36m<module>\u001b[0;34m\u001b[0m\n\u001b[0;32m----> 1\u001b[0;31m \u001b[0mmy_tuple\u001b[0m\u001b[0;34m.\u001b[0m\u001b[0mappend\u001b[0m\u001b[0;34m(\u001b[0m\u001b[0;36m4\u001b[0m\u001b[0;34m)\u001b[0m\u001b[0;34m\u001b[0m\u001b[0;34m\u001b[0m\u001b[0m\n\u001b[0m",
      "\u001b[0;31mAttributeError\u001b[0m: 'tuple' object has no attribute 'append'"
     ]
    }
   ],
   "source": [
    "my_tuple.append(4)"
   ]
  },
  {
   "cell_type": "markdown",
   "id": "00aac8e8",
   "metadata": {},
   "source": [
    "Why would we ever use tuples?  One pragmatic advantage of a tuple over a list is that a tuple can (usually) go in a set, while a list can't."
   ]
  },
  {
   "cell_type": "code",
   "execution_count": 42,
   "id": "84b114d8",
   "metadata": {},
   "outputs": [
    {
     "data": {
      "text/plain": [
       "{(3, 1, 4, 1), 10, 5}"
      ]
     },
     "execution_count": 42,
     "metadata": {},
     "output_type": "execute_result"
    }
   ],
   "source": [
    "# Why would we ever use tuples?\n",
    "# tuples can go in a set, and lists can't\n",
    "{5,10,my_tuple}"
   ]
  },
  {
   "cell_type": "code",
   "execution_count": 43,
   "id": "1f3a6cd6",
   "metadata": {},
   "outputs": [
    {
     "ename": "TypeError",
     "evalue": "unhashable type: 'list'",
     "output_type": "error",
     "traceback": [
      "\u001b[0;31m---------------------------------------------------------------------------\u001b[0m",
      "\u001b[0;31mTypeError\u001b[0m                                 Traceback (most recent call last)",
      "\u001b[0;32m/var/folders/8j/gshrlmtn7dg4qtztj4d4t_w40000gn/T/ipykernel_61256/3098496682.py\u001b[0m in \u001b[0;36m<module>\u001b[0;34m\u001b[0m\n\u001b[0;32m----> 1\u001b[0;31m \u001b[0;34m{\u001b[0m\u001b[0;36m5\u001b[0m\u001b[0;34m,\u001b[0m\u001b[0;36m10\u001b[0m\u001b[0;34m,\u001b[0m\u001b[0mmy_list\u001b[0m\u001b[0;34m}\u001b[0m\u001b[0;34m\u001b[0m\u001b[0;34m\u001b[0m\u001b[0m\n\u001b[0m",
      "\u001b[0;31mTypeError\u001b[0m: unhashable type: 'list'"
     ]
    }
   ],
   "source": [
    "{5,10,my_list}"
   ]
  },
  {
   "cell_type": "markdown",
   "id": "c810191e",
   "metadata": {},
   "source": [
    "Another practical reason tuples are important is that, when you are using Python code written by someone else, it will often involve tuples.  Here is a small example and a preview of the NumPy arrays discussed below."
   ]
  },
  {
   "cell_type": "code",
   "execution_count": 44,
   "id": "c152b9ae",
   "metadata": {},
   "outputs": [
    {
     "data": {
      "text/plain": [
       "array([3, 1, 4, 1])"
      ]
     },
     "execution_count": 44,
     "metadata": {},
     "output_type": "execute_result"
    }
   ],
   "source": [
    "import numpy as np\n",
    "A = np.array(my_list)\n",
    "A"
   ]
  },
  {
   "cell_type": "markdown",
   "id": "a321501f",
   "metadata": {},
   "source": [
    "The variable `A` represents a NumPy array."
   ]
  },
  {
   "cell_type": "code",
   "execution_count": 45,
   "id": "85e8d9f5",
   "metadata": {},
   "outputs": [
    {
     "data": {
      "text/plain": [
       "numpy.ndarray"
      ]
     },
     "execution_count": 45,
     "metadata": {},
     "output_type": "execute_result"
    }
   ],
   "source": [
    "type(A)"
   ]
  },
  {
   "cell_type": "markdown",
   "id": "73d129b6",
   "metadata": {},
   "source": [
    "NumPy arrays have a `shape` attribute which tells us the dimensions of the array.  (That is especially useful if `A` represents a matrix.)"
   ]
  },
  {
   "cell_type": "code",
   "execution_count": 46,
   "id": "19a6676a",
   "metadata": {},
   "outputs": [
    {
     "data": {
      "text/plain": [
       "(4,)"
      ]
     },
     "execution_count": 46,
     "metadata": {},
     "output_type": "execute_result"
    }
   ],
   "source": [
    "A.shape"
   ]
  },
  {
   "cell_type": "markdown",
   "id": "ca705389",
   "metadata": {},
   "source": [
    "This `shape` attribute is represented as a tuple."
   ]
  },
  {
   "cell_type": "code",
   "execution_count": 47,
   "id": "d8e5fb3d",
   "metadata": {},
   "outputs": [
    {
     "data": {
      "text/plain": [
       "tuple"
      ]
     },
     "execution_count": 47,
     "metadata": {},
     "output_type": "execute_result"
    }
   ],
   "source": [
    "type(A.shape)"
   ]
  },
  {
   "cell_type": "markdown",
   "id": "f08ad782",
   "metadata": {},
   "source": [
    "Here is a discussion of differences between lists and tuples from [Stack Overflow](https://stackoverflow.com/a/626871), although that discussion, like many discussions on Stack Overflow, is a little advanced for us as we're just beginning with Python.\n",
    "\n",
    "## range\n",
    "We won't use `range` by itself very often, but we will use it all the time to produce repetitions, such as during a for loop.  The `range` function is similar to how `:` works in Matlab, although with range, the step-size goes at the end, rather than in the middle."
   ]
  },
  {
   "cell_type": "code",
   "execution_count": 48,
   "id": "0ce1461c",
   "metadata": {},
   "outputs": [],
   "source": [
    "my_range = range(0,100,3)"
   ]
  },
  {
   "cell_type": "code",
   "execution_count": 49,
   "id": "1bb6311d",
   "metadata": {},
   "outputs": [
    {
     "data": {
      "text/plain": [
       "range(0, 100, 3)"
      ]
     },
     "execution_count": 49,
     "metadata": {},
     "output_type": "execute_result"
    }
   ],
   "source": [
    "my_range"
   ]
  },
  {
   "cell_type": "markdown",
   "id": "9eac7837",
   "metadata": {},
   "source": [
    "This element `my_range` is yet another type in Python."
   ]
  },
  {
   "cell_type": "code",
   "execution_count": 50,
   "id": "da17241b",
   "metadata": {},
   "outputs": [
    {
     "data": {
      "text/plain": [
       "range"
      ]
     },
     "execution_count": 50,
     "metadata": {},
     "output_type": "execute_result"
    }
   ],
   "source": [
    "type(my_range)"
   ]
  },
  {
   "cell_type": "code",
   "execution_count": 51,
   "id": "3b20e776",
   "metadata": {},
   "outputs": [
    {
     "data": {
      "text/plain": [
       "[0,\n",
       " 3,\n",
       " 6,\n",
       " 9,\n",
       " 12,\n",
       " 15,\n",
       " 18,\n",
       " 21,\n",
       " 24,\n",
       " 27,\n",
       " 30,\n",
       " 33,\n",
       " 36,\n",
       " 39,\n",
       " 42,\n",
       " 45,\n",
       " 48,\n",
       " 51,\n",
       " 54,\n",
       " 57,\n",
       " 60,\n",
       " 63,\n",
       " 66,\n",
       " 69,\n",
       " 72,\n",
       " 75,\n",
       " 78,\n",
       " 81,\n",
       " 84,\n",
       " 87,\n",
       " 90,\n",
       " 93,\n",
       " 96,\n",
       " 99]"
      ]
     },
     "execution_count": 51,
     "metadata": {},
     "output_type": "execute_result"
    }
   ],
   "source": [
    "list(my_range)"
   ]
  },
  {
   "cell_type": "code",
   "execution_count": 52,
   "id": "9e53d188",
   "metadata": {},
   "outputs": [
    {
     "data": {
      "text/plain": [
       "[0, 1, 2, 3, 4, 5, 6, 7, 8, 9]"
      ]
     },
     "execution_count": 52,
     "metadata": {},
     "output_type": "execute_result"
    }
   ],
   "source": [
    "list(range(0,10,1))"
   ]
  },
  {
   "cell_type": "code",
   "execution_count": 53,
   "id": "3f81b51f",
   "metadata": {},
   "outputs": [
    {
     "data": {
      "text/plain": [
       "[0, 1, 2, 3, 4, 5, 6, 7, 8, 9]"
      ]
     },
     "execution_count": 53,
     "metadata": {},
     "output_type": "execute_result"
    }
   ],
   "source": [
    "list(range(10))"
   ]
  },
  {
   "cell_type": "markdown",
   "id": "0fb98a77",
   "metadata": {},
   "source": [
    "You are not allowed to use range with non-integer entries."
   ]
  },
  {
   "cell_type": "code",
   "execution_count": 54,
   "id": "f84a3e58",
   "metadata": {},
   "outputs": [
    {
     "ename": "TypeError",
     "evalue": "'float' object cannot be interpreted as an integer",
     "output_type": "error",
     "traceback": [
      "\u001b[0;31m---------------------------------------------------------------------------\u001b[0m",
      "\u001b[0;31mTypeError\u001b[0m                                 Traceback (most recent call last)",
      "\u001b[0;32m/var/folders/8j/gshrlmtn7dg4qtztj4d4t_w40000gn/T/ipykernel_61256/1541136516.py\u001b[0m in \u001b[0;36m<module>\u001b[0;34m\u001b[0m\n\u001b[0;32m----> 1\u001b[0;31m \u001b[0mrange\u001b[0m\u001b[0;34m(\u001b[0m\u001b[0;36m0\u001b[0m\u001b[0;34m,\u001b[0m\u001b[0;36m10\u001b[0m\u001b[0;34m,\u001b[0m\u001b[0;36m0.5\u001b[0m\u001b[0;34m)\u001b[0m\u001b[0;34m\u001b[0m\u001b[0;34m\u001b[0m\u001b[0m\n\u001b[0m",
      "\u001b[0;31mTypeError\u001b[0m: 'float' object cannot be interpreted as an integer"
     ]
    }
   ],
   "source": [
    "range(0,10,0.5)"
   ]
  },
  {
   "cell_type": "markdown",
   "id": "6f88a12b",
   "metadata": {},
   "source": [
    "One reason range is useful is it can represent gigantic pieces of data without actually taking up much space in memory.  In the following, we want to write $10^{40}$, which in Python is expressed using `10**40` (the caret symbol `^` means something else in Python)."
   ]
  },
  {
   "cell_type": "code",
   "execution_count": 55,
   "id": "f461811b",
   "metadata": {},
   "outputs": [],
   "source": [
    "my_range = range(0,10**40,3)"
   ]
  },
  {
   "cell_type": "markdown",
   "id": "140ea429",
   "metadata": {},
   "source": [
    "It would be a very bad idea to try to convert that into a list, because no computer can store $10^{40}$ distinct integers."
   ]
  },
  {
   "cell_type": "code",
   "execution_count": 56,
   "id": "53b35c68",
   "metadata": {},
   "outputs": [
    {
     "ename": "OverflowError",
     "evalue": "Python int too large to convert to C ssize_t",
     "output_type": "error",
     "traceback": [
      "\u001b[0;31m---------------------------------------------------------------------------\u001b[0m",
      "\u001b[0;31mOverflowError\u001b[0m                             Traceback (most recent call last)",
      "\u001b[0;32m/var/folders/8j/gshrlmtn7dg4qtztj4d4t_w40000gn/T/ipykernel_61256/3285818751.py\u001b[0m in \u001b[0;36m<module>\u001b[0;34m\u001b[0m\n\u001b[0;32m----> 1\u001b[0;31m \u001b[0mlist\u001b[0m\u001b[0;34m(\u001b[0m\u001b[0mrange\u001b[0m\u001b[0;34m(\u001b[0m\u001b[0;36m0\u001b[0m\u001b[0;34m,\u001b[0m\u001b[0;36m10\u001b[0m\u001b[0;34m**\u001b[0m\u001b[0;36m40\u001b[0m\u001b[0;34m,\u001b[0m\u001b[0;36m3\u001b[0m\u001b[0;34m)\u001b[0m\u001b[0;34m)\u001b[0m\u001b[0;34m\u001b[0m\u001b[0;34m\u001b[0m\u001b[0m\n\u001b[0m",
      "\u001b[0;31mOverflowError\u001b[0m: Python int too large to convert to C ssize_t"
     ]
    }
   ],
   "source": [
    "list(range(0,10**40,3))"
   ]
  },
  {
   "cell_type": "markdown",
   "id": "f6c264bf",
   "metadata": {},
   "source": [
    "Even though `my_range` doesn't literally contain all of those numbers, Python is still smart enough to answer some basic questions about `my_range`.  For example:\n",
    "\n",
    "* Is 252523525252421 in `my_range`?"
   ]
  },
  {
   "cell_type": "code",
   "execution_count": 57,
   "id": "07dcf080",
   "metadata": {},
   "outputs": [
    {
     "data": {
      "text/plain": [
       "False"
      ]
     },
     "execution_count": 57,
     "metadata": {},
     "output_type": "execute_result"
    }
   ],
   "source": [
    "252523525252421 in my_range"
   ]
  },
  {
   "cell_type": "markdown",
   "id": "407036d4",
   "metadata": {},
   "source": [
    "What about 252523525252422?"
   ]
  },
  {
   "cell_type": "code",
   "execution_count": 58,
   "id": "65937caa",
   "metadata": {},
   "outputs": [
    {
     "data": {
      "text/plain": [
       "True"
      ]
     },
     "execution_count": 58,
     "metadata": {},
     "output_type": "execute_result"
    }
   ],
   "source": [
    "252523525252422 in my_range"
   ]
  },
  {
   "cell_type": "markdown",
   "id": "8f6adf40",
   "metadata": {},
   "source": [
    "* What are the last 4 elements in my_range?"
   ]
  },
  {
   "cell_type": "code",
   "execution_count": 59,
   "id": "cc27dff8",
   "metadata": {},
   "outputs": [
    {
     "data": {
      "text/plain": [
       "range(9999999999999999999999999999999999999990, 10000000000000000000000000000000000000002, 3)"
      ]
     },
     "execution_count": 59,
     "metadata": {},
     "output_type": "execute_result"
    }
   ],
   "source": [
    "my_range[-4:]"
   ]
  },
  {
   "cell_type": "markdown",
   "id": "498b4c65",
   "metadata": {},
   "source": [
    "By default, those 4 elements are also represented as a range object.  We can explicitly convert that range object to a list."
   ]
  },
  {
   "cell_type": "code",
   "execution_count": 60,
   "id": "3e3b978e",
   "metadata": {},
   "outputs": [
    {
     "data": {
      "text/plain": [
       "[9999999999999999999999999999999999999990,\n",
       " 9999999999999999999999999999999999999993,\n",
       " 9999999999999999999999999999999999999996,\n",
       " 9999999999999999999999999999999999999999]"
      ]
     },
     "execution_count": 60,
     "metadata": {},
     "output_type": "execute_result"
    }
   ],
   "source": [
    "list(my_range[-4:])"
   ]
  },
  {
   "cell_type": "markdown",
   "id": "e54ac27a",
   "metadata": {},
   "source": [
    "## NumPy arrays\n",
    "All of the above data types are part of standard Python.  Often in Math 10, we will instead be working with data types defined in separate Python libraries.  *NumPy* is probably the library we will use second-most often (behind only *pandas*).\n",
    "\n",
    "Here is the syntax for importing NumPy.  There is a standard abbreviation `np` which should always be used when referring to this library."
   ]
  },
  {
   "cell_type": "code",
   "execution_count": 61,
   "id": "72f87f33",
   "metadata": {},
   "outputs": [],
   "source": [
    "import numpy as np"
   ]
  },
  {
   "cell_type": "markdown",
   "id": "ead05f67",
   "metadata": {},
   "source": [
    "We saw above that `range` cannot be used with non-integer values.  (These decimal numbers are called *floats* in Python.)"
   ]
  },
  {
   "cell_type": "code",
   "execution_count": 62,
   "id": "3210e73c",
   "metadata": {},
   "outputs": [
    {
     "data": {
      "text/plain": [
       "float"
      ]
     },
     "execution_count": 62,
     "metadata": {},
     "output_type": "execute_result"
    }
   ],
   "source": [
    "step = 0.5\n",
    "type(step)"
   ]
  },
  {
   "cell_type": "code",
   "execution_count": 63,
   "id": "c12d3df9",
   "metadata": {},
   "outputs": [
    {
     "ename": "TypeError",
     "evalue": "'float' object cannot be interpreted as an integer",
     "output_type": "error",
     "traceback": [
      "\u001b[0;31m---------------------------------------------------------------------------\u001b[0m",
      "\u001b[0;31mTypeError\u001b[0m                                 Traceback (most recent call last)",
      "\u001b[0;32m/var/folders/8j/gshrlmtn7dg4qtztj4d4t_w40000gn/T/ipykernel_61256/1917164971.py\u001b[0m in \u001b[0;36m<module>\u001b[0;34m\u001b[0m\n\u001b[0;32m----> 1\u001b[0;31m \u001b[0mrange\u001b[0m\u001b[0;34m(\u001b[0m\u001b[0;36m0\u001b[0m\u001b[0;34m,\u001b[0m\u001b[0;36m10\u001b[0m\u001b[0;34m,\u001b[0m\u001b[0mstep\u001b[0m\u001b[0;34m)\u001b[0m\u001b[0;34m\u001b[0m\u001b[0;34m\u001b[0m\u001b[0m\n\u001b[0m",
      "\u001b[0;31mTypeError\u001b[0m: 'float' object cannot be interpreted as an integer"
     ]
    }
   ],
   "source": [
    "range(0,10,step)"
   ]
  },
  {
   "cell_type": "markdown",
   "id": "f1236456",
   "metadata": {},
   "source": [
    "NumPy defines a similar function called `arange` which can work with floats.  The following though does not work."
   ]
  },
  {
   "cell_type": "code",
   "execution_count": 64,
   "id": "210689b3",
   "metadata": {},
   "outputs": [
    {
     "ename": "NameError",
     "evalue": "name 'arange' is not defined",
     "output_type": "error",
     "traceback": [
      "\u001b[0;31m---------------------------------------------------------------------------\u001b[0m",
      "\u001b[0;31mNameError\u001b[0m                                 Traceback (most recent call last)",
      "\u001b[0;32m/var/folders/8j/gshrlmtn7dg4qtztj4d4t_w40000gn/T/ipykernel_61256/2951658910.py\u001b[0m in \u001b[0;36m<module>\u001b[0;34m\u001b[0m\n\u001b[0;32m----> 1\u001b[0;31m \u001b[0marange\u001b[0m\u001b[0;34m(\u001b[0m\u001b[0;36m0\u001b[0m\u001b[0;34m,\u001b[0m\u001b[0;36m10\u001b[0m\u001b[0;34m,\u001b[0m\u001b[0mstep\u001b[0m\u001b[0;34m)\u001b[0m\u001b[0;34m\u001b[0m\u001b[0;34m\u001b[0m\u001b[0m\n\u001b[0m",
      "\u001b[0;31mNameError\u001b[0m: name 'arange' is not defined"
     ]
    }
   ],
   "source": [
    "arange(0,10,step)"
   ]
  },
  {
   "cell_type": "markdown",
   "id": "b9475e28",
   "metadata": {},
   "source": [
    "The reason `arange(0,10,step)` does not work is that Python does not know that `arange` is defined by NumPy.  To tell Python where to look for the definition, we use the syntax `np.arange`."
   ]
  },
  {
   "cell_type": "code",
   "execution_count": 65,
   "id": "13348ce1",
   "metadata": {},
   "outputs": [
    {
     "data": {
      "text/plain": [
       "array([0. , 0.5, 1. , 1.5, 2. , 2.5, 3. , 3.5, 4. , 4.5, 5. , 5.5, 6. ,\n",
       "       6.5, 7. , 7.5, 8. , 8.5, 9. , 9.5])"
      ]
     },
     "execution_count": 65,
     "metadata": {},
     "output_type": "execute_result"
    }
   ],
   "source": [
    "A = np.arange(0,10,step)\n",
    "A"
   ]
  },
  {
   "cell_type": "code",
   "execution_count": 66,
   "id": "ed651dd7",
   "metadata": {},
   "outputs": [
    {
     "data": {
      "text/plain": [
       "numpy.ndarray"
      ]
     },
     "execution_count": 66,
     "metadata": {},
     "output_type": "execute_result"
    }
   ],
   "source": [
    "type(A)"
   ]
  },
  {
   "cell_type": "markdown",
   "id": "a851048a",
   "metadata": {},
   "source": [
    "NumPy arrays are the last data type we will consider in this notebook.  Recall the following syntax for turning `my_tuple` into a list:"
   ]
  },
  {
   "cell_type": "code",
   "execution_count": 67,
   "id": "00d01d3f",
   "metadata": {},
   "outputs": [
    {
     "data": {
      "text/plain": [
       "[3, 1, 4, 1]"
      ]
     },
     "execution_count": 67,
     "metadata": {},
     "output_type": "execute_result"
    }
   ],
   "source": [
    "list(my_tuple)"
   ]
  },
  {
   "cell_type": "markdown",
   "id": "a861eca0",
   "metadata": {},
   "source": [
    "There is the same sort of syntax for turning `my_tuple` into a NumPy array:"
   ]
  },
  {
   "cell_type": "code",
   "execution_count": 68,
   "id": "1b4ffbe4",
   "metadata": {},
   "outputs": [
    {
     "data": {
      "text/plain": [
       "array([3, 1, 4, 1])"
      ]
     },
     "execution_count": 68,
     "metadata": {},
     "output_type": "execute_result"
    }
   ],
   "source": [
    "A = np.array(my_tuple)\n",
    "A"
   ]
  },
  {
   "cell_type": "code",
   "execution_count": 69,
   "id": "e9228dfa",
   "metadata": {},
   "outputs": [
    {
     "data": {
      "text/plain": [
       "numpy.ndarray"
      ]
     },
     "execution_count": 69,
     "metadata": {},
     "output_type": "execute_result"
    }
   ],
   "source": [
    "type(A)"
   ]
  },
  {
   "cell_type": "markdown",
   "id": "90c6c6f8",
   "metadata": {},
   "source": [
    "Slicing works with NumPy arrays:"
   ]
  },
  {
   "cell_type": "code",
   "execution_count": 70,
   "id": "09255452",
   "metadata": {},
   "outputs": [
    {
     "data": {
      "text/plain": [
       "array([1, 4, 1])"
      ]
     },
     "execution_count": 70,
     "metadata": {},
     "output_type": "execute_result"
    }
   ],
   "source": [
    "A[1:]"
   ]
  },
  {
   "cell_type": "markdown",
   "id": "e7026c54",
   "metadata": {},
   "source": [
    "There are many NumPy functions which can be applied very efficiently to every element in a NumPy array.  Here is an example of applying cosine to every entry in `A`:"
   ]
  },
  {
   "cell_type": "code",
   "execution_count": 71,
   "id": "b15e508f",
   "metadata": {},
   "outputs": [
    {
     "data": {
      "text/plain": [
       "array([-0.9899925 ,  0.54030231, -0.65364362,  0.54030231])"
      ]
     },
     "execution_count": 71,
     "metadata": {},
     "output_type": "execute_result"
    }
   ],
   "source": [
    "np.cos(A)"
   ]
  },
  {
   "cell_type": "markdown",
   "id": "5ce8d675",
   "metadata": {},
   "source": [
    "We will see later examples of how to time operations in Python, and then we will see concretely that many mathematical operations are much faster when performed on a NumPy array than when performed on something like a list or tuple."
   ]
  }
 ],
 "metadata": {
  "jupytext": {
   "text_representation": {
    "extension": ".md",
    "format_name": "myst",
    "format_version": 0.13,
    "jupytext_version": "1.10.3"
   }
  },
  "kernelspec": {
   "display_name": "Python 3 (ipykernel)",
   "language": "python",
   "name": "python3"
  },
  "language_info": {
   "codemirror_mode": {
    "name": "ipython",
    "version": 3
   },
   "file_extension": ".py",
   "mimetype": "text/x-python",
   "name": "python",
   "nbconvert_exporter": "python",
   "pygments_lexer": "ipython3",
   "version": "3.8.12"
  },
  "source_map": [
   12,
   25,
   31,
   35,
   39,
   41,
   45,
   50,
   53,
   57,
   60,
   64,
   68,
   72,
   76,
   80,
   85,
   89,
   91,
   95,
   100,
   102,
   106,
   111,
   115,
   119,
   123,
   127,
   131,
   135,
   139,
   141,
   148,
   150,
   154,
   158,
   162,
   164,
   168,
   170,
   174,
   178,
   182,
   184,
   188,
   190,
   195,
   199,
   203,
   207,
   211,
   213,
   217,
   220,
   224,
   228,
   232,
   234,
   238,
   244,
   246,
   250,
   254,
   258,
   260,
   264,
   266,
   270,
   272,
   279,
   283,
   285,
   289,
   293,
   297,
   301,
   303,
   306,
   308,
   313,
   315,
   319,
   321,
   327,
   329,
   333,
   335,
   339,
   341,
   345,
   347,
   354,
   356,
   360,
   365,
   367,
   371,
   373,
   377,
   382,
   384,
   388,
   390,
   394,
   399,
   401,
   404,
   406,
   409,
   411
  ]
 },
 "nbformat": 4,
 "nbformat_minor": 5
}