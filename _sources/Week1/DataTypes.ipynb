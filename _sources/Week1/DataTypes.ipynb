{
 "cells": [
  {
   "cell_type": "markdown",
   "id": "4f77973e",
   "metadata": {},
   "source": [
    "# Data types in Python\n",
    "\n",
    "There are a huge number of data types in Python, both built-in data types (like list) and data types that come from an external library (like NumPy arrays).  Often data types can appear quite similar.  Here is an example of five data types which all share some common properties:\n",
    "* list\n",
    "* set\n",
    "* tuple\n",
    "* range\n",
    "* NumPy array\n",
    "\n",
    "It is important to recognize in what ways these are similar and in what ways they are different.  Understanding the pros and cons of different data types is essential to selecting the data type which is best-suited for a given task."
   ]
  },
  {
   "cell_type": "markdown",
   "id": "654aa834",
   "metadata": {},
   "source": [
    "## list\n",
    "\n",
    "One of the most fundamental data types in Python is type *list*."
   ]
  },
  {
   "cell_type": "code",
   "execution_count": 1,
   "id": "57f6d619",
   "metadata": {},
   "outputs": [],
   "source": [
    "my_list = [3,1,4,1,5]"
   ]
  },
  {
   "cell_type": "code",
   "execution_count": 2,
   "id": "a2567426",
   "metadata": {},
   "outputs": [
    {
     "data": {
      "text/plain": [
       "list"
      ]
     },
     "execution_count": 2,
     "metadata": {},
     "output_type": "execute_result"
    }
   ],
   "source": [
    "type(my_list)"
   ]
  },
  {
   "cell_type": "code",
   "execution_count": 3,
   "id": "e5cebd20",
   "metadata": {},
   "outputs": [
    {
     "data": {
      "text/plain": [
       "5"
      ]
     },
     "execution_count": 3,
     "metadata": {},
     "output_type": "execute_result"
    }
   ],
   "source": [
    "len(my_list)"
   ]
  },
  {
   "cell_type": "markdown",
   "id": "dce1a5d8",
   "metadata": {},
   "source": [
    "Notice that the following probably doesn't produce what you expect.  The reason is that indexing in Python starts at 0, not at 1."
   ]
  },
  {
   "cell_type": "code",
   "execution_count": 4,
   "id": "ff4a5e6e",
   "metadata": {},
   "outputs": [
    {
     "data": {
      "text/plain": [
       "4"
      ]
     },
     "execution_count": 4,
     "metadata": {},
     "output_type": "execute_result"
    }
   ],
   "source": [
    "# indexing\n",
    "my_list[2]"
   ]
  },
  {
   "cell_type": "code",
   "execution_count": 5,
   "id": "2e6dc5db",
   "metadata": {},
   "outputs": [
    {
     "data": {
      "text/plain": [
       "3"
      ]
     },
     "execution_count": 5,
     "metadata": {},
     "output_type": "execute_result"
    }
   ],
   "source": [
    "# indexing\n",
    "my_list[0]"
   ]
  },
  {
   "cell_type": "markdown",
   "id": "fef71022",
   "metadata": {},
   "source": [
    "If you remember the colon operator from Matlab, then the following, which is known as *slicing*, should look familiar."
   ]
  },
  {
   "cell_type": "code",
   "execution_count": 6,
   "id": "6a6d75fa",
   "metadata": {},
   "outputs": [
    {
     "data": {
      "text/plain": [
       "[4, 1, 5]"
      ]
     },
     "execution_count": 6,
     "metadata": {},
     "output_type": "execute_result"
    }
   ],
   "source": [
    "# slicing\n",
    "my_list[2:]"
   ]
  },
  {
   "cell_type": "markdown",
   "id": "11f47e08",
   "metadata": {},
   "source": [
    "One difference from Matlab is that the right-endpoint is usually not included by default in Python.  For example, the following code `my_list[2:4]` produces a list that contains `my_list[2]` and `my_list[3]` but does not contain `my_list[4]`."
   ]
  },
  {
   "cell_type": "code",
   "execution_count": 7,
   "id": "96a7454a",
   "metadata": {},
   "outputs": [
    {
     "data": {
      "text/plain": [
       "[4, 1]"
      ]
     },
     "execution_count": 7,
     "metadata": {},
     "output_type": "execute_result"
    }
   ],
   "source": [
    "my_list[2:4]"
   ]
  },
  {
   "cell_type": "code",
   "execution_count": 8,
   "id": "8278fcf8",
   "metadata": {},
   "outputs": [
    {
     "data": {
      "text/plain": [
       "[3, 1, 4, 1, 5]"
      ]
     },
     "execution_count": 8,
     "metadata": {},
     "output_type": "execute_result"
    }
   ],
   "source": [
    "my_list"
   ]
  },
  {
   "cell_type": "code",
   "execution_count": 9,
   "id": "6eab0036",
   "metadata": {},
   "outputs": [],
   "source": [
    "my_list[2] = \"hello Math 10\""
   ]
  },
  {
   "cell_type": "code",
   "execution_count": 10,
   "id": "1a37269b",
   "metadata": {},
   "outputs": [
    {
     "data": {
      "text/plain": [
       "[3, 1, 'hello Math 10', 1, 5]"
      ]
     },
     "execution_count": 10,
     "metadata": {},
     "output_type": "execute_result"
    }
   ],
   "source": [
    "my_list"
   ]
  },
  {
   "cell_type": "code",
   "execution_count": 11,
   "id": "a89b7aed",
   "metadata": {},
   "outputs": [],
   "source": [
    "# this changes my_list\n",
    "my_list.append(4)"
   ]
  },
  {
   "cell_type": "code",
   "execution_count": 12,
   "id": "7a9be8ef",
   "metadata": {},
   "outputs": [
    {
     "data": {
      "text/plain": [
       "[3, 1, 'hello Math 10', 1, 5, 4]"
      ]
     },
     "execution_count": 12,
     "metadata": {},
     "output_type": "execute_result"
    }
   ],
   "source": [
    "my_list"
   ]
  },
  {
   "cell_type": "code",
   "execution_count": 13,
   "id": "93244c03",
   "metadata": {},
   "outputs": [],
   "source": [
    "new_list = [3,1,4,1]"
   ]
  },
  {
   "cell_type": "markdown",
   "id": "2b51252b",
   "metadata": {},
   "source": [
    "A common cause of mistakes is thinking that a command will change a structure, when in fact it has no effect on the original object.  In the following code, `sorted(new_list)` doesn't change `new_list`.  It makes a different list."
   ]
  },
  {
   "cell_type": "code",
   "execution_count": 14,
   "id": "eec18f37",
   "metadata": {},
   "outputs": [
    {
     "data": {
      "text/plain": [
       "[1, 1, 3, 4]"
      ]
     },
     "execution_count": 14,
     "metadata": {},
     "output_type": "execute_result"
    }
   ],
   "source": [
    "# has no effect on new_list\n",
    "sorted(new_list)"
   ]
  },
  {
   "cell_type": "code",
   "execution_count": 15,
   "id": "7d828903",
   "metadata": {},
   "outputs": [
    {
     "data": {
      "text/plain": [
       "[3, 1, 4, 1]"
      ]
     },
     "execution_count": 15,
     "metadata": {},
     "output_type": "execute_result"
    }
   ],
   "source": [
    "new_list"
   ]
  },
  {
   "cell_type": "markdown",
   "id": "698decf6",
   "metadata": {},
   "source": [
    "If we wanted to actually replace `new_list` with a sorted version of `new_list`, we should use a syntax like the following."
   ]
  },
  {
   "cell_type": "code",
   "execution_count": 16,
   "id": "4b865148",
   "metadata": {},
   "outputs": [],
   "source": [
    "# to change the original\n",
    "new_list = sorted(new_list)"
   ]
  },
  {
   "cell_type": "code",
   "execution_count": 17,
   "id": "d27555e2",
   "metadata": {},
   "outputs": [
    {
     "data": {
      "text/plain": [
       "[1, 1, 3, 4]"
      ]
     },
     "execution_count": 17,
     "metadata": {},
     "output_type": "execute_result"
    }
   ],
   "source": [
    "new_list"
   ]
  },
  {
   "cell_type": "code",
   "execution_count": 18,
   "id": "0a4be864",
   "metadata": {},
   "outputs": [],
   "source": [
    "new_list.extend([3,1,4])"
   ]
  },
  {
   "cell_type": "code",
   "execution_count": 19,
   "id": "5252d82c",
   "metadata": {},
   "outputs": [
    {
     "data": {
      "text/plain": [
       "[1, 1, 3, 4, 3, 1, 4]"
      ]
     },
     "execution_count": 19,
     "metadata": {},
     "output_type": "execute_result"
    }
   ],
   "source": [
    "new_list"
   ]
  },
  {
   "cell_type": "code",
   "execution_count": 20,
   "id": "772c855e",
   "metadata": {},
   "outputs": [],
   "source": [
    "new_list.append([3,1,4])"
   ]
  },
  {
   "cell_type": "code",
   "execution_count": 21,
   "id": "e8928e64",
   "metadata": {},
   "outputs": [
    {
     "data": {
      "text/plain": [
       "[1, 1, 3, 4, 3, 1, 4, [3, 1, 4]]"
      ]
     },
     "execution_count": 21,
     "metadata": {},
     "output_type": "execute_result"
    }
   ],
   "source": [
    "new_list"
   ]
  },
  {
   "cell_type": "code",
   "execution_count": 22,
   "id": "d9b94541",
   "metadata": {},
   "outputs": [
    {
     "data": {
      "text/plain": [
       "[3, 1, 4]"
      ]
     },
     "execution_count": 22,
     "metadata": {},
     "output_type": "execute_result"
    }
   ],
   "source": [
    "new_list[-1]"
   ]
  },
  {
   "cell_type": "code",
   "execution_count": 23,
   "id": "10197a40",
   "metadata": {},
   "outputs": [
    {
     "data": {
      "text/plain": [
       "list"
      ]
     },
     "execution_count": 23,
     "metadata": {},
     "output_type": "execute_result"
    }
   ],
   "source": [
    "type(new_list[-1])"
   ]
  },
  {
   "cell_type": "code",
   "execution_count": 24,
   "id": "cda88ee0",
   "metadata": {},
   "outputs": [
    {
     "data": {
      "text/plain": [
       "int"
      ]
     },
     "execution_count": 24,
     "metadata": {},
     "output_type": "execute_result"
    }
   ],
   "source": [
    "type(new_list[-2])"
   ]
  },
  {
   "cell_type": "markdown",
   "id": "307683dc",
   "metadata": {},
   "source": [
    "## set\n",
    "A set in Python is similar to a list in many ways.  For example, it contains a collection of objects.  Some differences are that sets do not have an order, and sets cannot have repeated elements.  Also sets are more limited in terms of the types of objects they can contain.\n",
    "\n",
    "We start by viewing the list `my_list`."
   ]
  },
  {
   "cell_type": "code",
   "execution_count": 25,
   "id": "24ad45bd",
   "metadata": {},
   "outputs": [
    {
     "data": {
      "text/plain": [
       "[3, 1, 'hello Math 10', 1, 5, 4]"
      ]
     },
     "execution_count": 25,
     "metadata": {},
     "output_type": "execute_result"
    }
   ],
   "source": [
    "my_list"
   ]
  },
  {
   "cell_type": "markdown",
   "id": "c9b9e735",
   "metadata": {},
   "source": [
    "Here is the standard way to convert data types in Python.  In this case, we are converting from a list to a set."
   ]
  },
  {
   "cell_type": "code",
   "execution_count": 26,
   "id": "c8fa43b7",
   "metadata": {},
   "outputs": [],
   "source": [
    "my_set = set(my_list)"
   ]
  },
  {
   "cell_type": "code",
   "execution_count": 27,
   "id": "811fa4ca",
   "metadata": {},
   "outputs": [
    {
     "data": {
      "text/plain": [
       "{1, 3, 4, 5, 'hello Math 10'}"
      ]
     },
     "execution_count": 27,
     "metadata": {},
     "output_type": "execute_result"
    }
   ],
   "source": [
    "my_set"
   ]
  },
  {
   "cell_type": "code",
   "execution_count": 28,
   "id": "d68c9b80",
   "metadata": {},
   "outputs": [
    {
     "data": {
      "text/plain": [
       "set"
      ]
     },
     "execution_count": 28,
     "metadata": {},
     "output_type": "execute_result"
    }
   ],
   "source": [
    "type(my_set)"
   ]
  },
  {
   "cell_type": "markdown",
   "id": "1cbbd2d2",
   "metadata": {},
   "source": [
    "Notice how the square brackets `[...]` got replaced by curly brackets `{...}` and how the order changed and the repetitions disappeared."
   ]
  },
  {
   "cell_type": "code",
   "execution_count": 29,
   "id": "d32b8ef3",
   "metadata": {},
   "outputs": [
    {
     "data": {
      "text/plain": [
       "{-10, 1, 3, 4, 5}"
      ]
     },
     "execution_count": 29,
     "metadata": {},
     "output_type": "execute_result"
    }
   ],
   "source": [
    "set([3,1,4,1,-10,5])"
   ]
  },
  {
   "cell_type": "markdown",
   "id": "3f119420",
   "metadata": {},
   "source": [
    "Sets don't have a notion of order, so taking the 2nd element doesn't make sense."
   ]
  },
  {
   "cell_type": "code",
   "execution_count": 30,
   "id": "2c22c731",
   "metadata": {},
   "outputs": [
    {
     "ename": "TypeError",
     "evalue": "'set' object is not subscriptable",
     "output_type": "error",
     "traceback": [
      "\u001b[0;31m---------------------------------------------------------------------------\u001b[0m",
      "\u001b[0;31mTypeError\u001b[0m                                 Traceback (most recent call last)",
      "\u001b[0;32m/var/folders/8j/gshrlmtn7dg4qtztj4d4t_w40000gn/T/ipykernel_80980/1306209179.py\u001b[0m in \u001b[0;36m<module>\u001b[0;34m\u001b[0m\n\u001b[0;32m----> 1\u001b[0;31m \u001b[0mmy_set\u001b[0m\u001b[0;34m[\u001b[0m\u001b[0;36m2\u001b[0m\u001b[0;34m]\u001b[0m\u001b[0;34m\u001b[0m\u001b[0;34m\u001b[0m\u001b[0m\n\u001b[0m",
      "\u001b[0;31mTypeError\u001b[0m: 'set' object is not subscriptable"
     ]
    }
   ],
   "source": [
    "my_set[2]"
   ]
  },
  {
   "cell_type": "code",
   "execution_count": 31,
   "id": "cd1048fa",
   "metadata": {},
   "outputs": [
    {
     "data": {
      "text/plain": [
       "5"
      ]
     },
     "execution_count": 31,
     "metadata": {},
     "output_type": "execute_result"
    }
   ],
   "source": [
    "len(my_set)"
   ]
  },
  {
   "cell_type": "code",
   "execution_count": 32,
   "id": "f28c91af",
   "metadata": {},
   "outputs": [
    {
     "data": {
      "text/plain": [
       "{1, 3, 4, 5, 'hello Math 10'}"
      ]
     },
     "execution_count": 32,
     "metadata": {},
     "output_type": "execute_result"
    }
   ],
   "source": [
    "my_set"
   ]
  },
  {
   "cell_type": "markdown",
   "id": "3050afbe",
   "metadata": {},
   "source": [
    "Here is the by-hand way to make a set (as opposed to converting from a list)."
   ]
  },
  {
   "cell_type": "code",
   "execution_count": 33,
   "id": "4f9ae875",
   "metadata": {},
   "outputs": [
    {
     "data": {
      "text/plain": [
       "{2, 4, 10}"
      ]
     },
     "execution_count": 33,
     "metadata": {},
     "output_type": "execute_result"
    }
   ],
   "source": [
    "{2,10,4}"
   ]
  },
  {
   "cell_type": "markdown",
   "id": "8267ddc8",
   "metadata": {},
   "source": [
    "## tuple\n",
    "In simple cases, a tuple is almost indistinguishable from a list.  The only real difference in the following first few examples is that the tuple has round parentheses instead of square brackets."
   ]
  },
  {
   "cell_type": "code",
   "execution_count": 34,
   "id": "37c6b378",
   "metadata": {},
   "outputs": [],
   "source": [
    "my_tuple = (3,1,4,1)"
   ]
  },
  {
   "cell_type": "code",
   "execution_count": 35,
   "id": "5c156d5a",
   "metadata": {},
   "outputs": [
    {
     "data": {
      "text/plain": [
       "(3, 1, 4, 1)"
      ]
     },
     "execution_count": 35,
     "metadata": {},
     "output_type": "execute_result"
    }
   ],
   "source": [
    "my_tuple"
   ]
  },
  {
   "cell_type": "code",
   "execution_count": 36,
   "id": "c0b1e4b2",
   "metadata": {},
   "outputs": [
    {
     "data": {
      "text/plain": [
       "4"
      ]
     },
     "execution_count": 36,
     "metadata": {},
     "output_type": "execute_result"
    }
   ],
   "source": [
    "my_tuple[2]"
   ]
  },
  {
   "cell_type": "code",
   "execution_count": 37,
   "id": "859a850b",
   "metadata": {},
   "outputs": [
    {
     "data": {
      "text/plain": [
       "(1, 4)"
      ]
     },
     "execution_count": 37,
     "metadata": {},
     "output_type": "execute_result"
    }
   ],
   "source": [
    "my_tuple[1:3]"
   ]
  },
  {
   "cell_type": "code",
   "execution_count": 38,
   "id": "d0d656ff",
   "metadata": {},
   "outputs": [
    {
     "data": {
      "text/plain": [
       "4"
      ]
     },
     "execution_count": 38,
     "metadata": {},
     "output_type": "execute_result"
    }
   ],
   "source": [
    "len(my_tuple)"
   ]
  },
  {
   "cell_type": "markdown",
   "id": "d994503c",
   "metadata": {},
   "source": [
    "If we want to convert a tuple into a list, we can do that by wrapping the variable name inside of `list`, as in this example.  The first line makes the conversion, and the second line displays the result."
   ]
  },
  {
   "cell_type": "code",
   "execution_count": 39,
   "id": "6a190f24",
   "metadata": {},
   "outputs": [
    {
     "data": {
      "text/plain": [
       "[3, 1, 4, 1]"
      ]
     },
     "execution_count": 39,
     "metadata": {},
     "output_type": "execute_result"
    }
   ],
   "source": [
    "my_list = list(my_tuple)\n",
    "my_list"
   ]
  },
  {
   "cell_type": "markdown",
   "id": "fb25e974",
   "metadata": {},
   "source": [
    "How are tuples different from lists?  Here is one example.  You should not change a tuple after you've created it."
   ]
  },
  {
   "cell_type": "code",
   "execution_count": 40,
   "id": "b9f22481",
   "metadata": {},
   "outputs": [
    {
     "name": "stdout",
     "output_type": "stream",
     "text": [
      "hi\n"
     ]
    },
    {
     "ename": "TypeError",
     "evalue": "'tuple' object does not support item assignment",
     "output_type": "error",
     "traceback": [
      "\u001b[0;31m---------------------------------------------------------------------------\u001b[0m",
      "\u001b[0;31mTypeError\u001b[0m                                 Traceback (most recent call last)",
      "\u001b[0;32m/var/folders/8j/gshrlmtn7dg4qtztj4d4t_w40000gn/T/ipykernel_80980/3086213120.py\u001b[0m in \u001b[0;36m<module>\u001b[0;34m\u001b[0m\n\u001b[1;32m      1\u001b[0m \u001b[0mprint\u001b[0m\u001b[0;34m(\u001b[0m\u001b[0;34m\"hi\"\u001b[0m\u001b[0;34m)\u001b[0m\u001b[0;34m\u001b[0m\u001b[0;34m\u001b[0m\u001b[0m\n\u001b[0;32m----> 2\u001b[0;31m \u001b[0mmy_tuple\u001b[0m\u001b[0;34m[\u001b[0m\u001b[0;36m2\u001b[0m\u001b[0;34m]\u001b[0m \u001b[0;34m=\u001b[0m \u001b[0;36m10\u001b[0m\u001b[0;34m\u001b[0m\u001b[0;34m\u001b[0m\u001b[0m\n\u001b[0m\u001b[1;32m      3\u001b[0m \u001b[0mprint\u001b[0m\u001b[0;34m(\u001b[0m\u001b[0;34m\"hello\"\u001b[0m\u001b[0;34m)\u001b[0m\u001b[0;34m\u001b[0m\u001b[0;34m\u001b[0m\u001b[0m\n",
      "\u001b[0;31mTypeError\u001b[0m: 'tuple' object does not support item assignment"
     ]
    }
   ],
   "source": [
    "print(\"hi\")\n",
    "my_tuple[2] = 10\n",
    "print(\"hello\")"
   ]
  },
  {
   "cell_type": "markdown",
   "id": "1661af81",
   "metadata": {},
   "source": [
    "Another example of how you should not change a tuple:"
   ]
  },
  {
   "cell_type": "code",
   "execution_count": 41,
   "id": "f5fdf746",
   "metadata": {},
   "outputs": [
    {
     "ename": "AttributeError",
     "evalue": "'tuple' object has no attribute 'append'",
     "output_type": "error",
     "traceback": [
      "\u001b[0;31m---------------------------------------------------------------------------\u001b[0m",
      "\u001b[0;31mAttributeError\u001b[0m                            Traceback (most recent call last)",
      "\u001b[0;32m/var/folders/8j/gshrlmtn7dg4qtztj4d4t_w40000gn/T/ipykernel_80980/3420063398.py\u001b[0m in \u001b[0;36m<module>\u001b[0;34m\u001b[0m\n\u001b[0;32m----> 1\u001b[0;31m \u001b[0mmy_tuple\u001b[0m\u001b[0;34m.\u001b[0m\u001b[0mappend\u001b[0m\u001b[0;34m(\u001b[0m\u001b[0;36m4\u001b[0m\u001b[0;34m)\u001b[0m\u001b[0;34m\u001b[0m\u001b[0;34m\u001b[0m\u001b[0m\n\u001b[0m",
      "\u001b[0;31mAttributeError\u001b[0m: 'tuple' object has no attribute 'append'"
     ]
    }
   ],
   "source": [
    "my_tuple.append(4)"
   ]
  },
  {
   "cell_type": "markdown",
   "id": "fae53913",
   "metadata": {},
   "source": [
    "Why would we ever use tuples?  One pragmatic advantage of a tuple over a list is that a tuple can (usually) go in a set, while a list can't."
   ]
  },
  {
   "cell_type": "code",
   "execution_count": 42,
   "id": "635291fa",
   "metadata": {},
   "outputs": [
    {
     "data": {
      "text/plain": [
       "{(3, 1, 4, 1), 10, 5}"
      ]
     },
     "execution_count": 42,
     "metadata": {},
     "output_type": "execute_result"
    }
   ],
   "source": [
    "# Why would we ever use tuples?\n",
    "# tuples can go in a set, and lists can't\n",
    "{5,10,my_tuple}"
   ]
  },
  {
   "cell_type": "code",
   "execution_count": 43,
   "id": "80ae15b0",
   "metadata": {},
   "outputs": [
    {
     "ename": "TypeError",
     "evalue": "unhashable type: 'list'",
     "output_type": "error",
     "traceback": [
      "\u001b[0;31m---------------------------------------------------------------------------\u001b[0m",
      "\u001b[0;31mTypeError\u001b[0m                                 Traceback (most recent call last)",
      "\u001b[0;32m/var/folders/8j/gshrlmtn7dg4qtztj4d4t_w40000gn/T/ipykernel_80980/3098496682.py\u001b[0m in \u001b[0;36m<module>\u001b[0;34m\u001b[0m\n\u001b[0;32m----> 1\u001b[0;31m \u001b[0;34m{\u001b[0m\u001b[0;36m5\u001b[0m\u001b[0;34m,\u001b[0m\u001b[0;36m10\u001b[0m\u001b[0;34m,\u001b[0m\u001b[0mmy_list\u001b[0m\u001b[0;34m}\u001b[0m\u001b[0;34m\u001b[0m\u001b[0;34m\u001b[0m\u001b[0m\n\u001b[0m",
      "\u001b[0;31mTypeError\u001b[0m: unhashable type: 'list'"
     ]
    }
   ],
   "source": [
    "{5,10,my_list}"
   ]
  },
  {
   "cell_type": "markdown",
   "id": "35b8d524",
   "metadata": {},
   "source": [
    "Another practical reason tuples are important is that, when you are using Python code written by someone else, it will often involve tuples.  Here is a small example and a preview of the NumPy arrays discussed below."
   ]
  },
  {
   "cell_type": "code",
   "execution_count": 44,
   "id": "4ac673e8",
   "metadata": {},
   "outputs": [
    {
     "data": {
      "text/plain": [
       "array([3, 1, 4, 1])"
      ]
     },
     "execution_count": 44,
     "metadata": {},
     "output_type": "execute_result"
    }
   ],
   "source": [
    "import numpy as np\n",
    "A = np.array(my_list)\n",
    "A"
   ]
  },
  {
   "cell_type": "markdown",
   "id": "010cdf9a",
   "metadata": {},
   "source": [
    "The variable `A` represents a NumPy array."
   ]
  },
  {
   "cell_type": "code",
   "execution_count": 45,
   "id": "59a40616",
   "metadata": {},
   "outputs": [
    {
     "data": {
      "text/plain": [
       "numpy.ndarray"
      ]
     },
     "execution_count": 45,
     "metadata": {},
     "output_type": "execute_result"
    }
   ],
   "source": [
    "type(A)"
   ]
  },
  {
   "cell_type": "markdown",
   "id": "50817179",
   "metadata": {},
   "source": [
    "NumPy arrays have a `shape` attribute which tells us the dimensions of the array.  (That is especially useful if `A` represents a matrix.)"
   ]
  },
  {
   "cell_type": "code",
   "execution_count": 46,
   "id": "96bcb4a6",
   "metadata": {},
   "outputs": [
    {
     "data": {
      "text/plain": [
       "(4,)"
      ]
     },
     "execution_count": 46,
     "metadata": {},
     "output_type": "execute_result"
    }
   ],
   "source": [
    "A.shape"
   ]
  },
  {
   "cell_type": "markdown",
   "id": "1a40b7f8",
   "metadata": {},
   "source": [
    "This `shape` attribute is represented as a tuple."
   ]
  },
  {
   "cell_type": "code",
   "execution_count": 47,
   "id": "3734361b",
   "metadata": {},
   "outputs": [
    {
     "data": {
      "text/plain": [
       "tuple"
      ]
     },
     "execution_count": 47,
     "metadata": {},
     "output_type": "execute_result"
    }
   ],
   "source": [
    "type(A.shape)"
   ]
  },
  {
   "cell_type": "markdown",
   "id": "818d1af1",
   "metadata": {},
   "source": [
    "Here is a discussion of differences between lists and tuples from [Stack Overflow](https://stackoverflow.com/a/626871), although that discussion, like many discussions on Stack Overflow, is a little advanced for us as we're just beginning with Python.\n",
    "\n",
    "## range\n",
    "We won't use `range` by itself very often, but we will use it all the time to produce repetitions, such as during a for loop.  The `range` function is similar to how `:` works in Matlab, although with range, the step-size goes at the end, rather than in the middle."
   ]
  },
  {
   "cell_type": "code",
   "execution_count": 48,
   "id": "dbb5ffc8",
   "metadata": {},
   "outputs": [],
   "source": [
    "my_range = range(0,100,3)"
   ]
  },
  {
   "cell_type": "code",
   "execution_count": 49,
   "id": "27fd0a33",
   "metadata": {},
   "outputs": [
    {
     "data": {
      "text/plain": [
       "range(0, 100, 3)"
      ]
     },
     "execution_count": 49,
     "metadata": {},
     "output_type": "execute_result"
    }
   ],
   "source": [
    "my_range"
   ]
  },
  {
   "cell_type": "markdown",
   "id": "455d3f4a",
   "metadata": {},
   "source": [
    "This element `my_range` is yet another type in Python."
   ]
  },
  {
   "cell_type": "code",
   "execution_count": 50,
   "id": "bb027a55",
   "metadata": {},
   "outputs": [
    {
     "data": {
      "text/plain": [
       "range"
      ]
     },
     "execution_count": 50,
     "metadata": {},
     "output_type": "execute_result"
    }
   ],
   "source": [
    "type(my_range)"
   ]
  },
  {
   "cell_type": "code",
   "execution_count": 51,
   "id": "c8090cd3",
   "metadata": {},
   "outputs": [
    {
     "data": {
      "text/plain": [
       "[0,\n",
       " 3,\n",
       " 6,\n",
       " 9,\n",
       " 12,\n",
       " 15,\n",
       " 18,\n",
       " 21,\n",
       " 24,\n",
       " 27,\n",
       " 30,\n",
       " 33,\n",
       " 36,\n",
       " 39,\n",
       " 42,\n",
       " 45,\n",
       " 48,\n",
       " 51,\n",
       " 54,\n",
       " 57,\n",
       " 60,\n",
       " 63,\n",
       " 66,\n",
       " 69,\n",
       " 72,\n",
       " 75,\n",
       " 78,\n",
       " 81,\n",
       " 84,\n",
       " 87,\n",
       " 90,\n",
       " 93,\n",
       " 96,\n",
       " 99]"
      ]
     },
     "execution_count": 51,
     "metadata": {},
     "output_type": "execute_result"
    }
   ],
   "source": [
    "list(my_range)"
   ]
  },
  {
   "cell_type": "code",
   "execution_count": 52,
   "id": "505c1652",
   "metadata": {},
   "outputs": [
    {
     "data": {
      "text/plain": [
       "[0, 1, 2, 3, 4, 5, 6, 7, 8, 9]"
      ]
     },
     "execution_count": 52,
     "metadata": {},
     "output_type": "execute_result"
    }
   ],
   "source": [
    "list(range(0,10,1))"
   ]
  },
  {
   "cell_type": "code",
   "execution_count": 53,
   "id": "3f7d453d",
   "metadata": {},
   "outputs": [
    {
     "data": {
      "text/plain": [
       "[0, 1, 2, 3, 4, 5, 6, 7, 8, 9]"
      ]
     },
     "execution_count": 53,
     "metadata": {},
     "output_type": "execute_result"
    }
   ],
   "source": [
    "list(range(10))"
   ]
  },
  {
   "cell_type": "markdown",
   "id": "c1937781",
   "metadata": {},
   "source": [
    "You are not allowed to use range with non-integer entries."
   ]
  },
  {
   "cell_type": "code",
   "execution_count": 54,
   "id": "f3e2102d",
   "metadata": {},
   "outputs": [
    {
     "ename": "TypeError",
     "evalue": "'float' object cannot be interpreted as an integer",
     "output_type": "error",
     "traceback": [
      "\u001b[0;31m---------------------------------------------------------------------------\u001b[0m",
      "\u001b[0;31mTypeError\u001b[0m                                 Traceback (most recent call last)",
      "\u001b[0;32m/var/folders/8j/gshrlmtn7dg4qtztj4d4t_w40000gn/T/ipykernel_80980/1541136516.py\u001b[0m in \u001b[0;36m<module>\u001b[0;34m\u001b[0m\n\u001b[0;32m----> 1\u001b[0;31m \u001b[0mrange\u001b[0m\u001b[0;34m(\u001b[0m\u001b[0;36m0\u001b[0m\u001b[0;34m,\u001b[0m\u001b[0;36m10\u001b[0m\u001b[0;34m,\u001b[0m\u001b[0;36m0.5\u001b[0m\u001b[0;34m)\u001b[0m\u001b[0;34m\u001b[0m\u001b[0;34m\u001b[0m\u001b[0m\n\u001b[0m",
      "\u001b[0;31mTypeError\u001b[0m: 'float' object cannot be interpreted as an integer"
     ]
    }
   ],
   "source": [
    "range(0,10,0.5)"
   ]
  },
  {
   "cell_type": "markdown",
   "id": "8e17299a",
   "metadata": {},
   "source": [
    "One reason range is useful is it can represent gigantic pieces of data without actually taking up much space in memory.  In the following, we want to write $10^{40}$, which in Python is expressed using `10**40` (the caret symbol `^` means something else in Python)."
   ]
  },
  {
   "cell_type": "code",
   "execution_count": 55,
   "id": "47b8cdbe",
   "metadata": {},
   "outputs": [],
   "source": [
    "my_range = range(0,10**40,3)"
   ]
  },
  {
   "cell_type": "markdown",
   "id": "3e03f605",
   "metadata": {},
   "source": [
    "It would be a very bad idea to try to convert that into a list, because no computer can store $10^{40}$ distinct integers."
   ]
  },
  {
   "cell_type": "code",
   "execution_count": 56,
   "id": "3b4864b2",
   "metadata": {},
   "outputs": [
    {
     "ename": "OverflowError",
     "evalue": "Python int too large to convert to C ssize_t",
     "output_type": "error",
     "traceback": [
      "\u001b[0;31m---------------------------------------------------------------------------\u001b[0m",
      "\u001b[0;31mOverflowError\u001b[0m                             Traceback (most recent call last)",
      "\u001b[0;32m/var/folders/8j/gshrlmtn7dg4qtztj4d4t_w40000gn/T/ipykernel_80980/3285818751.py\u001b[0m in \u001b[0;36m<module>\u001b[0;34m\u001b[0m\n\u001b[0;32m----> 1\u001b[0;31m \u001b[0mlist\u001b[0m\u001b[0;34m(\u001b[0m\u001b[0mrange\u001b[0m\u001b[0;34m(\u001b[0m\u001b[0;36m0\u001b[0m\u001b[0;34m,\u001b[0m\u001b[0;36m10\u001b[0m\u001b[0;34m**\u001b[0m\u001b[0;36m40\u001b[0m\u001b[0;34m,\u001b[0m\u001b[0;36m3\u001b[0m\u001b[0;34m)\u001b[0m\u001b[0;34m)\u001b[0m\u001b[0;34m\u001b[0m\u001b[0;34m\u001b[0m\u001b[0m\n\u001b[0m",
      "\u001b[0;31mOverflowError\u001b[0m: Python int too large to convert to C ssize_t"
     ]
    }
   ],
   "source": [
    "list(range(0,10**40,3))"
   ]
  },
  {
   "cell_type": "markdown",
   "id": "0b50cf5e",
   "metadata": {},
   "source": [
    "Even though `my_range` doesn't literally contain all of those numbers, Python is still smart enough to answer some basic questions about `my_range`.  For example:\n",
    "\n",
    "* Is 252523525252421 in `my_range`?"
   ]
  },
  {
   "cell_type": "code",
   "execution_count": 57,
   "id": "50cf8dd8",
   "metadata": {},
   "outputs": [
    {
     "data": {
      "text/plain": [
       "False"
      ]
     },
     "execution_count": 57,
     "metadata": {},
     "output_type": "execute_result"
    }
   ],
   "source": [
    "252523525252421 in my_range"
   ]
  },
  {
   "cell_type": "markdown",
   "id": "e9c0c6e4",
   "metadata": {},
   "source": [
    "What about 252523525252422?"
   ]
  },
  {
   "cell_type": "code",
   "execution_count": 58,
   "id": "b16fa4fb",
   "metadata": {},
   "outputs": [
    {
     "data": {
      "text/plain": [
       "True"
      ]
     },
     "execution_count": 58,
     "metadata": {},
     "output_type": "execute_result"
    }
   ],
   "source": [
    "252523525252422 in my_range"
   ]
  },
  {
   "cell_type": "markdown",
   "id": "3cbc31fc",
   "metadata": {},
   "source": [
    "* What are the last 4 elements in my_range?"
   ]
  },
  {
   "cell_type": "code",
   "execution_count": 59,
   "id": "219ec0b8",
   "metadata": {},
   "outputs": [
    {
     "data": {
      "text/plain": [
       "range(9999999999999999999999999999999999999990, 10000000000000000000000000000000000000002, 3)"
      ]
     },
     "execution_count": 59,
     "metadata": {},
     "output_type": "execute_result"
    }
   ],
   "source": [
    "my_range[-4:]"
   ]
  },
  {
   "cell_type": "markdown",
   "id": "3037ac07",
   "metadata": {},
   "source": [
    "By default, those 4 elements are also represented as a range object.  We can explicitly convert that range object to a list."
   ]
  },
  {
   "cell_type": "code",
   "execution_count": 60,
   "id": "857e66c6",
   "metadata": {},
   "outputs": [
    {
     "data": {
      "text/plain": [
       "[9999999999999999999999999999999999999990,\n",
       " 9999999999999999999999999999999999999993,\n",
       " 9999999999999999999999999999999999999996,\n",
       " 9999999999999999999999999999999999999999]"
      ]
     },
     "execution_count": 60,
     "metadata": {},
     "output_type": "execute_result"
    }
   ],
   "source": [
    "list(my_range[-4:])"
   ]
  },
  {
   "cell_type": "markdown",
   "id": "0cfe5bed",
   "metadata": {},
   "source": [
    "## NumPy arrays\n",
    "All of the above data types are part of standard Python.  Often in Math 10, we will instead be working with data types defined in separate Python libraries.  *NumPy* is probably the library we will use second-most often (behind only *pandas*).\n",
    "\n",
    "Here is the syntax for importing NumPy.  There is a standard abbreviation `np` which should always be used when referring to this library."
   ]
  },
  {
   "cell_type": "code",
   "execution_count": 61,
   "id": "1c27859c",
   "metadata": {},
   "outputs": [],
   "source": [
    "import numpy as np"
   ]
  },
  {
   "cell_type": "markdown",
   "id": "7aa53442",
   "metadata": {},
   "source": [
    "We saw above that `range` cannot be used with non-integer values.  (These decimal numbers are called *floats* in Python.)"
   ]
  },
  {
   "cell_type": "code",
   "execution_count": 62,
   "id": "10aa27b2",
   "metadata": {},
   "outputs": [
    {
     "data": {
      "text/plain": [
       "float"
      ]
     },
     "execution_count": 62,
     "metadata": {},
     "output_type": "execute_result"
    }
   ],
   "source": [
    "step = 0.5\n",
    "type(step)"
   ]
  },
  {
   "cell_type": "code",
   "execution_count": 63,
   "id": "ffb12131",
   "metadata": {},
   "outputs": [
    {
     "ename": "TypeError",
     "evalue": "'float' object cannot be interpreted as an integer",
     "output_type": "error",
     "traceback": [
      "\u001b[0;31m---------------------------------------------------------------------------\u001b[0m",
      "\u001b[0;31mTypeError\u001b[0m                                 Traceback (most recent call last)",
      "\u001b[0;32m/var/folders/8j/gshrlmtn7dg4qtztj4d4t_w40000gn/T/ipykernel_80980/1917164971.py\u001b[0m in \u001b[0;36m<module>\u001b[0;34m\u001b[0m\n\u001b[0;32m----> 1\u001b[0;31m \u001b[0mrange\u001b[0m\u001b[0;34m(\u001b[0m\u001b[0;36m0\u001b[0m\u001b[0;34m,\u001b[0m\u001b[0;36m10\u001b[0m\u001b[0;34m,\u001b[0m\u001b[0mstep\u001b[0m\u001b[0;34m)\u001b[0m\u001b[0;34m\u001b[0m\u001b[0;34m\u001b[0m\u001b[0m\n\u001b[0m",
      "\u001b[0;31mTypeError\u001b[0m: 'float' object cannot be interpreted as an integer"
     ]
    }
   ],
   "source": [
    "range(0,10,step)"
   ]
  },
  {
   "cell_type": "markdown",
   "id": "d42d89cc",
   "metadata": {},
   "source": [
    "NumPy defines a similar function called `arange` which can work with floats.  The following though does not work."
   ]
  },
  {
   "cell_type": "code",
   "execution_count": 64,
   "id": "2f155943",
   "metadata": {},
   "outputs": [
    {
     "ename": "NameError",
     "evalue": "name 'arange' is not defined",
     "output_type": "error",
     "traceback": [
      "\u001b[0;31m---------------------------------------------------------------------------\u001b[0m",
      "\u001b[0;31mNameError\u001b[0m                                 Traceback (most recent call last)",
      "\u001b[0;32m/var/folders/8j/gshrlmtn7dg4qtztj4d4t_w40000gn/T/ipykernel_80980/2951658910.py\u001b[0m in \u001b[0;36m<module>\u001b[0;34m\u001b[0m\n\u001b[0;32m----> 1\u001b[0;31m \u001b[0marange\u001b[0m\u001b[0;34m(\u001b[0m\u001b[0;36m0\u001b[0m\u001b[0;34m,\u001b[0m\u001b[0;36m10\u001b[0m\u001b[0;34m,\u001b[0m\u001b[0mstep\u001b[0m\u001b[0;34m)\u001b[0m\u001b[0;34m\u001b[0m\u001b[0;34m\u001b[0m\u001b[0m\n\u001b[0m",
      "\u001b[0;31mNameError\u001b[0m: name 'arange' is not defined"
     ]
    }
   ],
   "source": [
    "arange(0,10,step)"
   ]
  },
  {
   "cell_type": "markdown",
   "id": "e74a9477",
   "metadata": {},
   "source": [
    "The reason `arange(0,10,step)` does not work is that Python does not know that `arange` is defined by NumPy.  To tell Python where to look for the definition, we use the syntax `np.arange`."
   ]
  },
  {
   "cell_type": "code",
   "execution_count": 65,
   "id": "c04f8f3a",
   "metadata": {},
   "outputs": [
    {
     "data": {
      "text/plain": [
       "array([0. , 0.5, 1. , 1.5, 2. , 2.5, 3. , 3.5, 4. , 4.5, 5. , 5.5, 6. ,\n",
       "       6.5, 7. , 7.5, 8. , 8.5, 9. , 9.5])"
      ]
     },
     "execution_count": 65,
     "metadata": {},
     "output_type": "execute_result"
    }
   ],
   "source": [
    "A = np.arange(0,10,step)\n",
    "A"
   ]
  },
  {
   "cell_type": "code",
   "execution_count": 66,
   "id": "bd0edb4d",
   "metadata": {},
   "outputs": [
    {
     "data": {
      "text/plain": [
       "numpy.ndarray"
      ]
     },
     "execution_count": 66,
     "metadata": {},
     "output_type": "execute_result"
    }
   ],
   "source": [
    "type(A)"
   ]
  },
  {
   "cell_type": "markdown",
   "id": "c5704068",
   "metadata": {},
   "source": [
    "NumPy arrays are the last data type we will consider in this notebook.  Recall the following syntax for turning `my_tuple` into a list:"
   ]
  },
  {
   "cell_type": "code",
   "execution_count": 67,
   "id": "18df4f7a",
   "metadata": {},
   "outputs": [
    {
     "data": {
      "text/plain": [
       "[3, 1, 4, 1]"
      ]
     },
     "execution_count": 67,
     "metadata": {},
     "output_type": "execute_result"
    }
   ],
   "source": [
    "list(my_tuple)"
   ]
  },
  {
   "cell_type": "markdown",
   "id": "931a5d2f",
   "metadata": {},
   "source": [
    "There is the same sort of syntax for turning `my_tuple` into a NumPy array:"
   ]
  },
  {
   "cell_type": "code",
   "execution_count": 68,
   "id": "67ce9136",
   "metadata": {},
   "outputs": [
    {
     "data": {
      "text/plain": [
       "array([3, 1, 4, 1])"
      ]
     },
     "execution_count": 68,
     "metadata": {},
     "output_type": "execute_result"
    }
   ],
   "source": [
    "A = np.array(my_tuple)\n",
    "A"
   ]
  },
  {
   "cell_type": "code",
   "execution_count": 69,
   "id": "21f773a5",
   "metadata": {},
   "outputs": [
    {
     "data": {
      "text/plain": [
       "numpy.ndarray"
      ]
     },
     "execution_count": 69,
     "metadata": {},
     "output_type": "execute_result"
    }
   ],
   "source": [
    "type(A)"
   ]
  },
  {
   "cell_type": "markdown",
   "id": "59a10b8b",
   "metadata": {},
   "source": [
    "Slicing works with NumPy arrays:"
   ]
  },
  {
   "cell_type": "code",
   "execution_count": 70,
   "id": "e2012a03",
   "metadata": {},
   "outputs": [
    {
     "data": {
      "text/plain": [
       "array([1, 4, 1])"
      ]
     },
     "execution_count": 70,
     "metadata": {},
     "output_type": "execute_result"
    }
   ],
   "source": [
    "A[1:]"
   ]
  },
  {
   "cell_type": "markdown",
   "id": "b7fd98f1",
   "metadata": {},
   "source": [
    "There are many NumPy functions which can be applied very efficiently to every element in a NumPy array.  Here is an example of applying cosine to every entry in `A`:"
   ]
  },
  {
   "cell_type": "code",
   "execution_count": 71,
   "id": "b6647e6a",
   "metadata": {},
   "outputs": [
    {
     "data": {
      "text/plain": [
       "array([-0.9899925 ,  0.54030231, -0.65364362,  0.54030231])"
      ]
     },
     "execution_count": 71,
     "metadata": {},
     "output_type": "execute_result"
    }
   ],
   "source": [
    "np.cos(A)"
   ]
  },
  {
   "cell_type": "markdown",
   "id": "2d570d9d",
   "metadata": {},
   "source": [
    "We will see later examples of how to time operations in Python, and then we will see concretely that many mathematical operations are much faster when performed on a NumPy array than when performed on something like a list or tuple."
   ]
  }
 ],
 "metadata": {
  "jupytext": {
   "text_representation": {
    "extension": ".md",
    "format_name": "myst",
    "format_version": 0.13,
    "jupytext_version": "1.10.3"
   }
  },
  "kernelspec": {
   "display_name": "Python 3 (ipykernel)",
   "language": "python",
   "name": "python3"
  },
  "language_info": {
   "codemirror_mode": {
    "name": "ipython",
    "version": 3
   },
   "file_extension": ".py",
   "mimetype": "text/x-python",
   "name": "python",
   "nbconvert_exporter": "python",
   "pygments_lexer": "ipython3",
   "version": "3.8.12"
  },
  "source_map": [
   12,
   25,
   31,
   35,
   39,
   41,
   45,
   50,
   53,
   57,
   60,
   64,
   68,
   72,
   76,
   80,
   85,
   89,
   91,
   95,
   100,
   102,
   106,
   111,
   115,
   119,
   123,
   127,
   131,
   135,
   139,
   141,
   148,
   150,
   154,
   158,
   162,
   164,
   168,
   170,
   174,
   178,
   182,
   184,
   188,
   190,
   195,
   199,
   203,
   207,
   211,
   213,
   217,
   220,
   224,
   228,
   232,
   234,
   238,
   244,
   246,
   250,
   254,
   258,
   260,
   264,
   266,
   270,
   272,
   279,
   283,
   285,
   289,
   293,
   297,
   301,
   303,
   306,
   308,
   313,
   315,
   319,
   321,
   327,
   329,
   333,
   335,
   339,
   341,
   345,
   347,
   354,
   356,
   360,
   365,
   367,
   371,
   373,
   377,
   382,
   384,
   388,
   390,
   394,
   399,
   401,
   404,
   406,
   409,
   411
  ]
 },
 "nbformat": 4,
 "nbformat_minor": 5
}