{
 "cells": [
  {
   "cell_type": "markdown",
   "id": "6cb0ea9b",
   "metadata": {},
   "source": [
    "# Week 1 Wednesday Lecture\n",
    "## Reminders.  \n",
    "\n",
    "Quiz during discussion section Thursday.  Three questions, each pass/no pass (no partial credit).  Will be a chance to redo later.  Here are the learning objectives for this quiz:\n",
    "* Choose from among list, tuple, range, set, NumPy array, depending on which is an appropriate data type for a particular task.\n",
    "* Extract basic information from a Python error message.\n",
    "* Extract basic information from Python documentation.\n",
    "* Access elements from lists and list-like structures using indexing and slicing.\n",
    "* Create lists and related structures (such as by using range or np.arange, for loops and if statements, or indexing).\n",
    "* Create matrix-like structures (such as by using for loops, nested for loops, or NumPy commands like np.zeros, np.ones, np.full, or reshape).\n",
    "* Determine the result of executing code by reading through the code step-by-step.\n",
    "\n",
    "Homework 1 due Friday at 11:30am as an online submission.  The instructions for the Streamlit question have changed slightly.  (See my Tuesday email or the assignment page or the Ed Discussion thread.)"
   ]
  },
  {
   "cell_type": "markdown",
   "id": "77fb2cbb",
   "metadata": {},
   "source": [
    "## The best way to search in a list is to use the `in` operator.  How could we instead search in a list using a for loop?\n",
    "\n",
    "Define a function `search_list` which takes as input a list and an element, and as output returns `True` if the element is in the list, and returns `False` otherwise.  You must use a for loop (do not use the `in` command)."
   ]
  },
  {
   "cell_type": "code",
   "execution_count": 1,
   "id": "6a81cb20",
   "metadata": {},
   "outputs": [],
   "source": [
    "def search_list(my_list,elt):\n",
    "    b = False\n",
    "    for e in my_list:\n",
    "        if e == elt:\n",
    "            b = True\n",
    "    return b"
   ]
  },
  {
   "cell_type": "code",
   "execution_count": 2,
   "id": "f53ac317",
   "metadata": {},
   "outputs": [
    {
     "data": {
      "text/plain": [
       "False"
      ]
     },
     "execution_count": 2,
     "metadata": {},
     "output_type": "execute_result"
    }
   ],
   "source": [
    "search_list([3,1,4],2)"
   ]
  },
  {
   "cell_type": "code",
   "execution_count": 3,
   "id": "f7f1c344",
   "metadata": {},
   "outputs": [
    {
     "data": {
      "text/plain": [
       "True"
      ]
     },
     "execution_count": 3,
     "metadata": {},
     "output_type": "execute_result"
    }
   ],
   "source": [
    "search_list([3,1,4],1)"
   ]
  },
  {
   "cell_type": "markdown",
   "id": "9bd55172",
   "metadata": {},
   "source": [
    "Make the list `[0,4,8,12,...,10**6 - 4]` and call the result `my_list`\n",
    "\n",
    "Using `%%timeit`, time how long it takes Python to check if 0 is in the list, and next time how long it takes to check if 1 is in the list.  Why do you think these numbers are so different?  How do these numbers compare between the `in` operator and our `search_list` function?"
   ]
  },
  {
   "cell_type": "code",
   "execution_count": 4,
   "id": "adba0686",
   "metadata": {},
   "outputs": [],
   "source": [
    "my_list = range(0,10**6,4)"
   ]
  },
  {
   "cell_type": "code",
   "execution_count": 5,
   "id": "5f6fbe6c",
   "metadata": {},
   "outputs": [
    {
     "data": {
      "text/plain": [
       "range"
      ]
     },
     "execution_count": 5,
     "metadata": {},
     "output_type": "execute_result"
    }
   ],
   "source": [
    "type(my_list)"
   ]
  },
  {
   "cell_type": "code",
   "execution_count": 6,
   "id": "08bb2b6e",
   "metadata": {},
   "outputs": [],
   "source": [
    "my_list = list(range(0,10**6,4))"
   ]
  },
  {
   "cell_type": "code",
   "execution_count": 7,
   "id": "0f84f9ce",
   "metadata": {},
   "outputs": [
    {
     "data": {
      "text/plain": [
       "list"
      ]
     },
     "execution_count": 7,
     "metadata": {},
     "output_type": "execute_result"
    }
   ],
   "source": [
    "type(my_list)"
   ]
  },
  {
   "cell_type": "code",
   "execution_count": 8,
   "id": "f866ef89",
   "metadata": {},
   "outputs": [
    {
     "name": "stdout",
     "output_type": "stream",
     "text": [
      "33.7 ns ± 1.69 ns per loop (mean ± std. dev. of 7 runs, 10000000 loops each)\n"
     ]
    }
   ],
   "source": [
    "%%timeit\n",
    "0 in my_list"
   ]
  },
  {
   "cell_type": "code",
   "execution_count": 9,
   "id": "ca8f7972",
   "metadata": {},
   "outputs": [
    {
     "name": "stdout",
     "output_type": "stream",
     "text": [
      "2.77 ms ± 2.26 µs per loop (mean ± std. dev. of 7 runs, 100 loops each)\n"
     ]
    }
   ],
   "source": [
    "%%timeit\n",
    "1 in my_list"
   ]
  },
  {
   "cell_type": "markdown",
   "id": "e84e2936",
   "metadata": {},
   "source": [
    "Why is searching for 1 thousands of times slower?  It has to check every element.  Can't terminate early.  With 0, it terminates early"
   ]
  },
  {
   "cell_type": "code",
   "execution_count": 10,
   "id": "2815d4a9",
   "metadata": {},
   "outputs": [
    {
     "name": "stdout",
     "output_type": "stream",
     "text": [
      "6.33 ms ± 6.23 µs per loop (mean ± std. dev. of 7 runs, 100 loops each)\n"
     ]
    }
   ],
   "source": [
    "%%timeit\n",
    "search_list(my_list,1)"
   ]
  },
  {
   "cell_type": "markdown",
   "id": "23f815b1",
   "metadata": {},
   "source": [
    "Our \"naively\" written search algorithm is almost as good for this element 1 as the built in \"in\" function in Python."
   ]
  },
  {
   "cell_type": "markdown",
   "id": "d05200f0",
   "metadata": {},
   "source": [
    "## set vs list\n",
    "Name three advantages of a list over a set:\n",
    "* Lists can have repeated elements.\n",
    "* Lists have an order.\n",
    "* Lists can have a wider variety of elements.\n",
    "\n",
    "One of the main goals of this notebook is to see a big advantage of a set over a list."
   ]
  },
  {
   "cell_type": "code",
   "execution_count": 11,
   "id": "481ceb66",
   "metadata": {},
   "outputs": [
    {
     "data": {
      "text/plain": [
       "[2, 10, [3, 1, 4]]"
      ]
     },
     "execution_count": 11,
     "metadata": {},
     "output_type": "execute_result"
    }
   ],
   "source": [
    "[2,10,[3,1,4]]"
   ]
  },
  {
   "cell_type": "code",
   "execution_count": 13,
   "id": "6d01fa2d",
   "metadata": {},
   "outputs": [
    {
     "ename": "TypeError",
     "evalue": "unhashable type: 'set'",
     "output_type": "error",
     "traceback": [
      "\u001b[0;31m---------------------------------------------------------------------------\u001b[0m",
      "\u001b[0;31mTypeError\u001b[0m                                 Traceback (most recent call last)",
      "\u001b[0;32m<ipython-input-13-a6828f9387b8>\u001b[0m in \u001b[0;36m<module>\u001b[0;34m\u001b[0m\n\u001b[0;32m----> 1\u001b[0;31m \u001b[0;34m{\u001b[0m\u001b[0;36m2\u001b[0m\u001b[0;34m,\u001b[0m\u001b[0;36m10\u001b[0m\u001b[0;34m,\u001b[0m\u001b[0;34m{\u001b[0m\u001b[0;36m3\u001b[0m\u001b[0;34m,\u001b[0m\u001b[0;36m1\u001b[0m\u001b[0;34m,\u001b[0m\u001b[0;36m4\u001b[0m\u001b[0;34m}\u001b[0m\u001b[0;34m}\u001b[0m\u001b[0;34m\u001b[0m\u001b[0;34m\u001b[0m\u001b[0m\n\u001b[0m",
      "\u001b[0;31mTypeError\u001b[0m: unhashable type: 'set'"
     ]
    }
   ],
   "source": [
    "{2,10,{3,1,4}}"
   ]
  },
  {
   "cell_type": "code",
   "execution_count": 12,
   "id": "79be31e7",
   "metadata": {},
   "outputs": [
    {
     "ename": "TypeError",
     "evalue": "unhashable type: 'list'",
     "output_type": "error",
     "traceback": [
      "\u001b[0;31m---------------------------------------------------------------------------\u001b[0m",
      "\u001b[0;31mTypeError\u001b[0m                                 Traceback (most recent call last)",
      "\u001b[0;32m<ipython-input-12-7cf087059bc8>\u001b[0m in \u001b[0;36m<module>\u001b[0;34m\u001b[0m\n\u001b[0;32m----> 1\u001b[0;31m \u001b[0;34m{\u001b[0m\u001b[0;36m2\u001b[0m\u001b[0;34m,\u001b[0m\u001b[0;36m10\u001b[0m\u001b[0;34m,\u001b[0m\u001b[0;34m[\u001b[0m\u001b[0;36m3\u001b[0m\u001b[0;34m,\u001b[0m\u001b[0;36m1\u001b[0m\u001b[0;34m,\u001b[0m\u001b[0;36m4\u001b[0m\u001b[0;34m]\u001b[0m\u001b[0;34m}\u001b[0m\u001b[0;34m\u001b[0m\u001b[0;34m\u001b[0m\u001b[0m\n\u001b[0m",
      "\u001b[0;31mTypeError\u001b[0m: unhashable type: 'list'"
     ]
    }
   ],
   "source": [
    "{2,10,[3,1,4]}"
   ]
  },
  {
   "cell_type": "markdown",
   "id": "67776d55",
   "metadata": {},
   "source": [
    "## Search speed"
   ]
  },
  {
   "cell_type": "markdown",
   "id": "714b2db8",
   "metadata": {},
   "source": [
    "Convert the list to a set.  In a different cell (not the same one with the conversion), time how long it takes to check if 1 is in the set.  Do the same thing for a NumPy array.  Do the same thing for a tuple.  Do the same thing for a range.  (I don't think you can convert from a list to a range, so you will need to make the correct range \"by hand\".)"
   ]
  },
  {
   "cell_type": "code",
   "execution_count": 14,
   "id": "c08328a7",
   "metadata": {},
   "outputs": [],
   "source": [
    "my_set = set(my_list)"
   ]
  },
  {
   "cell_type": "code",
   "execution_count": 15,
   "id": "cdf5a5f5",
   "metadata": {},
   "outputs": [
    {
     "data": {
      "text/plain": [
       "set"
      ]
     },
     "execution_count": 15,
     "metadata": {},
     "output_type": "execute_result"
    }
   ],
   "source": [
    "type(my_set)"
   ]
  },
  {
   "cell_type": "code",
   "execution_count": 16,
   "id": "99c4c280",
   "metadata": {},
   "outputs": [
    {
     "data": {
      "text/plain": [
       "250000"
      ]
     },
     "execution_count": 16,
     "metadata": {},
     "output_type": "execute_result"
    }
   ],
   "source": [
    "len(my_set)"
   ]
  },
  {
   "cell_type": "code",
   "execution_count": 17,
   "id": "2720b412",
   "metadata": {},
   "outputs": [
    {
     "name": "stdout",
     "output_type": "stream",
     "text": [
      "36.8 ns ± 0.085 ns per loop (mean ± std. dev. of 7 runs, 10000000 loops each)\n"
     ]
    }
   ],
   "source": [
    "%%timeit\n",
    "1 in my_set"
   ]
  },
  {
   "cell_type": "code",
   "execution_count": 18,
   "id": "ebd5dc9d",
   "metadata": {},
   "outputs": [],
   "source": [
    "my_tuple = tuple(my_list)"
   ]
  },
  {
   "cell_type": "code",
   "execution_count": 19,
   "id": "77a97552",
   "metadata": {},
   "outputs": [
    {
     "name": "stdout",
     "output_type": "stream",
     "text": [
      "2.58 ms ± 18.6 µs per loop (mean ± std. dev. of 7 runs, 100 loops each)\n"
     ]
    }
   ],
   "source": [
    "%%timeit\n",
    "1 in my_tuple"
   ]
  },
  {
   "cell_type": "code",
   "execution_count": 20,
   "id": "f6bc516d",
   "metadata": {},
   "outputs": [],
   "source": [
    "import numpy as np"
   ]
  },
  {
   "cell_type": "code",
   "execution_count": 21,
   "id": "2ed83d43",
   "metadata": {},
   "outputs": [],
   "source": [
    "my_array = np.array(my_list)"
   ]
  },
  {
   "cell_type": "code",
   "execution_count": 22,
   "id": "9ed31bb7",
   "metadata": {},
   "outputs": [
    {
     "name": "stdout",
     "output_type": "stream",
     "text": [
      "77.1 µs ± 271 ns per loop (mean ± std. dev. of 7 runs, 10000 loops each)\n"
     ]
    }
   ],
   "source": [
    "%%timeit\n",
    "1 in my_array"
   ]
  },
  {
   "cell_type": "code",
   "execution_count": 23,
   "id": "7c8ece55",
   "metadata": {},
   "outputs": [],
   "source": [
    "my_range = range(0,10**6,4)"
   ]
  },
  {
   "cell_type": "code",
   "execution_count": 24,
   "id": "9f4bdd35",
   "metadata": {},
   "outputs": [
    {
     "name": "stdout",
     "output_type": "stream",
     "text": [
      "81.1 ns ± 0.149 ns per loop (mean ± std. dev. of 7 runs, 10000000 loops each)\n"
     ]
    }
   ],
   "source": [
    "%%timeit\n",
    "1 in my_range"
   ]
  },
  {
   "cell_type": "markdown",
   "id": "342ee0e3",
   "metadata": {},
   "source": [
    "## Efficiency for vectorized operations in NumPy"
   ]
  },
  {
   "cell_type": "markdown",
   "id": "75f1eb2c",
   "metadata": {},
   "source": [
    "Make a list and a NumPy array corresponding to `range(10**7)`. Go through and replace all the odd-indexed entries by their reciprocals, so for example, the resulting list would be `[0,1/1,2,1/3,4,1/5,...]`, with the fractions displayed as decimal approximations.  How long does this process take in standard Python vs in NumPy?  Use the `%%time` command, rather than the `%%timeit` command.  (I originally made a mistake and used the `%time` command, but that only times one single line, not the whole cell.)\n",
    "\n",
    "For the NumPy array, make the datatype a float.  (If NumPy thinks the entries are of data type int, and you take their reciprocal, you will get many 0s.)"
   ]
  },
  {
   "cell_type": "code",
   "execution_count": 25,
   "id": "a5bfb30c",
   "metadata": {},
   "outputs": [],
   "source": [
    "my_list = list(range(10**7))"
   ]
  },
  {
   "cell_type": "code",
   "execution_count": 38,
   "id": "ba002310",
   "metadata": {},
   "outputs": [],
   "source": [
    "my_array = np.array(range(10**7),dtype=float)"
   ]
  },
  {
   "cell_type": "code",
   "execution_count": 27,
   "id": "80d98141",
   "metadata": {},
   "outputs": [
    {
     "data": {
      "text/plain": [
       "[0, 1, 2, 3, 4, 5, 6, 7, 8, 9]"
      ]
     },
     "execution_count": 27,
     "metadata": {},
     "output_type": "execute_result"
    }
   ],
   "source": [
    "my_list[:10]"
   ]
  },
  {
   "cell_type": "code",
   "execution_count": 39,
   "id": "d4862bda",
   "metadata": {},
   "outputs": [
    {
     "data": {
      "text/plain": [
       "array([9999990., 9999991., 9999992., 9999993., 9999994., 9999995.,\n",
       "       9999996., 9999997., 9999998., 9999999.])"
      ]
     },
     "execution_count": 39,
     "metadata": {},
     "output_type": "execute_result"
    }
   ],
   "source": [
    "my_array[-10:]"
   ]
  },
  {
   "cell_type": "code",
   "execution_count": 31,
   "id": "e9f2e83a",
   "metadata": {},
   "outputs": [
    {
     "name": "stdout",
     "output_type": "stream",
     "text": [
      "1.16 s ± 7.53 ms per loop (mean ± std. dev. of 7 runs, 1 loop each)\n"
     ]
    }
   ],
   "source": [
    "%%timeit\n",
    "w = []\n",
    "for i in range(len(my_list)):\n",
    "    if i%2 == 0:\n",
    "        w.append(my_list[i])\n",
    "    else:\n",
    "        w.append(1/my_list[i])"
   ]
  },
  {
   "cell_type": "code",
   "execution_count": 30,
   "id": "37f4a950",
   "metadata": {},
   "outputs": [
    {
     "data": {
      "text/plain": [
       "[0,\n",
       " 1.0,\n",
       " 2,\n",
       " 0.3333333333333333,\n",
       " 4,\n",
       " 0.2,\n",
       " 6,\n",
       " 0.14285714285714285,\n",
       " 8,\n",
       " 0.1111111111111111]"
      ]
     },
     "execution_count": 30,
     "metadata": {},
     "output_type": "execute_result"
    }
   ],
   "source": [
    "w[:10]"
   ]
  },
  {
   "cell_type": "code",
   "execution_count": 32,
   "id": "136bdd84",
   "metadata": {},
   "outputs": [
    {
     "data": {
      "text/plain": [
       "array([1, 3, 5, 7, 9])"
      ]
     },
     "execution_count": 32,
     "metadata": {},
     "output_type": "execute_result"
    }
   ],
   "source": [
    "my_array[1:10:2]"
   ]
  },
  {
   "cell_type": "code",
   "execution_count": 35,
   "id": "bf466d06",
   "metadata": {},
   "outputs": [
    {
     "name": "stdout",
     "output_type": "stream",
     "text": [
      "6.36 ms ± 105 µs per loop (mean ± std. dev. of 7 runs, 100 loops each)\n"
     ]
    }
   ],
   "source": [
    "%%timeit\n",
    "my_array[1::2] = 1/my_array[1::2]"
   ]
  },
  {
   "cell_type": "code",
   "execution_count": 36,
   "id": "95af0bbb",
   "metadata": {},
   "outputs": [
    {
     "data": {
      "text/plain": [
       "array([0.        , 1.        , 2.        , 0.33333333, 4.        ,\n",
       "       0.2       , 6.        , 0.14285714, 8.        , 0.11111111])"
      ]
     },
     "execution_count": 36,
     "metadata": {},
     "output_type": "execute_result"
    }
   ],
   "source": [
    "my_array[:10]"
   ]
  },
  {
   "cell_type": "code",
   "execution_count": null,
   "id": "e4195f3a",
   "metadata": {},
   "outputs": [],
   "source": []
  }
 ],
 "metadata": {
  "kernelspec": {
   "display_name": "Python 3",
   "language": "python",
   "name": "python3"
  },
  "language_info": {
   "codemirror_mode": {
    "name": "ipython",
    "version": 3
   },
   "file_extension": ".py",
   "mimetype": "text/x-python",
   "name": "python",
   "nbconvert_exporter": "python",
   "pygments_lexer": "ipython3",
   "version": "3.8.8"
  }
 },
 "nbformat": 4,
 "nbformat_minor": 5
}
