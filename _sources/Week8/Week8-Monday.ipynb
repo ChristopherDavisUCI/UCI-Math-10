{
 "cells": [
  {
   "cell_type": "markdown",
   "id": "2be343ab-08d0-4614-b8b2-43bb68288a7c",
   "metadata": {},
   "source": [
    "# Worksheet on Logistic Regression"
   ]
  },
  {
   "cell_type": "markdown",
   "id": "f2d1d6ff-a24d-4e6d-a9ed-b676eed7e35f",
   "metadata": {},
   "source": [
    "You can download this Jupyter notebook by clicking the download arrow at the top right, and then choosing the `.ipynb` file.\n",
    "\n",
    "In this worksheet, we use logistic regression to try to distinguish between two species of iris (the flower).  This is one of the classic datasets in machine learning.  We will load it from `vega_datasets`, which you may need to install, `pip install vega_datasets`."
   ]
  },
  {
   "cell_type": "markdown",
   "id": "6b2647c7-7a58-4b6d-ad8a-08c9fdd57cc9",
   "metadata": {},
   "source": [
    "## Warm-up example\n",
    "Here is an example of loading the **cars** dataset from `vega_datasets`, and then plotting scatter-plots for all the pairs of numeric columns in that DataFrame."
   ]
  },
  {
   "cell_type": "code",
   "execution_count": null,
   "id": "5e1d8168-7e17-4f08-a0b0-c0c5889a7117",
   "metadata": {},
   "outputs": [],
   "source": [
    "import numpy as np\n",
    "import pandas as pd\n",
    "from pandas.api.types import is_numeric_dtype\n",
    "import altair as alt\n",
    "from vega_datasets import data"
   ]
  },
  {
   "cell_type": "code",
   "execution_count": null,
   "id": "52ad9d2a-2cc9-45b4-8df5-1605dae8e11e",
   "metadata": {},
   "outputs": [],
   "source": [
    "source = data.cars()"
   ]
  },
  {
   "cell_type": "code",
   "execution_count": null,
   "id": "aa562732-1585-4c09-998b-ce42c3029295",
   "metadata": {},
   "outputs": [],
   "source": [
    "num_cols = [c for c in source.columns if is_numeric_dtype(source[c])]\n",
    "num_cols"
   ]
  },
  {
   "cell_type": "code",
   "execution_count": null,
   "id": "fe776947-41fc-478b-8ac4-82977cb00636",
   "metadata": {},
   "outputs": [],
   "source": [
    "alt.Chart(source).mark_circle().encode(\n",
    "    alt.X(alt.repeat(\"column\"), type='quantitative'),\n",
    "    alt.Y(alt.repeat(\"row\"), type='quantitative'),\n",
    "    color='Origin:N'\n",
    ").properties(\n",
    "    width=100,\n",
    "    height=100\n",
    ").repeat(\n",
    "    row=num_cols,\n",
    "    column=num_cols\n",
    ")"
   ]
  },
  {
   "cell_type": "markdown",
   "id": "c0157deb-6dfa-47bd-a337-23cacb82ce98",
   "metadata": {},
   "source": [
    "## Question 1\n",
    "Make the same sort of chart with the **iris** dataset from `vega_datasets`.  The grid should be 4x4."
   ]
  },
  {
   "cell_type": "code",
   "execution_count": null,
   "id": "d5537ab6-273a-4573-89ec-6b39679c4798",
   "metadata": {},
   "outputs": [],
   "source": []
  },
  {
   "cell_type": "markdown",
   "id": "d3eb7052-8ede-4d0c-94be-a6d8ed84cee9",
   "metadata": {},
   "source": [
    "## Question 2\n",
    "How many of each species of iris are included in the dataset? Compute this using `value_counts`."
   ]
  },
  {
   "cell_type": "code",
   "execution_count": null,
   "id": "d1d97d1b-69d1-4dad-a70c-47bcc2fab4b2",
   "metadata": {},
   "outputs": [],
   "source": []
  },
  {
   "cell_type": "markdown",
   "id": "c117806a-6f1b-4ddd-a8db-03e3b9330c12",
   "metadata": {},
   "source": [
    "## Question 3\n",
    "Get the sub-dataframe, say `df_sub`, where the iris species is \"versicolor\" or \"virginica\" (so the length of the DataFrame should be 100).  One nice way to do this is with the `isin` method, which I don't think we've used before.  Probably a more familiar way is to use `|`, meaning \"or\"."
   ]
  },
  {
   "cell_type": "code",
   "execution_count": null,
   "id": "87ae502f-41de-4318-9134-7c372f818526",
   "metadata": {},
   "outputs": [],
   "source": []
  },
  {
   "cell_type": "markdown",
   "id": "10226397-636a-4150-aa55-6dd12fc210ee",
   "metadata": {},
   "source": [
    "## Question 4\n",
    "Fit a LogisticRegression object to this `df_sub` data, using only the two predictors \"sepalLength\" and \"petalLength\" as input variables, and using \"species\" as the target.  You don't need to do any scaling in this case.  (In this case, the units are the same on all the different columns, so it's at least justifiable to compare them without scaling.  That doesn't mean it would be wrong to scale them.)  Find the corresponding classes, coefficients, and intercept.  (There should be two classes, two coefficients, and one intercept.)"
   ]
  },
  {
   "cell_type": "code",
   "execution_count": null,
   "id": "c9c6a2d7-fa4a-4fc5-9951-8876ab62ce07",
   "metadata": {},
   "outputs": [],
   "source": [
    "from sklearn.linear_model import LogisticRegression\n",
    "clf = LogisticRegression()"
   ]
  },
  {
   "cell_type": "code",
   "execution_count": null,
   "id": "6cb2d3ca-9a76-4ea8-976a-bec2ab58b81d",
   "metadata": {},
   "outputs": [],
   "source": [
    "predictors = [\"sepalLength\", \"petalLength\"]"
   ]
  },
  {
   "cell_type": "code",
   "execution_count": null,
   "id": "9759a6e3-2c02-4e4f-ba97-fef0f1805cff",
   "metadata": {},
   "outputs": [],
   "source": []
  },
  {
   "cell_type": "markdown",
   "id": "d8a22a09-b8ad-4d53-9aa9-058e3ed588cc",
   "metadata": {},
   "source": [
    "## Question 5\n",
    "Here is an example of plotting a line on a scatter plot in Altair.  The line is specified by just \"connecting the dots\", in this case between (4,4) and (7,1).\n",
    "\n",
    "Make the following changes to the plot.\n",
    "1. Change from `source` to `df_sub`, so that the \"setosa\" species goes away.\n",
    "2. Change the line so that it corresponds to the \"decision boundary\", where our classifier says that both species are equally likely, according to the coefficients and intercept that was found above."
   ]
  },
  {
   "cell_type": "code",
   "execution_count": null,
   "id": "75525927-03c1-47b9-a4d8-263f7d581033",
   "metadata": {},
   "outputs": [],
   "source": [
    "source = data.iris()\n",
    "\n",
    "point_plot = alt.Chart(source).mark_circle().encode(\n",
    "    x = alt.X(\"sepalLength\",scale=alt.Scale(zero=False)),\n",
    "    y = alt.Y(\"petalLength\",scale=alt.Scale(zero=False)),\n",
    "    color='species'\n",
    ")\n",
    "\n",
    "line_df = pd.DataFrame({\n",
    "    'sepalLength': [4, 7],\n",
    "    'petalLength': [4, 1],\n",
    "})\n",
    "\n",
    "line_plot = alt.Chart(line_df).mark_line(color= 'red').encode(\n",
    "    x= 'sepalLength',\n",
    "    y= 'petalLength',\n",
    ")\n",
    "\n",
    "point_plot + line_plot"
   ]
  },
  {
   "cell_type": "code",
   "execution_count": null,
   "id": "6f5a65b5-6870-44cc-8e8f-8ea14805157f",
   "metadata": {},
   "outputs": [],
   "source": []
  },
  {
   "cell_type": "markdown",
   "id": "cb86bdaf-3e87-44d6-b251-5ddac8b3d400",
   "metadata": {},
   "source": [
    "## Question 6\n",
    "Now find the line where we predict a 90% chance of being in the versicolor species."
   ]
  },
  {
   "cell_type": "code",
   "execution_count": null,
   "id": "b880bd12-3340-43d0-ac63-2bf605f69e67",
   "metadata": {},
   "outputs": [],
   "source": []
  }
 ],
 "metadata": {
  "kernelspec": {
   "display_name": "Python 3 (ipykernel)",
   "language": "python",
   "name": "python3"
  },
  "language_info": {
   "codemirror_mode": {
    "name": "ipython",
    "version": 3
   },
   "file_extension": ".py",
   "mimetype": "text/x-python",
   "name": "python",
   "nbconvert_exporter": "python",
   "pygments_lexer": "ipython3",
   "version": "3.8.8"
  }
 },
 "nbformat": 4,
 "nbformat_minor": 5
}
